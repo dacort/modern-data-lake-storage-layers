{
 "cells": [
  {
   "cell_type": "markdown",
   "id": "e72012e8-29c1-49c4-b38a-b090e59eaa35",
   "metadata": {},
   "source": [
    "# Modern Data Lake Storage Layers - Apache Iceberg"
   ]
  },
  {
   "cell_type": "code",
   "execution_count": null,
   "id": "acf798a4-aab0-4125-99f1-33cbb8cd6a8e",
   "metadata": {
    "tags": []
   },
   "outputs": [],
   "source": [
    "%%configure -f\n",
    "{\n",
    "    \"conf\": {\n",
    "        \"spark.jars\": \"hdfs:///apps/iceberg/lib/iceberg-spark3-runtime.jar\",\n",
    "        \"spark.sql.extensions\":\"org.apache.iceberg.spark.extensions.IcebergSparkSessionExtensions\",\n",
    "        \"spark.sql.catalog.spark_catalog\":\"org.apache.iceberg.spark.SparkCatalog\"\n",
    "    }\n",
    "}"
   ]
  },
  {
   "cell_type": "code",
   "execution_count": null,
   "id": "89b9cba3-937f-4bce-a2eb-6221e7f3ca1b",
   "metadata": {
    "tags": []
   },
   "outputs": [],
   "source": [
    "%env S3_BUCKET_NAME=YOUR_S3_BUCKET_NAME"
   ]
  },
  {
   "cell_type": "code",
   "execution_count": null,
   "id": "43e46dcb-b5f4-446c-a241-daae08321839",
   "metadata": {
    "tags": []
   },
   "outputs": [],
   "source": [
    "S3_BUCKET_NAME=\"YOUR_S3_BUCKET_NAME\"\n",
    "ICEBERG_TABLE_NAME=\"iceberg_demo_001\""
   ]
  },
  {
   "cell_type": "markdown",
   "id": "e98b248d-6b2b-404f-8e77-ad1a84676e14",
   "metadata": {},
   "source": [
    "## The basics of Apache Iceberg\n",
    "\n",
    "Let's use the same approach we used in the Hudi notebook. Note that Iceberg uses a table format so in addition to writing the data to S3, we also need to save it as a table. We'll see what impact that has later.\n",
    "\n",
    "_One important thing to note:_ Typically in Spark `overwrite` mode, the data on S3 gets replaced. However, because we're using a different format (`iceberg`) *and* because Iceberg uses manifest files instead of directory lists, data on S3 is not removed. If you run this notebook multiple times, you'll see additional files show up."
   ]
  },
  {
   "cell_type": "code",
   "execution_count": 4,
   "id": "c4243781-643c-42a9-bab9-5474564249e6",
   "metadata": {
    "execution": {
     "iopub.execute_input": "2022-02-01T19:39:02.301213Z",
     "iopub.status.busy": "2022-02-01T19:39:02.301012Z",
     "iopub.status.idle": "2022-02-01T19:39:11.597931Z",
     "shell.execute_reply": "2022-02-01T19:39:11.597420Z",
     "shell.execute_reply.started": "2022-02-01T19:39:02.301192Z"
    },
    "tags": []
   },
   "outputs": [
    {
     "data": {
      "application/vnd.jupyter.widget-view+json": {
       "model_id": "d02e4435de724f7da5f8aaf63be63b20",
       "version_major": 2,
       "version_minor": 0
      },
      "text/plain": [
       "VBox()"
      ]
     },
     "metadata": {},
     "output_type": "display_data"
    },
    {
     "data": {
      "application/vnd.jupyter.widget-view+json": {
       "model_id": "",
       "version_major": 2,
       "version_minor": 0
      },
      "text/plain": [
       "FloatProgress(value=0.0, bar_style='info', description='Progress:', layout=Layout(height='25px', width='50%'),…"
      ]
     },
     "metadata": {},
     "output_type": "display_data"
    }
   ],
   "source": [
    "# Create a DataFrame\n",
    "inputDF = spark.createDataFrame(\n",
    "    [\n",
    "        (\"100\", \"2015-01-01\", \"2015-01-01T13:51:39.340396Z\"),\n",
    "        (\"101\", \"2015-01-01\", \"2015-01-01T12:14:58.597216Z\"),\n",
    "        (\"102\", \"2015-01-01\", \"2015-01-01T13:51:40.417052Z\"),\n",
    "        (\"103\", \"2015-01-01\", \"2015-01-01T13:51:40.519832Z\"),\n",
    "        (\"104\", \"2015-01-02\", \"2015-01-01T12:15:00.512679Z\"),\n",
    "        (\"105\", \"2015-01-02\", \"2015-01-01T13:51:42.248818Z\"),\n",
    "    ],\n",
    "    [\"id\", \"creation_date\", \"last_update_time\"],\n",
    ")\n",
    "\n",
    "# Write a DataFrame as an Iceberg dataset\n",
    "inputDF.write.format(\"iceberg\").mode(\"overwrite\").partitionBy(\"creation_date\").option(\n",
    "    \"path\", f\"s3://{S3_BUCKET_NAME}/tmp/iceberg/\"\n",
    ").saveAsTable(ICEBERG_TABLE_NAME)"
   ]
  },
  {
   "cell_type": "markdown",
   "id": "118a29d5-0f0f-4bb4-a206-1dee36cdb2f1",
   "metadata": {},
   "source": [
    "Let's take a look in S3."
   ]
  },
  {
   "cell_type": "code",
   "execution_count": 5,
   "id": "377a6938-0de8-4aa4-a81d-605199219f90",
   "metadata": {
    "execution": {
     "iopub.execute_input": "2022-02-01T19:41:30.321258Z",
     "iopub.status.busy": "2022-02-01T19:41:30.321046Z",
     "iopub.status.idle": "2022-02-01T19:41:30.746990Z",
     "shell.execute_reply": "2022-02-01T19:41:30.746404Z",
     "shell.execute_reply.started": "2022-02-01T19:41:30.321235Z"
    },
    "tags": []
   },
   "outputs": [
    {
     "name": "stdout",
     "output_type": "stream",
     "text": [
      "                           PRE data/\n",
      "                           PRE metadata/\n"
     ]
    }
   ],
   "source": [
    "%%sh\n",
    "\n",
    "aws s3 ls s3://${S3_BUCKET_NAME}/tmp/iceberg/"
   ]
  },
  {
   "cell_type": "code",
   "execution_count": 6,
   "id": "b1f88b40-9ab2-479c-8279-37f9aaa09d89",
   "metadata": {
    "execution": {
     "iopub.execute_input": "2022-02-01T19:41:32.802643Z",
     "iopub.status.busy": "2022-02-01T19:41:32.802438Z",
     "iopub.status.idle": "2022-02-01T19:41:33.230317Z",
     "shell.execute_reply": "2022-02-01T19:41:33.229785Z",
     "shell.execute_reply.started": "2022-02-01T19:41:32.802620Z"
    },
    "tags": []
   },
   "outputs": [
    {
     "name": "stdout",
     "output_type": "stream",
     "text": [
      "                           PRE creation_date=2015-01-01/\n",
      "                           PRE creation_date=2015-01-02/\n"
     ]
    }
   ],
   "source": [
    "%%sh\n",
    "\n",
    "aws s3 ls s3://${S3_BUCKET_NAME}/tmp/iceberg/data/"
   ]
  },
  {
   "cell_type": "code",
   "execution_count": 7,
   "id": "67faef15-353b-4423-abaf-9613cf79e514",
   "metadata": {
    "execution": {
     "iopub.execute_input": "2022-02-01T19:41:34.827871Z",
     "iopub.status.busy": "2022-02-01T19:41:34.827662Z",
     "iopub.status.idle": "2022-02-01T19:41:35.268031Z",
     "shell.execute_reply": "2022-02-01T19:41:35.267507Z",
     "shell.execute_reply.started": "2022-02-01T19:41:34.827848Z"
    },
    "tags": []
   },
   "outputs": [
    {
     "name": "stdout",
     "output_type": "stream",
     "text": [
      "2022-02-01 19:39:12       2517 00000-7bf31f4a-f1c6-40d4-beaf-cc9a2620fe3b.metadata.json\n",
      "2022-02-01 19:39:11       6376 599fc94a-4523-445c-bad0-bd5e2e9e6da1-m0.avro\n",
      "2022-02-01 19:39:11       3802 snap-5655796012145429443-1-599fc94a-4523-445c-bad0-bd5e2e9e6da1.avro\n"
     ]
    }
   ],
   "source": [
    "%%sh\n",
    "\n",
    "aws s3 ls s3://${S3_BUCKET_NAME}/tmp/iceberg/metadata/"
   ]
  },
  {
   "cell_type": "markdown",
   "id": "8ccee31a-3daf-4a1e-b460-47ed724a696d",
   "metadata": {},
   "source": [
    "OK, so we can see here we've got two folders in the main `iceberg` folder. Inside the `data` folder we see our two partitions and then we see quite a bit of files in the `metadata` folder including JSON files and some `.avro` files. Let's take a look at everything in S3."
   ]
  },
  {
   "cell_type": "code",
   "execution_count": 8,
   "id": "88dd810b-fbcc-4349-a789-b3e3423edcea",
   "metadata": {
    "execution": {
     "iopub.execute_input": "2022-02-01T19:42:28.855113Z",
     "iopub.status.busy": "2022-02-01T19:42:28.854903Z",
     "iopub.status.idle": "2022-02-01T19:42:29.294317Z",
     "shell.execute_reply": "2022-02-01T19:42:29.293783Z",
     "shell.execute_reply.started": "2022-02-01T19:42:28.855090Z"
    },
    "tags": []
   },
   "outputs": [
    {
     "name": "stdout",
     "output_type": "stream",
     "text": [
      "2022-02-01 19:39:09       1171 tmp/iceberg/data/creation_date=2015-01-01/00002-2-8f202dd6-3220-4e54-8185-5d3c8e5ef4c6-00001.parquet\n",
      "2022-02-01 19:39:09       1171 tmp/iceberg/data/creation_date=2015-01-01/00005-5-78bb818c-b281-452e-abda-1ebea5216409-00001.parquet\n",
      "2022-02-01 19:39:09       1171 tmp/iceberg/data/creation_date=2015-01-01/00007-7-4e5be03d-9b05-4e7f-801c-4a7034f9e2aa-00001.parquet\n",
      "2022-02-01 19:39:09       1171 tmp/iceberg/data/creation_date=2015-01-01/00010-10-e65537ad-f17a-45d3-9ec0-9a9a1eeeb0c4-00001.parquet\n",
      "2022-02-01 19:39:09       1172 tmp/iceberg/data/creation_date=2015-01-02/00013-13-658258b9-d5ec-4834-8e17-168baed72b07-00001.parquet\n",
      "2022-02-01 19:39:09       1172 tmp/iceberg/data/creation_date=2015-01-02/00015-15-62cf174f-1fff-4c5f-a0d7-8170e6722346-00001.parquet\n",
      "2022-02-01 19:39:12       2517 tmp/iceberg/metadata/00000-7bf31f4a-f1c6-40d4-beaf-cc9a2620fe3b.metadata.json\n",
      "2022-02-01 19:39:11       6376 tmp/iceberg/metadata/599fc94a-4523-445c-bad0-bd5e2e9e6da1-m0.avro\n",
      "2022-02-01 19:39:11       3802 tmp/iceberg/metadata/snap-5655796012145429443-1-599fc94a-4523-445c-bad0-bd5e2e9e6da1.avro\n"
     ]
    }
   ],
   "source": [
    "%%sh\n",
    "\n",
    "aws s3 ls s3://${S3_BUCKET_NAME}/tmp/iceberg/ --recursive | tee /tmp/iceberg_op_001"
   ]
  },
  {
   "cell_type": "markdown",
   "id": "957b22e9-5b31-460d-adf3-994e712f796b",
   "metadata": {},
   "source": [
    "One learning I had while setting this up is that there is a new `DataFrameWriterV2` API for writing to tables using data frames. \n",
    "\n",
    "Attempting to use the v1 DataFrame write API resulted in unexpected behavior, partially due to the fact that we also use `saveAsTable`.\n",
    "\n",
    "So whereas with Hudi, all data and metadata is stored in S3, with the default implementation in Iceberg there is both the data on S3 as well as the metadata in the data catalog. Let's see if we can take a look at that...in order to do this, we just take the most recent `metadata.json` file from S3 and read that - we unfortunately can't see the raw Hive data catalog from Spark because we are using the Iceberg SparkSession wrapper."
   ]
  },
  {
   "cell_type": "code",
   "execution_count": 9,
   "id": "1812711c-dfff-4a24-ac8d-5f26ddf8bd50",
   "metadata": {
    "execution": {
     "iopub.execute_input": "2022-02-01T19:42:58.689976Z",
     "iopub.status.busy": "2022-02-01T19:42:58.689760Z",
     "iopub.status.idle": "2022-02-01T19:42:59.129350Z",
     "shell.execute_reply": "2022-02-01T19:42:59.128821Z",
     "shell.execute_reply.started": "2022-02-01T19:42:58.689952Z"
    },
    "tags": []
   },
   "outputs": [
    {
     "name": "stdout",
     "output_type": "stream",
     "text": [
      "00000-7bf31f4a-f1c6-40d4-beaf-cc9a2620fe3b.metadata.json\n"
     ]
    }
   ],
   "source": [
    "%%sh\n",
    "\n",
    "aws s3 ls s3://${S3_BUCKET_NAME}/tmp/iceberg/metadata/ | grep metadata.json | sort | tail -n 1 | tr -s \" \" | cut -d\\  -f4"
   ]
  },
  {
   "cell_type": "code",
   "execution_count": 10,
   "id": "2dc7d2d3-45b8-4d65-95d3-b60393d20bc4",
   "metadata": {
    "execution": {
     "iopub.execute_input": "2022-02-01T19:43:03.048159Z",
     "iopub.status.busy": "2022-02-01T19:43:03.047957Z",
     "iopub.status.idle": "2022-02-01T19:43:12.331513Z",
     "shell.execute_reply": "2022-02-01T19:43:12.331057Z",
     "shell.execute_reply.started": "2022-02-01T19:43:03.048136Z"
    },
    "tags": []
   },
   "outputs": [
    {
     "data": {
      "application/vnd.jupyter.widget-view+json": {
       "model_id": "d7bdb4569c7f4f798cb3b783d07290b9",
       "version_major": 2,
       "version_minor": 0
      },
      "text/plain": [
       "VBox()"
      ]
     },
     "metadata": {},
     "output_type": "display_data"
    },
    {
     "data": {
      "application/vnd.jupyter.widget-view+json": {
       "model_id": "",
       "version_major": 2,
       "version_minor": 0
      },
      "text/plain": [
       "FloatProgress(value=0.0, bar_style='info', description='Progress:', layout=Layout(height='25px', width='50%'),…"
      ]
     },
     "metadata": {},
     "output_type": "display_data"
    },
    {
     "name": "stdout",
     "output_type": "stream",
     "text": [
      "{\n",
      "    \"current-schema-id\": 0,\n",
      "    \"current-snapshot-id\": 5655796012145429443,\n",
      "    \"default-sort-order-id\": 0,\n",
      "    \"default-spec-id\": 0,\n",
      "    \"format-version\": 1,\n",
      "    \"last-column-id\": 3,\n",
      "    \"last-partition-id\": 1000,\n",
      "    \"last-updated-ms\": 1643744351172,\n",
      "    \"location\": \"s3://<BUCKET>/tmp/iceberg/\",\n",
      "    \"metadata-log\": [],\n",
      "    \"partition-spec\": [\n",
      "        {\n",
      "            \"field-id\": 1000,\n",
      "            \"name\": \"creation_date\",\n",
      "            \"source-id\": 2,\n",
      "            \"transform\": \"identity\"\n",
      "        }\n",
      "    ],\n",
      "    \"partition-specs\": [\n",
      "        {\n",
      "            \"fields\": [\n",
      "                {\n",
      "                    \"field-id\": 1000,\n",
      "                    \"name\": \"creation_date\",\n",
      "                    \"source-id\": 2,\n",
      "                    \"transform\": \"identity\"\n",
      "                }\n",
      "            ],\n",
      "            \"spec-id\": 0\n",
      "        }\n",
      "    ],\n",
      "    \"properties\": {\n",
      "        \"owner\": \"livy\"\n",
      "    },\n",
      "    \"schema\": {\n",
      "        \"fields\": [\n",
      "            {\n",
      "                \"id\": 1,\n",
      "                \"name\": \"id\",\n",
      "                \"required\": false,\n",
      "                \"type\": \"string\"\n",
      "            },\n",
      "            {\n",
      "                \"id\": 2,\n",
      "                \"name\": \"creation_date\",\n",
      "                \"required\": false,\n",
      "                \"type\": \"string\"\n",
      "            },\n",
      "            {\n",
      "                \"id\": 3,\n",
      "                \"name\": \"last_update_time\",\n",
      "                \"required\": false,\n",
      "                \"type\": \"string\"\n",
      "            }\n",
      "        ],\n",
      "        \"schema-id\": 0,\n",
      "        \"type\": \"struct\"\n",
      "    },\n",
      "    \"schemas\": [\n",
      "        {\n",
      "            \"fields\": [\n",
      "                {\n",
      "                    \"id\": 1,\n",
      "                    \"name\": \"id\",\n",
      "                    \"required\": false,\n",
      "                    \"type\": \"string\"\n",
      "                },\n",
      "                {\n",
      "                    \"id\": 2,\n",
      "                    \"name\": \"creation_date\",\n",
      "                    \"required\": false,\n",
      "                    \"type\": \"string\"\n",
      "                },\n",
      "                {\n",
      "                    \"id\": 3,\n",
      "                    \"name\": \"last_update_time\",\n",
      "                    \"required\": false,\n",
      "                    \"type\": \"string\"\n",
      "                }\n",
      "            ],\n",
      "            \"schema-id\": 0,\n",
      "            \"type\": \"struct\"\n",
      "        }\n",
      "    ],\n",
      "    \"snapshot-log\": [\n",
      "        {\n",
      "            \"snapshot-id\": 5655796012145429443,\n",
      "            \"timestamp-ms\": 1643744351020\n",
      "        }\n",
      "    ],\n",
      "    \"snapshots\": [\n",
      "        {\n",
      "            \"manifest-list\": \"s3://<BUCKET>/tmp/iceberg/metadata/snap-5655796012145429443-1-599fc94a-4523-445c-bad0-bd5e2e9e6da1.avro\",\n",
      "            \"schema-id\": 0,\n",
      "            \"snapshot-id\": 5655796012145429443,\n",
      "            \"summary\": {\n",
      "                \"added-data-files\": \"6\",\n",
      "                \"added-files-size\": \"7028\",\n",
      "                \"added-records\": \"6\",\n",
      "                \"changed-partition-count\": \"2\",\n",
      "                \"operation\": \"append\",\n",
      "                \"spark.app.id\": \"application_1643738755513_0005\",\n",
      "                \"total-data-files\": \"6\",\n",
      "                \"total-delete-files\": \"0\",\n",
      "                \"total-equality-deletes\": \"0\",\n",
      "                \"total-files-size\": \"7028\",\n",
      "                \"total-position-deletes\": \"0\",\n",
      "                \"total-records\": \"6\"\n",
      "            },\n",
      "            \"timestamp-ms\": 1643744351020\n",
      "        }\n",
      "    ],\n",
      "    \"sort-orders\": [\n",
      "        {\n",
      "            \"fields\": [],\n",
      "            \"order-id\": 0\n",
      "        }\n",
      "    ],\n",
      "    \"table-uuid\": \"a1461d5e-f7a4-4ed1-8e0b-8c4dcaf47420\"\n",
      "}"
     ]
    }
   ],
   "source": [
    "df = spark.read.json(f\"s3://{S3_BUCKET_NAME}/tmp/iceberg/metadata/*.metadata.json\", multiLine=True)\n",
    "\n",
    "recordDF = df.sort(df[\"last-updated-ms\"].desc()).limit(1)\n",
    "recordJSON = recordDF.toJSON().collect()[0]\n",
    "\n",
    "import json\n",
    "print(json.dumps(json.loads(recordJSON.replace(S3_BUCKET_NAME, '<BUCKET>')), indent=4, sort_keys=True))"
   ]
  },
  {
   "attachments": {
    "c931d0fa-a2aa-4a2c-97bf-3e0e8c610dc7.png": {
     "image/png": "[encoded data removed]"
    }
   },
   "cell_type": "markdown",
   "id": "7a61c8ec-8a21-4767-bb03-3b23724a5b4d",
   "metadata": {
    "execution": {
     "iopub.execute_input": "2022-01-20T18:47:03.636687Z",
     "iopub.status.busy": "2022-01-20T18:47:03.636473Z",
     "iopub.status.idle": "2022-01-20T18:47:04.190922Z",
     "shell.execute_reply": "2022-01-20T18:47:04.190378Z",
     "shell.execute_reply.started": "2022-01-20T18:47:03.636665Z"
    },
    "tags": []
   },
   "source": [
    "OK, so there is a *lot* of data in here. Let's pick out just a few things:\n",
    "\n",
    "- `location` - This is the location of the data files on S3.\n",
    "- `schemas` - Shows different schemas for this table - Iceberg supports [schema evolution](https://iceberg.apache.org/#evolution#schema-evolution).\n",
    "- `snapshots` - This is a list of data files that make up the table's contents at the time of the snapshot. It includes a `manifest-list` that is a single file that stores the manifests that make up table snapshot. Those manifests list a subset of the data files themselves.\n",
    "\n",
    "Keep in mind that one of the motivators for Iceberg was the ability to manage huge (petabyte-scale) tables in cloud object stores. Partition management, schema evolution, and consistency/atomicity are all challenges at scale and this manifest approach is a core part of the design to address those challenges\n",
    "\n",
    "The [Iceberg spec](https://iceberg.apache.org/#spec) has a great image that illustrates this:\n",
    "\n",
    "<img src=\"attachment:c931d0fa-a2aa-4a2c-97bf-3e0e8c610dc7.png\" width=\"500\"/>\n",
    "\n",
    "Let's also see if we can peak into that `avro` manifest list file."
   ]
  },
  {
   "cell_type": "code",
   "execution_count": 11,
   "id": "8d021009-8656-46ab-8411-d5ffcb7bcadc",
   "metadata": {
    "execution": {
     "iopub.execute_input": "2022-02-01T19:46:17.938927Z",
     "iopub.status.busy": "2022-02-01T19:46:17.938728Z",
     "iopub.status.idle": "2022-02-01T19:46:25.208176Z",
     "shell.execute_reply": "2022-02-01T19:46:25.207731Z",
     "shell.execute_reply.started": "2022-02-01T19:46:17.938906Z"
    },
    "tags": []
   },
   "outputs": [
    {
     "data": {
      "application/vnd.jupyter.widget-view+json": {
       "model_id": "1746d92c6c0943adbca9834bdae5d137",
       "version_major": 2,
       "version_minor": 0
      },
      "text/plain": [
       "VBox()"
      ]
     },
     "metadata": {},
     "output_type": "display_data"
    },
    {
     "data": {
      "application/vnd.jupyter.widget-view+json": {
       "model_id": "",
       "version_major": 2,
       "version_minor": 0
      },
      "text/plain": [
       "FloatProgress(value=0.0, bar_style='info', description='Progress:', layout=Layout(height='25px', width='50%'),…"
      ]
     },
     "metadata": {},
     "output_type": "display_data"
    },
    {
     "name": "stdout",
     "output_type": "stream",
     "text": [
      "+-------------------------------------------------------------------------------+---------------+-----------------+-------------------+----------------------+-------------------------+------------------------+----------------------------------------+----------------+-------------------+------------------+\n",
      "|manifest_path                                                                  |manifest_length|partition_spec_id|added_snapshot_id  |added_data_files_count|existing_data_files_count|deleted_data_files_count|partitions                              |added_rows_count|existing_rows_count|deleted_rows_count|\n",
      "+-------------------------------------------------------------------------------+---------------+-----------------+-------------------+----------------------+-------------------------+------------------------+----------------------------------------+----------------+-------------------+------------------+\n",
      "|s3://<BUCKET>/tmp/iceberg/metadata/599fc94a-4523-445c-bad0-bd5e2e9e6da1-m0.avro|6376           |0                |5655796012145429443|6                     |0                        |0                       |[{false, false, 2015-01-01, 2015-01-02}]|6               |0                  |0                 |\n",
      "+-------------------------------------------------------------------------------+---------------+-----------------+-------------------+----------------------+-------------------------+------------------------+----------------------------------------+----------------+-------------------+------------------+"
     ]
    }
   ],
   "source": [
    "from pyspark.sql.functions import regexp_replace\n",
    "\n",
    "\n",
    "manifest_list_file = recordDF.collect()[0].asDict().get('snapshots')[0]['manifest-list']\n",
    "\n",
    "mfListDF = spark.read.format(\"avro\").load(manifest_list_file)\n",
    "mfListDF.withColumn(\"manifest_path\", regexp_replace('manifest_path', S3_BUCKET_NAME, '<BUCKET>')).show(truncate=False)"
   ]
  },
  {
   "cell_type": "markdown",
   "id": "4afca32e-0b61-4907-8c9a-4173cff4697b",
   "metadata": {},
   "source": [
    "Interesting - so this manifest list file gives us different `manifest_path`s and information about them including rows added/deleted and partitions in the file. This is starting to make sense because one can now see how Iceberg would query the `manifest-list` file to filter down the location of manifests based on things like partitions. And if you have 10s of thousands of partitions...being able to filter ahead of time as opposed to list keys in your cloud storage is much more efficient.\n",
    "\n",
    "Let's also take a quick peek inside an actual manifest file."
   ]
  },
  {
   "cell_type": "code",
   "execution_count": 12,
   "id": "61a08dcd-5494-4250-b5e5-a6a767495d02",
   "metadata": {
    "execution": {
     "iopub.execute_input": "2022-02-01T19:46:52.472827Z",
     "iopub.status.busy": "2022-02-01T19:46:52.472620Z",
     "iopub.status.idle": "2022-02-01T19:46:53.221639Z",
     "shell.execute_reply": "2022-02-01T19:46:53.221067Z",
     "shell.execute_reply.started": "2022-02-01T19:46:52.472806Z"
    },
    "tags": []
   },
   "outputs": [
    {
     "data": {
      "application/vnd.jupyter.widget-view+json": {
       "model_id": "9abcf68582fd44f395da9d9fbcc1fe5f",
       "version_major": 2,
       "version_minor": 0
      },
      "text/plain": [
       "VBox()"
      ]
     },
     "metadata": {},
     "output_type": "display_data"
    },
    {
     "data": {
      "application/vnd.jupyter.widget-view+json": {
       "model_id": "",
       "version_major": 2,
       "version_minor": 0
      },
      "text/plain": [
       "FloatProgress(value=0.0, bar_style='info', description='Progress:', layout=Layout(height='25px', width='50%'),…"
      ]
     },
     "metadata": {},
     "output_type": "display_data"
    },
    {
     "name": "stdout",
     "output_type": "stream",
     "text": [
      "+------+-------------------+--------------------------------------------------------------------------------------------------------------------------------------------------------------------------------------------------------------------------------------------------------------------------------------------------------------------------------------------------------------------------+\n",
      "|status|snapshot_id        |data_file                                                                                                                                                                                                                                                                                                                                                                 |\n",
      "+------+-------------------+--------------------------------------------------------------------------------------------------------------------------------------------------------------------------------------------------------------------------------------------------------------------------------------------------------------------------------------------------------------------------+\n",
      "|1     |5655796012145429443|{s3://<BUCKET>/tmp/iceberg/data/creation_date=2015-01-01/00002-2-8f202dd6-3220-4e54-8185-5d3c8e5ef4c6-00001.parquet, PARQUET, {2015-01-01}, 1, 1171, 67108864, [{1, 54}, {2, 60}, {3, 77}], [{1, 1}, {2, 1}, {3, 1}], [{1, 0}, {2, 0}, {3, 0}], [], [{1, 100}, {2, 2015-01-01}, {3, 2015-01-01T13:51}], [{1, 100}, {2, 2015-01-01}, {3, 2015-01-01T13:52}], null, [4], 0} |\n",
      "|1     |5655796012145429443|{s3://<BUCKET>/tmp/iceberg/data/creation_date=2015-01-01/00005-5-78bb818c-b281-452e-abda-1ebea5216409-00001.parquet, PARQUET, {2015-01-01}, 1, 1171, 67108864, [{1, 54}, {2, 60}, {3, 77}], [{1, 1}, {2, 1}, {3, 1}], [{1, 0}, {2, 0}, {3, 0}], [], [{1, 101}, {2, 2015-01-01}, {3, 2015-01-01T12:14}], [{1, 101}, {2, 2015-01-01}, {3, 2015-01-01T12:15}], null, [4], 0} |\n",
      "|1     |5655796012145429443|{s3://<BUCKET>/tmp/iceberg/data/creation_date=2015-01-01/00007-7-4e5be03d-9b05-4e7f-801c-4a7034f9e2aa-00001.parquet, PARQUET, {2015-01-01}, 1, 1171, 67108864, [{1, 54}, {2, 60}, {3, 77}], [{1, 1}, {2, 1}, {3, 1}], [{1, 0}, {2, 0}, {3, 0}], [], [{1, 102}, {2, 2015-01-01}, {3, 2015-01-01T13:51}], [{1, 102}, {2, 2015-01-01}, {3, 2015-01-01T13:52}], null, [4], 0} |\n",
      "|1     |5655796012145429443|{s3://<BUCKET>/tmp/iceberg/data/creation_date=2015-01-01/00010-10-e65537ad-f17a-45d3-9ec0-9a9a1eeeb0c4-00001.parquet, PARQUET, {2015-01-01}, 1, 1171, 67108864, [{1, 54}, {2, 60}, {3, 77}], [{1, 1}, {2, 1}, {3, 1}], [{1, 0}, {2, 0}, {3, 0}], [], [{1, 103}, {2, 2015-01-01}, {3, 2015-01-01T13:51}], [{1, 103}, {2, 2015-01-01}, {3, 2015-01-01T13:52}], null, [4], 0}|\n",
      "|1     |5655796012145429443|{s3://<BUCKET>/tmp/iceberg/data/creation_date=2015-01-02/00013-13-658258b9-d5ec-4834-8e17-168baed72b07-00001.parquet, PARQUET, {2015-01-02}, 1, 1172, 67108864, [{1, 54}, {2, 61}, {3, 77}], [{1, 1}, {2, 1}, {3, 1}], [{1, 0}, {2, 0}, {3, 0}], [], [{1, 104}, {2, 2015-01-02}, {3, 2015-01-01T12:15}], [{1, 104}, {2, 2015-01-02}, {3, 2015-01-01T12:16}], null, [4], 0}|\n",
      "|1     |5655796012145429443|{s3://<BUCKET>/tmp/iceberg/data/creation_date=2015-01-02/00015-15-62cf174f-1fff-4c5f-a0d7-8170e6722346-00001.parquet, PARQUET, {2015-01-02}, 1, 1172, 67108864, [{1, 54}, {2, 61}, {3, 77}], [{1, 1}, {2, 1}, {3, 1}], [{1, 0}, {2, 0}, {3, 0}], [], [{1, 105}, {2, 2015-01-02}, {3, 2015-01-01T13:51}], [{1, 105}, {2, 2015-01-02}, {3, 2015-01-01T13:52}], null, [4], 0}|\n",
      "+------+-------------------+--------------------------------------------------------------------------------------------------------------------------------------------------------------------------------------------------------------------------------------------------------------------------------------------------------------------------------------------------------------------------+\n",
      "\n",
      "root\n",
      " |-- status: integer (nullable = true)\n",
      " |-- snapshot_id: long (nullable = true)\n",
      " |-- data_file: struct (nullable = true)\n",
      " |    |-- file_path: string (nullable = true)\n",
      " |    |-- file_format: string (nullable = true)\n",
      " |    |-- partition: struct (nullable = true)\n",
      " |    |    |-- creation_date: string (nullable = true)\n",
      " |    |-- record_count: long (nullable = true)\n",
      " |    |-- file_size_in_bytes: long (nullable = true)\n",
      " |    |-- block_size_in_bytes: long (nullable = true)\n",
      " |    |-- column_sizes: array (nullable = true)\n",
      " |    |    |-- element: struct (containsNull = true)\n",
      " |    |    |    |-- key: integer (nullable = true)\n",
      " |    |    |    |-- value: long (nullable = true)\n",
      " |    |-- value_counts: array (nullable = true)\n",
      " |    |    |-- element: struct (containsNull = true)\n",
      " |    |    |    |-- key: integer (nullable = true)\n",
      " |    |    |    |-- value: long (nullable = true)\n",
      " |    |-- null_value_counts: array (nullable = true)\n",
      " |    |    |-- element: struct (containsNull = true)\n",
      " |    |    |    |-- key: integer (nullable = true)\n",
      " |    |    |    |-- value: long (nullable = true)\n",
      " |    |-- nan_value_counts: array (nullable = true)\n",
      " |    |    |-- element: struct (containsNull = true)\n",
      " |    |    |    |-- key: integer (nullable = true)\n",
      " |    |    |    |-- value: long (nullable = true)\n",
      " |    |-- lower_bounds: array (nullable = true)\n",
      " |    |    |-- element: struct (containsNull = true)\n",
      " |    |    |    |-- key: integer (nullable = true)\n",
      " |    |    |    |-- value: binary (nullable = true)\n",
      " |    |-- upper_bounds: array (nullable = true)\n",
      " |    |    |-- element: struct (containsNull = true)\n",
      " |    |    |    |-- key: integer (nullable = true)\n",
      " |    |    |    |-- value: binary (nullable = true)\n",
      " |    |-- key_metadata: binary (nullable = true)\n",
      " |    |-- split_offsets: array (nullable = true)\n",
      " |    |    |-- element: long (containsNull = true)\n",
      " |    |-- sort_order_id: integer (nullable = true)"
     ]
    }
   ],
   "source": [
    "import pyspark.sql.functions as f\n",
    "\n",
    "\n",
    "manifest_path = mfListDF.limit(1).collect()[0].manifest_path\n",
    "\n",
    "mfDF = spark.read.format(\"avro\").load(manifest_path)\n",
    "mfDF.withColumn(\"data_file\", f.col(\"data_file\").withField(\"file_path\", regexp_replace('data_file.file_path', S3_BUCKET_NAME, '<BUCKET>'))).show(truncate=False)\n",
    "\n",
    "mfDF.printSchema()"
   ]
  },
  {
   "cell_type": "markdown",
   "id": "9b93f588-64b1-4146-94b8-8c62dfa4bc3f",
   "metadata": {},
   "source": [
    "In addition to the actual data, it's helpful to look at the schema here as well. We can see that there is *so* much data in the manifest file including information about record counts, upper/lower bounds, and partitions.\n",
    "\n",
    "## Updating Data\n",
    "\n",
    "Ok, now that we have a good understanding of how data is written initially - let's see what happens when we update a record.\n",
    "\n",
    "While I tried, I wasn't able to figure out how to do this with native Spark DataFrames so ended up using Spark SQL instead. This is also partially because I'm updating the partition field - if you were updating a different attribute, I think it might work."
   ]
  },
  {
   "cell_type": "code",
   "execution_count": 13,
   "id": "c0cb4902-3a37-4d33-85c8-f9206fe88bd3",
   "metadata": {
    "execution": {
     "iopub.execute_input": "2022-02-01T19:48:48.544337Z",
     "iopub.status.busy": "2022-02-01T19:48:48.544124Z",
     "iopub.status.idle": "2022-02-01T19:48:53.810784Z",
     "shell.execute_reply": "2022-02-01T19:48:53.810342Z",
     "shell.execute_reply.started": "2022-02-01T19:48:48.544315Z"
    },
    "tags": []
   },
   "outputs": [
    {
     "data": {
      "application/vnd.jupyter.widget-view+json": {
       "model_id": "8b8e21e7fb9e4a069d576f8bc65b50af",
       "version_major": 2,
       "version_minor": 0
      },
      "text/plain": [
       "VBox()"
      ]
     },
     "metadata": {},
     "output_type": "display_data"
    },
    {
     "data": {
      "application/vnd.jupyter.widget-view+json": {
       "model_id": "",
       "version_major": 2,
       "version_minor": 0
      },
      "text/plain": [
       "FloatProgress(value=0.0, bar_style='info', description='Progress:', layout=Layout(height='25px', width='50%'),…"
      ]
     },
     "metadata": {},
     "output_type": "display_data"
    },
    {
     "name": "stdout",
     "output_type": "stream",
     "text": [
      "+---+-------------+--------------------+\n",
      "| id|creation_date|    last_update_time|\n",
      "+---+-------------+--------------------+\n",
      "|100|   2022-01-11|2015-01-01T13:51:...|\n",
      "+---+-------------+--------------------+"
     ]
    }
   ],
   "source": [
    "from pyspark.sql.functions import lit\n",
    "\n",
    "# Create a new DataFrame from the first row of inputDF with a different creation_date value\n",
    "updateDF = inputDF.where(\"id = 100\").withColumn(\"creation_date\", lit(\"2022-01-11\"))\n",
    "updateDF.show()\n",
    "\n",
    "# Leaving my attempt at overwriting with the dataframe here for posterity\n",
    "# updateDF.write.format(\"iceberg\").mode(\"overwrite\").option(\"overwrite-mode\", \"dynamic\").partitionBy(\"creation_date\").save(ICEBERG_TABLE_NAME)"
   ]
  },
  {
   "cell_type": "code",
   "execution_count": 14,
   "id": "69341739-2a92-4dfc-8e34-6a087b596fb3",
   "metadata": {
    "execution": {
     "iopub.execute_input": "2022-02-01T19:49:19.450359Z",
     "iopub.status.busy": "2022-02-01T19:49:19.450153Z",
     "iopub.status.idle": "2022-02-01T19:49:24.720321Z",
     "shell.execute_reply": "2022-02-01T19:49:24.719864Z",
     "shell.execute_reply.started": "2022-02-01T19:49:19.450337Z"
    },
    "tags": []
   },
   "outputs": [
    {
     "data": {
      "application/vnd.jupyter.widget-view+json": {
       "model_id": "dc1b8a3ce332459d93d5ed2116f243b9",
       "version_major": 2,
       "version_minor": 0
      },
      "text/plain": [
       "VBox()"
      ]
     },
     "metadata": {},
     "output_type": "display_data"
    },
    {
     "data": {
      "application/vnd.jupyter.widget-view+json": {
       "model_id": "",
       "version_major": 2,
       "version_minor": 0
      },
      "text/plain": [
       "FloatProgress(value=0.0, bar_style='info', description='Progress:', layout=Layout(height='25px', width='50%'),…"
      ]
     },
     "metadata": {},
     "output_type": "display_data"
    },
    {
     "name": "stdout",
     "output_type": "stream",
     "text": [
      "DataFrame[]"
     ]
    }
   ],
   "source": [
    "spark.sql(f\"UPDATE {ICEBERG_TABLE_NAME} SET creation_date = '2022-01-11' WHERE id = 100\")"
   ]
  },
  {
   "cell_type": "markdown",
   "id": "229a4ca8-a383-4f94-b202-6732afeffe5f",
   "metadata": {},
   "source": [
    "First, we'll look at S3 again."
   ]
  },
  {
   "cell_type": "code",
   "execution_count": 15,
   "id": "e5a1d00b-f6c4-477e-aa15-51b7af766de9",
   "metadata": {
    "execution": {
     "iopub.execute_input": "2022-02-01T19:49:27.609243Z",
     "iopub.status.busy": "2022-02-01T19:49:27.609045Z",
     "iopub.status.idle": "2022-02-01T19:49:28.069427Z",
     "shell.execute_reply": "2022-02-01T19:49:28.068877Z",
     "shell.execute_reply.started": "2022-02-01T19:49:27.609223Z"
    },
    "tags": []
   },
   "outputs": [
    {
     "name": "stdout",
     "output_type": "stream",
     "text": [
      "--- /tmp/iceberg_op_001\t2022-02-01 19:42:29.254692361 +0000\n",
      "+++ /tmp/iceberg_op_002\t2022-02-01 19:49:28.022200062 +0000\n",
      "@@ -4,6 +4,11 @@\n",
      " 2022-02-01 19:39:09       1171 tmp/iceberg/data/creation_date=2015-01-01/00010-10-e65537ad-f17a-45d3-9ec0-9a9a1eeeb0c4-00001.parquet\n",
      " 2022-02-01 19:39:09       1172 tmp/iceberg/data/creation_date=2015-01-02/00013-13-658258b9-d5ec-4834-8e17-168baed72b07-00001.parquet\n",
      " 2022-02-01 19:39:09       1172 tmp/iceberg/data/creation_date=2015-01-02/00015-15-62cf174f-1fff-4c5f-a0d7-8170e6722346-00001.parquet\n",
      "+2022-02-01 19:49:24       1171 tmp/iceberg/data/creation_date=2022-01-11/00000-40-ea399986-587e-41d8-ab4c-89c69f2a3112-00001.parquet\n",
      " 2022-02-01 19:39:12       2517 tmp/iceberg/metadata/00000-7bf31f4a-f1c6-40d4-beaf-cc9a2620fe3b.metadata.json\n",
      "+2022-02-01 19:49:24       3696 tmp/iceberg/metadata/00001-ea6c6f52-3dca-4aea-a0f0-c941b3d499b6.metadata.json\n",
      " 2022-02-01 19:39:11       6376 tmp/iceberg/metadata/599fc94a-4523-445c-bad0-bd5e2e9e6da1-m0.avro\n",
      "+2022-02-01 19:49:24       6396 tmp/iceberg/metadata/fd493887-b82b-4529-bd20-150805540362-m0.avro\n",
      "+2022-02-01 19:49:24       6164 tmp/iceberg/metadata/fd493887-b82b-4529-bd20-150805540362-m1.avro\n",
      " 2022-02-01 19:39:11       3802 tmp/iceberg/metadata/snap-5655796012145429443-1-599fc94a-4523-445c-bad0-bd5e2e9e6da1.avro\n",
      "+2022-02-01 19:49:24       3848 tmp/iceberg/metadata/snap-5884609264843258274-1-fd493887-b82b-4529-bd20-150805540362.avro\n"
     ]
    }
   ],
   "source": [
    "%%sh\n",
    "\n",
    "aws s3 ls s3://${S3_BUCKET_NAME}/tmp/iceberg/ --recursive > /tmp/iceberg_op_002\n",
    "diff -u /tmp/iceberg_op_001 /tmp/iceberg_op_002 || true"
   ]
  },
  {
   "cell_type": "markdown",
   "id": "a63902e3-eca1-4022-9d95-abcff1f9e283",
   "metadata": {},
   "source": [
    "We can see that we have:\n",
    "- 2 new `.parquet` data files\n",
    "- 1 new `metadata.json` file\n",
    "- 2 new `.avro` manifest files\n",
    "- 1 new `snap-*.avro` manifest list\n",
    "\n",
    "Let's take a look at the metadata and manifest files again."
   ]
  },
  {
   "cell_type": "code",
   "execution_count": 16,
   "id": "6cec5de6-4a35-4386-a061-b89c13695dc5",
   "metadata": {
    "execution": {
     "iopub.execute_input": "2022-02-01T19:51:07.166432Z",
     "iopub.status.busy": "2022-02-01T19:51:07.166228Z",
     "iopub.status.idle": "2022-02-01T19:51:16.443899Z",
     "shell.execute_reply": "2022-02-01T19:51:16.443464Z",
     "shell.execute_reply.started": "2022-02-01T19:51:07.166409Z"
    },
    "tags": []
   },
   "outputs": [
    {
     "data": {
      "application/vnd.jupyter.widget-view+json": {
       "model_id": "22273581170b4d39840fa7b5cb1d1a15",
       "version_major": 2,
       "version_minor": 0
      },
      "text/plain": [
       "VBox()"
      ]
     },
     "metadata": {},
     "output_type": "display_data"
    },
    {
     "data": {
      "application/vnd.jupyter.widget-view+json": {
       "model_id": "",
       "version_major": 2,
       "version_minor": 0
      },
      "text/plain": [
       "FloatProgress(value=0.0, bar_style='info', description='Progress:', layout=Layout(height='25px', width='50%'),…"
      ]
     },
     "metadata": {},
     "output_type": "display_data"
    },
    {
     "name": "stdout",
     "output_type": "stream",
     "text": [
      "{\n",
      "    \"current-schema-id\": 0,\n",
      "    \"current-snapshot-id\": 5884609264843258274,\n",
      "    \"default-sort-order-id\": 0,\n",
      "    \"default-spec-id\": 0,\n",
      "    \"format-version\": 1,\n",
      "    \"last-column-id\": 3,\n",
      "    \"last-partition-id\": 1000,\n",
      "    \"last-updated-ms\": 1643744963721,\n",
      "    \"location\": \"s3://<BUCKET>/tmp/iceberg/\",\n",
      "    \"metadata-log\": [\n",
      "        {\n",
      "            \"metadata-file\": \"s3://<BUCKET>/tmp/iceberg/metadata/00000-7bf31f4a-f1c6-40d4-beaf-cc9a2620fe3b.metadata.json\",\n",
      "            \"timestamp-ms\": 1643744351172\n",
      "        }\n",
      "    ],\n",
      "    \"partition-spec\": [\n",
      "        {\n",
      "            \"field-id\": 1000,\n",
      "            \"name\": \"creation_date\",\n",
      "            \"source-id\": 2,\n",
      "            \"transform\": \"identity\"\n",
      "        }\n",
      "    ],\n",
      "    \"partition-specs\": [\n",
      "        {\n",
      "            \"fields\": [\n",
      "                {\n",
      "                    \"field-id\": 1000,\n",
      "                    \"name\": \"creation_date\",\n",
      "                    \"source-id\": 2,\n",
      "                    \"transform\": \"identity\"\n",
      "                }\n",
      "            ],\n",
      "            \"spec-id\": 0\n",
      "        }\n",
      "    ],\n",
      "    \"properties\": {\n",
      "        \"owner\": \"livy\"\n",
      "    },\n",
      "    \"schema\": {\n",
      "        \"fields\": [\n",
      "            {\n",
      "                \"id\": 1,\n",
      "                \"name\": \"id\",\n",
      "                \"required\": false,\n",
      "                \"type\": \"string\"\n",
      "            },\n",
      "            {\n",
      "                \"id\": 2,\n",
      "                \"name\": \"creation_date\",\n",
      "                \"required\": false,\n",
      "                \"type\": \"string\"\n",
      "            },\n",
      "            {\n",
      "                \"id\": 3,\n",
      "                \"name\": \"last_update_time\",\n",
      "                \"required\": false,\n",
      "                \"type\": \"string\"\n",
      "            }\n",
      "        ],\n",
      "        \"schema-id\": 0,\n",
      "        \"type\": \"struct\"\n",
      "    },\n",
      "    \"schemas\": [\n",
      "        {\n",
      "            \"fields\": [\n",
      "                {\n",
      "                    \"id\": 1,\n",
      "                    \"name\": \"id\",\n",
      "                    \"required\": false,\n",
      "                    \"type\": \"string\"\n",
      "                },\n",
      "                {\n",
      "                    \"id\": 2,\n",
      "                    \"name\": \"creation_date\",\n",
      "                    \"required\": false,\n",
      "                    \"type\": \"string\"\n",
      "                },\n",
      "                {\n",
      "                    \"id\": 3,\n",
      "                    \"name\": \"last_update_time\",\n",
      "                    \"required\": false,\n",
      "                    \"type\": \"string\"\n",
      "                }\n",
      "            ],\n",
      "            \"schema-id\": 0,\n",
      "            \"type\": \"struct\"\n",
      "        }\n",
      "    ],\n",
      "    \"snapshot-log\": [\n",
      "        {\n",
      "            \"snapshot-id\": 5655796012145429443,\n",
      "            \"timestamp-ms\": 1643744351020\n",
      "        },\n",
      "        {\n",
      "            \"snapshot-id\": 5884609264843258274,\n",
      "            \"timestamp-ms\": 1643744963721\n",
      "        }\n",
      "    ],\n",
      "    \"snapshots\": [\n",
      "        {\n",
      "            \"manifest-list\": \"s3://<BUCKET>/tmp/iceberg/metadata/snap-5655796012145429443-1-599fc94a-4523-445c-bad0-bd5e2e9e6da1.avro\",\n",
      "            \"schema-id\": 0,\n",
      "            \"snapshot-id\": 5655796012145429443,\n",
      "            \"summary\": {\n",
      "                \"added-data-files\": \"6\",\n",
      "                \"added-files-size\": \"7028\",\n",
      "                \"added-records\": \"6\",\n",
      "                \"changed-partition-count\": \"2\",\n",
      "                \"operation\": \"append\",\n",
      "                \"spark.app.id\": \"application_1643738755513_0005\",\n",
      "                \"total-data-files\": \"6\",\n",
      "                \"total-delete-files\": \"0\",\n",
      "                \"total-equality-deletes\": \"0\",\n",
      "                \"total-files-size\": \"7028\",\n",
      "                \"total-position-deletes\": \"0\",\n",
      "                \"total-records\": \"6\"\n",
      "            },\n",
      "            \"timestamp-ms\": 1643744351020\n",
      "        },\n",
      "        {\n",
      "            \"manifest-list\": \"s3://<BUCKET>/tmp/iceberg/metadata/snap-5884609264843258274-1-fd493887-b82b-4529-bd20-150805540362.avro\",\n",
      "            \"parent-snapshot-id\": 5655796012145429443,\n",
      "            \"schema-id\": 0,\n",
      "            \"snapshot-id\": 5884609264843258274,\n",
      "            \"summary\": {\n",
      "                \"added-data-files\": \"1\",\n",
      "                \"added-files-size\": \"1171\",\n",
      "                \"added-records\": \"1\",\n",
      "                \"changed-partition-count\": \"2\",\n",
      "                \"deleted-data-files\": \"1\",\n",
      "                \"deleted-records\": \"1\",\n",
      "                \"operation\": \"overwrite\",\n",
      "                \"removed-files-size\": \"1171\",\n",
      "                \"spark.app.id\": \"application_1643738755513_0005\",\n",
      "                \"total-data-files\": \"6\",\n",
      "                \"total-delete-files\": \"0\",\n",
      "                \"total-equality-deletes\": \"0\",\n",
      "                \"total-files-size\": \"7028\",\n",
      "                \"total-position-deletes\": \"0\",\n",
      "                \"total-records\": \"6\"\n",
      "            },\n",
      "            \"timestamp-ms\": 1643744963721\n",
      "        }\n",
      "    ],\n",
      "    \"sort-orders\": [\n",
      "        {\n",
      "            \"fields\": [],\n",
      "            \"order-id\": 0\n",
      "        }\n",
      "    ],\n",
      "    \"table-uuid\": \"a1461d5e-f7a4-4ed1-8e0b-8c4dcaf47420\"\n",
      "}"
     ]
    }
   ],
   "source": [
    "df = spark.read.json(f\"s3://{S3_BUCKET_NAME}/tmp/iceberg/metadata/*.metadata.json\", multiLine=True)\n",
    "recordDF = df.sort(df[\"last-updated-ms\"].desc()).limit(1)\n",
    "recordJSON = recordDF.toJSON().collect()[0]\n",
    "import json\n",
    "print(json.dumps(json.loads(recordJSON.replace(S3_BUCKET_NAME, '<BUCKET>')), indent=4, sort_keys=True))"
   ]
  },
  {
   "cell_type": "markdown",
   "id": "b4de344b-c158-4190-a79d-b514942e8bfe",
   "metadata": {},
   "source": [
    "We now have an additional \"snapshot\" with a new `manifest-list`. It even tells us that this snapshot had 1 `added-data-files` and 1 `added-records`, _as well as_ **2** `changed-partition-count` and 1 `deleted-records`!"
   ]
  },
  {
   "cell_type": "code",
   "execution_count": 17,
   "id": "0b814aad-bde7-473b-bde9-5ef6d3ec0c4c",
   "metadata": {
    "execution": {
     "iopub.execute_input": "2022-02-01T19:52:27.970974Z",
     "iopub.status.busy": "2022-02-01T19:52:27.970773Z",
     "iopub.status.idle": "2022-02-01T19:52:35.240484Z",
     "shell.execute_reply": "2022-02-01T19:52:35.240008Z",
     "shell.execute_reply.started": "2022-02-01T19:52:27.970952Z"
    },
    "tags": []
   },
   "outputs": [
    {
     "data": {
      "application/vnd.jupyter.widget-view+json": {
       "model_id": "d2726082f3ab4d23807afb824834f6d9",
       "version_major": 2,
       "version_minor": 0
      },
      "text/plain": [
       "VBox()"
      ]
     },
     "metadata": {},
     "output_type": "display_data"
    },
    {
     "data": {
      "application/vnd.jupyter.widget-view+json": {
       "model_id": "",
       "version_major": 2,
       "version_minor": 0
      },
      "text/plain": [
       "FloatProgress(value=0.0, bar_style='info', description='Progress:', layout=Layout(height='25px', width='50%'),…"
      ]
     },
     "metadata": {},
     "output_type": "display_data"
    },
    {
     "name": "stdout",
     "output_type": "stream",
     "text": [
      "+-------------------------------------------------------------------------------+---------------+-----------------+-------------------+----------------------+-------------------------+------------------------+----------------------------------------+----------------+-------------------+------------------+\n",
      "|manifest_path                                                                  |manifest_length|partition_spec_id|added_snapshot_id  |added_data_files_count|existing_data_files_count|deleted_data_files_count|partitions                              |added_rows_count|existing_rows_count|deleted_rows_count|\n",
      "+-------------------------------------------------------------------------------+---------------+-----------------+-------------------+----------------------+-------------------------+------------------------+----------------------------------------+----------------+-------------------+------------------+\n",
      "|s3://<BUCKET>/tmp/iceberg/metadata/fd493887-b82b-4529-bd20-150805540362-m1.avro|6164           |0                |5884609264843258274|1                     |0                        |0                       |[{false, false, 2022-01-11, 2022-01-11}]|1               |0                  |0                 |\n",
      "|s3://<BUCKET>/tmp/iceberg/metadata/fd493887-b82b-4529-bd20-150805540362-m0.avro|6396           |0                |5884609264843258274|0                     |5                        |1                       |[{false, false, 2015-01-01, 2015-01-02}]|0               |5                  |1                 |\n",
      "+-------------------------------------------------------------------------------+---------------+-----------------+-------------------+----------------------+-------------------------+------------------------+----------------------------------------+----------------+-------------------+------------------+\n",
      "\n",
      "+------+-------------------+--------------------------------------------------------------------------------------------------------------------------------------------------------------------------------------------------------------------------------------------------------------------------------------------------------------------------------------------------------------------------+\n",
      "|status|snapshot_id        |data_file                                                                                                                                                                                                                                                                                                                                                                 |\n",
      "+------+-------------------+--------------------------------------------------------------------------------------------------------------------------------------------------------------------------------------------------------------------------------------------------------------------------------------------------------------------------------------------------------------------------+\n",
      "|1     |5884609264843258274|{s3://<BUCKET>/tmp/iceberg/data/creation_date=2022-01-11/00000-40-ea399986-587e-41d8-ab4c-89c69f2a3112-00001.parquet, PARQUET, {2022-01-11}, 1, 1171, 67108864, [{1, 54}, {2, 60}, {3, 77}], [{1, 1}, {2, 1}, {3, 1}], [{1, 0}, {2, 0}, {3, 0}], [], [{1, 100}, {2, 2022-01-11}, {3, 2015-01-01T13:51}], [{1, 100}, {2, 2022-01-11}, {3, 2015-01-01T13:52}], null, [4], 0}|\n",
      "+------+-------------------+--------------------------------------------------------------------------------------------------------------------------------------------------------------------------------------------------------------------------------------------------------------------------------------------------------------------------------------------------------------------------+"
     ]
    }
   ],
   "source": [
    "from pyspark.sql.functions import regexp_replace\n",
    "\n",
    "\n",
    "manifest_list_file = recordDF.collect()[0].asDict().get('snapshots')[-1]['manifest-list']\n",
    "\n",
    "mfListDF = spark.read.format(\"avro\").load(manifest_list_file)\n",
    "mfListDF.withColumn(\"manifest_path\", regexp_replace('manifest_path', S3_BUCKET_NAME, '<BUCKET>')).show(truncate=False)\n",
    "\n",
    "\n",
    "\n",
    "manifest_path = mfListDF.limit(1).collect()[0].manifest_path\n",
    "mfDF = spark.read.format(\"avro\").load(manifest_path)\n",
    "mfDF.withColumn(\"data_file\", f.col(\"data_file\").withField(\"file_path\", regexp_replace('data_file.file_path', S3_BUCKET_NAME, '<BUCKET>'))).show(truncate=False)"
   ]
  },
  {
   "cell_type": "markdown",
   "id": "c9e682c2-b291-4ce2-8165-d6eb42598ae9",
   "metadata": {},
   "source": [
    "So we can see that our `manifest-list` file now has 2 manifests in it. And if we read the most recent manifest, we can see that it points to the one additional `.parquet` file in our new `2022-01-11` partition. Now...let's make sure the data looks good!"
   ]
  },
  {
   "cell_type": "code",
   "execution_count": 18,
   "id": "2ef6a682-a813-4b29-b12e-6b9fee575746",
   "metadata": {
    "execution": {
     "iopub.execute_input": "2022-02-01T19:53:25.620658Z",
     "iopub.status.busy": "2022-02-01T19:53:25.620458Z",
     "iopub.status.idle": "2022-02-01T19:53:27.879144Z",
     "shell.execute_reply": "2022-02-01T19:53:27.878673Z",
     "shell.execute_reply.started": "2022-02-01T19:53:25.620637Z"
    },
    "tags": []
   },
   "outputs": [
    {
     "data": {
      "application/vnd.jupyter.widget-view+json": {
       "model_id": "ab5e37205e2a43e9b5ad1566cf576264",
       "version_major": 2,
       "version_minor": 0
      },
      "text/plain": [
       "VBox()"
      ]
     },
     "metadata": {},
     "output_type": "display_data"
    },
    {
     "data": {
      "application/vnd.jupyter.widget-view+json": {
       "model_id": "",
       "version_major": 2,
       "version_minor": 0
      },
      "text/plain": [
       "FloatProgress(value=0.0, bar_style='info', description='Progress:', layout=Layout(height='25px', width='50%'),…"
      ]
     },
     "metadata": {},
     "output_type": "display_data"
    },
    {
     "name": "stdout",
     "output_type": "stream",
     "text": [
      "+---+-------------+--------------------+\n",
      "| id|creation_date|    last_update_time|\n",
      "+---+-------------+--------------------+\n",
      "|101|   2015-01-01|2015-01-01T12:14:...|\n",
      "|102|   2015-01-01|2015-01-01T13:51:...|\n",
      "|103|   2015-01-01|2015-01-01T13:51:...|\n",
      "|104|   2015-01-02|2015-01-01T12:15:...|\n",
      "|105|   2015-01-02|2015-01-01T13:51:...|\n",
      "|100|   2022-01-11|2015-01-01T13:51:...|\n",
      "+---+-------------+--------------------+"
     ]
    }
   ],
   "source": [
    "df = spark.table(ICEBERG_TABLE_NAME)\n",
    "df.show()"
   ]
  },
  {
   "cell_type": "markdown",
   "id": "e3bf3ffa-78ee-42a1-86c8-ce059a60e280",
   "metadata": {},
   "source": [
    "Awesome! It looks good.\n",
    "\n",
    "_Note:_ On the first go through of this, I couldn't figure out how to do the update with native Spark DataFrames so changed to Spark SQL. :)\n",
    "\n",
    "## Deleting Data\n",
    "\n",
    "Now, let's look into deletes. Again, we'll use Spark SQL to do this."
   ]
  },
  {
   "cell_type": "code",
   "execution_count": 19,
   "id": "8645de1c-63f9-4e7e-a9fd-a0984b7e8993",
   "metadata": {
    "execution": {
     "iopub.execute_input": "2022-02-01T19:54:01.526284Z",
     "iopub.status.busy": "2022-02-01T19:54:01.526078Z",
     "iopub.status.idle": "2022-02-01T19:54:03.784349Z",
     "shell.execute_reply": "2022-02-01T19:54:03.783771Z",
     "shell.execute_reply.started": "2022-02-01T19:54:01.526263Z"
    },
    "tags": []
   },
   "outputs": [
    {
     "data": {
      "application/vnd.jupyter.widget-view+json": {
       "model_id": "d9571f90f758489d9258b53ba86e476f",
       "version_major": 2,
       "version_minor": 0
      },
      "text/plain": [
       "VBox()"
      ]
     },
     "metadata": {},
     "output_type": "display_data"
    },
    {
     "data": {
      "application/vnd.jupyter.widget-view+json": {
       "model_id": "",
       "version_major": 2,
       "version_minor": 0
      },
      "text/plain": [
       "FloatProgress(value=0.0, bar_style='info', description='Progress:', layout=Layout(height='25px', width='50%'),…"
      ]
     },
     "metadata": {},
     "output_type": "display_data"
    },
    {
     "name": "stdout",
     "output_type": "stream",
     "text": [
      "DataFrame[]"
     ]
    }
   ],
   "source": [
    "spark.sql(f\"DELETE FROM {ICEBERG_TABLE_NAME} WHERE id=100\")"
   ]
  },
  {
   "cell_type": "markdown",
   "id": "288aa559-6fcd-490b-88f4-b26b07bb558e",
   "metadata": {},
   "source": [
    "Back to S3."
   ]
  },
  {
   "cell_type": "code",
   "execution_count": 20,
   "id": "8bfc0b45-27c2-4bc9-b960-ba96e2fadb9e",
   "metadata": {
    "execution": {
     "iopub.execute_input": "2022-02-01T19:54:05.991192Z",
     "iopub.status.busy": "2022-02-01T19:54:05.990984Z",
     "iopub.status.idle": "2022-02-01T19:54:06.430172Z",
     "shell.execute_reply": "2022-02-01T19:54:06.429629Z",
     "shell.execute_reply.started": "2022-02-01T19:54:05.991171Z"
    },
    "tags": []
   },
   "outputs": [
    {
     "name": "stdout",
     "output_type": "stream",
     "text": [
      "--- /tmp/iceberg_op_002\t2022-02-01 19:49:28.022200062 +0000\n",
      "+++ /tmp/iceberg_op_003\t2022-02-01 19:54:06.385890327 +0000\n",
      "@@ -7,8 +7,11 @@\n",
      " 2022-02-01 19:49:24       1171 tmp/iceberg/data/creation_date=2022-01-11/00000-40-ea399986-587e-41d8-ab4c-89c69f2a3112-00001.parquet\n",
      " 2022-02-01 19:39:12       2517 tmp/iceberg/metadata/00000-7bf31f4a-f1c6-40d4-beaf-cc9a2620fe3b.metadata.json\n",
      " 2022-02-01 19:49:24       3696 tmp/iceberg/metadata/00001-ea6c6f52-3dca-4aea-a0f0-c941b3d499b6.metadata.json\n",
      "+2022-02-01 19:54:04       4780 tmp/iceberg/metadata/00002-3cb69aaf-bd5b-4f9c-95c8-102711e72717.metadata.json\n",
      " 2022-02-01 19:39:11       6376 tmp/iceberg/metadata/599fc94a-4523-445c-bad0-bd5e2e9e6da1-m0.avro\n",
      "+2022-02-01 19:54:04       6166 tmp/iceberg/metadata/d8e0968a-25d1-4d67-ac85-daddef0a050d-m0.avro\n",
      " 2022-02-01 19:49:24       6396 tmp/iceberg/metadata/fd493887-b82b-4529-bd20-150805540362-m0.avro\n",
      " 2022-02-01 19:49:24       6164 tmp/iceberg/metadata/fd493887-b82b-4529-bd20-150805540362-m1.avro\n",
      " 2022-02-01 19:39:11       3802 tmp/iceberg/metadata/snap-5655796012145429443-1-599fc94a-4523-445c-bad0-bd5e2e9e6da1.avro\n",
      " 2022-02-01 19:49:24       3848 tmp/iceberg/metadata/snap-5884609264843258274-1-fd493887-b82b-4529-bd20-150805540362.avro\n",
      "+2022-02-01 19:54:04       3886 tmp/iceberg/metadata/snap-7202682147828423470-1-d8e0968a-25d1-4d67-ac85-daddef0a050d.avro\n"
     ]
    }
   ],
   "source": [
    "%%sh\n",
    "\n",
    "aws s3 ls s3://${S3_BUCKET_NAME}/tmp/iceberg/ --recursive > /tmp/iceberg_op_003\n",
    "diff -u /tmp/iceberg_op_002 /tmp/iceberg_op_003 || true"
   ]
  },
  {
   "cell_type": "markdown",
   "id": "9431b846-a877-40a4-86b7-04505701cb7b",
   "metadata": {},
   "source": [
    "One new file each of a `metadata.json`, `.avro` manifest, and `snap-*.avro` manifest list.\n",
    "\n",
    "We'll look at the data table to ensure the delete worked and then the new metadata."
   ]
  },
  {
   "cell_type": "code",
   "execution_count": 21,
   "id": "e48cc912-4d01-4bba-981e-73e1ee218faa",
   "metadata": {
    "execution": {
     "iopub.execute_input": "2022-02-01T19:54:28.482321Z",
     "iopub.status.busy": "2022-02-01T19:54:28.482114Z",
     "iopub.status.idle": "2022-02-01T19:54:29.232341Z",
     "shell.execute_reply": "2022-02-01T19:54:29.231797Z",
     "shell.execute_reply.started": "2022-02-01T19:54:28.482297Z"
    },
    "tags": []
   },
   "outputs": [
    {
     "data": {
      "application/vnd.jupyter.widget-view+json": {
       "model_id": "5595c4b76ec646389a5d3cc1a113d15a",
       "version_major": 2,
       "version_minor": 0
      },
      "text/plain": [
       "VBox()"
      ]
     },
     "metadata": {},
     "output_type": "display_data"
    },
    {
     "data": {
      "application/vnd.jupyter.widget-view+json": {
       "model_id": "",
       "version_major": 2,
       "version_minor": 0
      },
      "text/plain": [
       "FloatProgress(value=0.0, bar_style='info', description='Progress:', layout=Layout(height='25px', width='50%'),…"
      ]
     },
     "metadata": {},
     "output_type": "display_data"
    },
    {
     "name": "stdout",
     "output_type": "stream",
     "text": [
      "+---+-------------+--------------------+\n",
      "| id|creation_date|    last_update_time|\n",
      "+---+-------------+--------------------+\n",
      "|101|   2015-01-01|2015-01-01T12:14:...|\n",
      "|102|   2015-01-01|2015-01-01T13:51:...|\n",
      "|103|   2015-01-01|2015-01-01T13:51:...|\n",
      "|104|   2015-01-02|2015-01-01T12:15:...|\n",
      "|105|   2015-01-02|2015-01-01T13:51:...|\n",
      "+---+-------------+--------------------+"
     ]
    }
   ],
   "source": [
    "spark.sql(f\"SELECT * FROM {ICEBERG_TABLE_NAME}\").show()"
   ]
  },
  {
   "cell_type": "code",
   "execution_count": 22,
   "id": "7010f4d7-5125-4715-bc9a-135a298157f0",
   "metadata": {
    "execution": {
     "iopub.execute_input": "2022-02-01T19:54:37.700731Z",
     "iopub.status.busy": "2022-02-01T19:54:37.700522Z",
     "iopub.status.idle": "2022-02-01T19:54:40.962432Z",
     "shell.execute_reply": "2022-02-01T19:54:40.961960Z",
     "shell.execute_reply.started": "2022-02-01T19:54:37.700709Z"
    },
    "tags": []
   },
   "outputs": [
    {
     "data": {
      "application/vnd.jupyter.widget-view+json": {
       "model_id": "1984dc2dbd894e9b88236b7562645ff8",
       "version_major": 2,
       "version_minor": 0
      },
      "text/plain": [
       "VBox()"
      ]
     },
     "metadata": {},
     "output_type": "display_data"
    },
    {
     "data": {
      "application/vnd.jupyter.widget-view+json": {
       "model_id": "",
       "version_major": 2,
       "version_minor": 0
      },
      "text/plain": [
       "FloatProgress(value=0.0, bar_style='info', description='Progress:', layout=Layout(height='25px', width='50%'),…"
      ]
     },
     "metadata": {},
     "output_type": "display_data"
    },
    {
     "name": "stdout",
     "output_type": "stream",
     "text": [
      "{\n",
      "    \"current-schema-id\": 0,\n",
      "    \"current-snapshot-id\": 7202682147828423470,\n",
      "    \"default-sort-order-id\": 0,\n",
      "    \"default-spec-id\": 0,\n",
      "    \"format-version\": 1,\n",
      "    \"last-column-id\": 3,\n",
      "    \"last-partition-id\": 1000,\n",
      "    \"last-updated-ms\": 1643745243221,\n",
      "    \"location\": \"s3://<BUCKET>/tmp/iceberg/\",\n",
      "    \"metadata-log\": [\n",
      "        {\n",
      "            \"metadata-file\": \"s3://<BUCKET>/tmp/iceberg/metadata/00000-7bf31f4a-f1c6-40d4-beaf-cc9a2620fe3b.metadata.json\",\n",
      "            \"timestamp-ms\": 1643744351172\n",
      "        },\n",
      "        {\n",
      "            \"metadata-file\": \"s3://<BUCKET>/tmp/iceberg/metadata/00001-ea6c6f52-3dca-4aea-a0f0-c941b3d499b6.metadata.json\",\n",
      "            \"timestamp-ms\": 1643744963721\n",
      "        }\n",
      "    ],\n",
      "    \"partition-spec\": [\n",
      "        {\n",
      "            \"field-id\": 1000,\n",
      "            \"name\": \"creation_date\",\n",
      "            \"source-id\": 2,\n",
      "            \"transform\": \"identity\"\n",
      "        }\n",
      "    ],\n",
      "    \"partition-specs\": [\n",
      "        {\n",
      "            \"fields\": [\n",
      "                {\n",
      "                    \"field-id\": 1000,\n",
      "                    \"name\": \"creation_date\",\n",
      "                    \"source-id\": 2,\n",
      "                    \"transform\": \"identity\"\n",
      "                }\n",
      "            ],\n",
      "            \"spec-id\": 0\n",
      "        }\n",
      "    ],\n",
      "    \"properties\": {\n",
      "        \"owner\": \"livy\"\n",
      "    },\n",
      "    \"schema\": {\n",
      "        \"fields\": [\n",
      "            {\n",
      "                \"id\": 1,\n",
      "                \"name\": \"id\",\n",
      "                \"required\": false,\n",
      "                \"type\": \"string\"\n",
      "            },\n",
      "            {\n",
      "                \"id\": 2,\n",
      "                \"name\": \"creation_date\",\n",
      "                \"required\": false,\n",
      "                \"type\": \"string\"\n",
      "            },\n",
      "            {\n",
      "                \"id\": 3,\n",
      "                \"name\": \"last_update_time\",\n",
      "                \"required\": false,\n",
      "                \"type\": \"string\"\n",
      "            }\n",
      "        ],\n",
      "        \"schema-id\": 0,\n",
      "        \"type\": \"struct\"\n",
      "    },\n",
      "    \"schemas\": [\n",
      "        {\n",
      "            \"fields\": [\n",
      "                {\n",
      "                    \"id\": 1,\n",
      "                    \"name\": \"id\",\n",
      "                    \"required\": false,\n",
      "                    \"type\": \"string\"\n",
      "                },\n",
      "                {\n",
      "                    \"id\": 2,\n",
      "                    \"name\": \"creation_date\",\n",
      "                    \"required\": false,\n",
      "                    \"type\": \"string\"\n",
      "                },\n",
      "                {\n",
      "                    \"id\": 3,\n",
      "                    \"name\": \"last_update_time\",\n",
      "                    \"required\": false,\n",
      "                    \"type\": \"string\"\n",
      "                }\n",
      "            ],\n",
      "            \"schema-id\": 0,\n",
      "            \"type\": \"struct\"\n",
      "        }\n",
      "    ],\n",
      "    \"snapshot-log\": [\n",
      "        {\n",
      "            \"snapshot-id\": 5655796012145429443,\n",
      "            \"timestamp-ms\": 1643744351020\n",
      "        },\n",
      "        {\n",
      "            \"snapshot-id\": 5884609264843258274,\n",
      "            \"timestamp-ms\": 1643744963721\n",
      "        },\n",
      "        {\n",
      "            \"snapshot-id\": 7202682147828423470,\n",
      "            \"timestamp-ms\": 1643745243221\n",
      "        }\n",
      "    ],\n",
      "    \"snapshots\": [\n",
      "        {\n",
      "            \"manifest-list\": \"s3://<BUCKET>/tmp/iceberg/metadata/snap-5655796012145429443-1-599fc94a-4523-445c-bad0-bd5e2e9e6da1.avro\",\n",
      "            \"schema-id\": 0,\n",
      "            \"snapshot-id\": 5655796012145429443,\n",
      "            \"summary\": {\n",
      "                \"added-data-files\": \"6\",\n",
      "                \"added-files-size\": \"7028\",\n",
      "                \"added-records\": \"6\",\n",
      "                \"changed-partition-count\": \"2\",\n",
      "                \"operation\": \"append\",\n",
      "                \"spark.app.id\": \"application_1643738755513_0005\",\n",
      "                \"total-data-files\": \"6\",\n",
      "                \"total-delete-files\": \"0\",\n",
      "                \"total-equality-deletes\": \"0\",\n",
      "                \"total-files-size\": \"7028\",\n",
      "                \"total-position-deletes\": \"0\",\n",
      "                \"total-records\": \"6\"\n",
      "            },\n",
      "            \"timestamp-ms\": 1643744351020\n",
      "        },\n",
      "        {\n",
      "            \"manifest-list\": \"s3://<BUCKET>/tmp/iceberg/metadata/snap-5884609264843258274-1-fd493887-b82b-4529-bd20-150805540362.avro\",\n",
      "            \"parent-snapshot-id\": 5655796012145429443,\n",
      "            \"schema-id\": 0,\n",
      "            \"snapshot-id\": 5884609264843258274,\n",
      "            \"summary\": {\n",
      "                \"added-data-files\": \"1\",\n",
      "                \"added-files-size\": \"1171\",\n",
      "                \"added-records\": \"1\",\n",
      "                \"changed-partition-count\": \"2\",\n",
      "                \"deleted-data-files\": \"1\",\n",
      "                \"deleted-records\": \"1\",\n",
      "                \"operation\": \"overwrite\",\n",
      "                \"removed-files-size\": \"1171\",\n",
      "                \"spark.app.id\": \"application_1643738755513_0005\",\n",
      "                \"total-data-files\": \"6\",\n",
      "                \"total-delete-files\": \"0\",\n",
      "                \"total-equality-deletes\": \"0\",\n",
      "                \"total-files-size\": \"7028\",\n",
      "                \"total-position-deletes\": \"0\",\n",
      "                \"total-records\": \"6\"\n",
      "            },\n",
      "            \"timestamp-ms\": 1643744963721\n",
      "        },\n",
      "        {\n",
      "            \"manifest-list\": \"s3://<BUCKET>/tmp/iceberg/metadata/snap-7202682147828423470-1-d8e0968a-25d1-4d67-ac85-daddef0a050d.avro\",\n",
      "            \"parent-snapshot-id\": 5884609264843258274,\n",
      "            \"schema-id\": 0,\n",
      "            \"snapshot-id\": 7202682147828423470,\n",
      "            \"summary\": {\n",
      "                \"changed-partition-count\": \"1\",\n",
      "                \"deleted-data-files\": \"1\",\n",
      "                \"deleted-records\": \"1\",\n",
      "                \"operation\": \"overwrite\",\n",
      "                \"removed-files-size\": \"1171\",\n",
      "                \"spark.app.id\": \"application_1643738755513_0005\",\n",
      "                \"total-data-files\": \"5\",\n",
      "                \"total-delete-files\": \"0\",\n",
      "                \"total-equality-deletes\": \"0\",\n",
      "                \"total-files-size\": \"5857\",\n",
      "                \"total-position-deletes\": \"0\",\n",
      "                \"total-records\": \"5\"\n",
      "            },\n",
      "            \"timestamp-ms\": 1643745243221\n",
      "        }\n",
      "    ],\n",
      "    \"sort-orders\": [\n",
      "        {\n",
      "            \"fields\": [],\n",
      "            \"order-id\": 0\n",
      "        }\n",
      "    ],\n",
      "    \"table-uuid\": \"a1461d5e-f7a4-4ed1-8e0b-8c4dcaf47420\"\n",
      "}"
     ]
    }
   ],
   "source": [
    "df = spark.read.json(f\"s3://{S3_BUCKET_NAME}/tmp/iceberg/metadata/*.metadata.json\", multiLine=True)\n",
    "recordDF = df.sort(df[\"last-updated-ms\"].desc()).limit(1)\n",
    "recordJSON = recordDF.toJSON().collect()[0]\n",
    "import json\n",
    "print(json.dumps(json.loads(recordJSON.replace(S3_BUCKET_NAME, '<BUCKET>')), indent=4, sort_keys=True))"
   ]
  },
  {
   "cell_type": "markdown",
   "id": "3f99c0c4-8363-4fc1-8336-8b30240a279e",
   "metadata": {},
   "source": [
    "## Snapshots\n",
    "\n",
    "Iceberg also supports \"point-in-time\" queries, called time travel. You can supply a `snapshot-id` or `as-of-timestamp`."
   ]
  },
  {
   "cell_type": "code",
   "execution_count": 34,
   "id": "6d3522bb-7870-4284-9254-4607ff179cac",
   "metadata": {
    "execution": {
     "iopub.execute_input": "2022-02-01T20:00:44.542247Z",
     "iopub.status.busy": "2022-02-01T20:00:44.542041Z",
     "iopub.status.idle": "2022-02-01T20:00:45.793195Z",
     "shell.execute_reply": "2022-02-01T20:00:45.792745Z",
     "shell.execute_reply.started": "2022-02-01T20:00:44.542226Z"
    },
    "tags": []
   },
   "outputs": [
    {
     "data": {
      "application/vnd.jupyter.widget-view+json": {
       "model_id": "78df938a499d41c0bffbf37f81b8c529",
       "version_major": 2,
       "version_minor": 0
      },
      "text/plain": [
       "VBox()"
      ]
     },
     "metadata": {},
     "output_type": "display_data"
    },
    {
     "data": {
      "application/vnd.jupyter.widget-view+json": {
       "model_id": "",
       "version_major": 2,
       "version_minor": 0
      },
      "text/plain": [
       "FloatProgress(value=0.0, bar_style='info', description='Progress:', layout=Layout(height='25px', width='50%'),…"
      ]
     },
     "metadata": {},
     "output_type": "display_data"
    },
    {
     "name": "stdout",
     "output_type": "stream",
     "text": [
      "+---+-------------+--------------------+\n",
      "| id|creation_date|    last_update_time|\n",
      "+---+-------------+--------------------+\n",
      "|100|   2015-01-01|2015-01-01T13:51:...|\n",
      "|101|   2015-01-01|2015-01-01T12:14:...|\n",
      "|102|   2015-01-01|2015-01-01T13:51:...|\n",
      "|103|   2015-01-01|2015-01-01T13:51:...|\n",
      "|104|   2015-01-02|2015-01-01T12:15:...|\n",
      "|105|   2015-01-02|2015-01-01T13:51:...|\n",
      "+---+-------------+--------------------+"
     ]
    }
   ],
   "source": [
    "# Pull out the first metadata snapshot timestamp and snapshot-id\n",
    "df = spark.read.json(f\"s3://{S3_BUCKET_NAME}/tmp/iceberg/metadata/*.metadata.json\", multiLine=True)\n",
    "firstSnapshot = df.sort(df[\"last-updated-ms\"].asc()).limit(1).collect()[0]\n",
    "earliest_timestamp = firstSnapshot['last-updated-ms']\n",
    "earliest_snapshot_id = firstSnapshot['current-snapshot-id']\n",
    "\n",
    "# Now read the data from that point in time\n",
    "df = spark.read \\\n",
    "    .option(\"as-of-timestamp\", earliest_timestamp) \\\n",
    "    .format(\"iceberg\") \\\n",
    "    .load(ICEBERG_TABLE_NAME)\n",
    "    \n",
    "df.show()"
   ]
  },
  {
   "cell_type": "code",
   "execution_count": 35,
   "id": "64710a31-928f-438d-b2af-1543754c365e",
   "metadata": {
    "execution": {
     "iopub.execute_input": "2022-02-01T20:00:59.503748Z",
     "iopub.status.busy": "2022-02-01T20:00:59.503523Z",
     "iopub.status.idle": "2022-02-01T20:01:00.250668Z",
     "shell.execute_reply": "2022-02-01T20:01:00.250208Z",
     "shell.execute_reply.started": "2022-02-01T20:00:59.503727Z"
    },
    "tags": []
   },
   "outputs": [
    {
     "data": {
      "application/vnd.jupyter.widget-view+json": {
       "model_id": "210f85197e1e4da7a849a7290b7c599d",
       "version_major": 2,
       "version_minor": 0
      },
      "text/plain": [
       "VBox()"
      ]
     },
     "metadata": {},
     "output_type": "display_data"
    },
    {
     "data": {
      "application/vnd.jupyter.widget-view+json": {
       "model_id": "",
       "version_major": 2,
       "version_minor": 0
      },
      "text/plain": [
       "FloatProgress(value=0.0, bar_style='info', description='Progress:', layout=Layout(height='25px', width='50%'),…"
      ]
     },
     "metadata": {},
     "output_type": "display_data"
    },
    {
     "name": "stdout",
     "output_type": "stream",
     "text": [
      "+---+-------------+--------------------+\n",
      "| id|creation_date|    last_update_time|\n",
      "+---+-------------+--------------------+\n",
      "|100|   2015-01-01|2015-01-01T13:51:...|\n",
      "|101|   2015-01-01|2015-01-01T12:14:...|\n",
      "|102|   2015-01-01|2015-01-01T13:51:...|\n",
      "|103|   2015-01-01|2015-01-01T13:51:...|\n",
      "|104|   2015-01-02|2015-01-01T12:15:...|\n",
      "|105|   2015-01-02|2015-01-01T13:51:...|\n",
      "+---+-------------+--------------------+"
     ]
    }
   ],
   "source": [
    "# time travel to the first snapshot\n",
    "df = spark.read \\\n",
    "    .option(\"snapshot-id\", earliest_snapshot_id) \\\n",
    "    .format(\"iceberg\") \\\n",
    "    .load(ICEBERG_TABLE_NAME)\n",
    "    \n",
    "df.show()"
   ]
  },
  {
   "cell_type": "markdown",
   "id": "f712d6ab-7233-4714-8e11-22e7f090f355",
   "metadata": {},
   "source": [
    "## Cleanup\n",
    "\n",
    "This is a utility section for different commands needed while building this notebook. Destructive commands are bracketed with a \"default false\" condition so they don't execute in the course of normal execution."
   ]
  },
  {
   "cell_type": "markdown",
   "id": "62e6f8a7-0061-4cf5-a881-51dccf74f9b7",
   "metadata": {},
   "source": [
    "- Clear Iceberg Tables - Clears any tables in the Spark catalog that start with `iceberg_demo_` (**must** be run before removing files from S3)"
   ]
  },
  {
   "cell_type": "code",
   "execution_count": null,
   "id": "43c29ef4-f7dc-4194-b96f-e9c8fb599b91",
   "metadata": {
    "tags": []
   },
   "outputs": [],
   "source": [
    "if 1 == 2:\n",
    "    iceberg_tables = [table.name for table in spark.catalog.listTables() if table.name.startswith(\"iceberg_demo\")]\n",
    "    for table_name in iceberg_tables:\n",
    "        print(f\"Dropping {table_name}\")\n",
    "        spark.sql(f\"DROP TABLE IF EXISTS {table_name}\")\n"
   ]
  },
  {
   "cell_type": "markdown",
   "id": "d53568fd-8a48-489d-b2f4-7b6e1df5924b",
   "metadata": {},
   "source": [
    "- Clear S3 - Iceberg \"overwrite\" does not delete existing tables, so we need to do it ourselves"
   ]
  },
  {
   "cell_type": "code",
   "execution_count": null,
   "id": "d3a7a75e-0c9a-4e67-bb31-07fc46937e9d",
   "metadata": {
    "tags": []
   },
   "outputs": [],
   "source": [
    "%%sh\n",
    "\n",
    "if [ 1 == 2 ]; then\n",
    "    aws s3 rm --recursive s3://${S3_BUCKET_NAME}/tmp/iceberg/\n",
    "fi"
   ]
  }
 ],
 "metadata": {
  "kernelspec": {
   "display_name": "PySpark",
   "language": "",
   "name": "pysparkkernel"
  },
  "language_info": {
   "codemirror_mode": {
    "name": "python",
    "version": 3
   },
   "mimetype": "text/x-python",
   "name": "pyspark",
   "pygments_lexer": "python3"
  }
 },
 "nbformat": 4,
 "nbformat_minor": 5
}
