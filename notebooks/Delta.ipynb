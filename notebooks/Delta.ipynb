{
 "cells": [
  {
   "cell_type": "markdown",
   "id": "80a4e9c8-d2c6-4d05-b20c-8c2a50509465",
   "metadata": {},
   "source": [
    "# Modern Data Lake Storage Layers - Delta Lake"
   ]
  },
  {
   "cell_type": "code",
   "execution_count": null,
   "id": "4f316958-e582-431e-b884-cc74e2829c56",
   "metadata": {
    "tags": []
   },
   "outputs": [],
   "source": [
    "%%configure -f\n",
    "{\n",
    "    \"conf\": {\n",
    "        \"spark.jars.packages\": \"io.delta:delta-core_2.12:1.0.0\",\n",
    "        \"spark.sql.extensions\":\"io.delta.sql.DeltaSparkSessionExtension\",\n",
    "        \"spark.sql.catalog.spark_catalog\":\"org.apache.spark.sql.delta.catalog.DeltaCatalog\"\n",
    "    }\n",
    "}"
   ]
  },
  {
   "cell_type": "code",
   "execution_count": null,
   "id": "6358cfee-e2b1-4d01-818d-1798f3c9cbea",
   "metadata": {
    "tags": []
   },
   "outputs": [],
   "source": [
    "%env S3_BUCKET_NAME=YOUR_S3_BUCKET_NAME"
   ]
  },
  {
   "cell_type": "code",
   "execution_count": null,
   "id": "5c2471a1-e4b8-42ed-999d-efff6e67edbb",
   "metadata": {
    "tags": []
   },
   "outputs": [],
   "source": [
    "S3_BUCKET_NAME=\"YOUR_S3_BUCKET_NAME\""
   ]
  },
  {
   "cell_type": "markdown",
   "id": "6fc6e4c6-ce62-4a3c-a1fe-d6323cbf12b0",
   "metadata": {},
   "source": [
    "## The basics of Delta Lake\n",
    "\n",
    "Like the other notebooks, we'll create an input dataframe and save it to S3.\n",
    "\n",
    "_NOTE_ that this appears to automatically create some sort of schema in S3 as well... Thus, I've included the `overwriteSchema` option to recreate the table if necessary."
   ]
  },
  {
   "cell_type": "code",
   "execution_count": 23,
   "id": "caf75f8f-3648-400e-be20-b8864e7c94ef",
   "metadata": {
    "execution": {
     "iopub.execute_input": "2022-02-01T20:40:34.136670Z",
     "iopub.status.busy": "2022-02-01T20:40:34.136451Z",
     "iopub.status.idle": "2022-02-01T20:40:36.410664Z",
     "shell.execute_reply": "2022-02-01T20:40:36.410216Z",
     "shell.execute_reply.started": "2022-02-01T20:40:34.136645Z"
    },
    "tags": []
   },
   "outputs": [
    {
     "data": {
      "application/vnd.jupyter.widget-view+json": {
       "model_id": "a18aca00ffc54030b592115a0e1df719",
       "version_major": 2,
       "version_minor": 0
      },
      "text/plain": [
       "VBox()"
      ]
     },
     "metadata": {},
     "output_type": "display_data"
    },
    {
     "data": {
      "application/vnd.jupyter.widget-view+json": {
       "model_id": "",
       "version_major": 2,
       "version_minor": 0
      },
      "text/plain": [
       "FloatProgress(value=0.0, bar_style='info', description='Progress:', layout=Layout(height='25px', width='50%'),…"
      ]
     },
     "metadata": {},
     "output_type": "display_data"
    }
   ],
   "source": [
    "# Create a DataFrame\n",
    "inputDF = spark.createDataFrame(\n",
    "    [\n",
    "        (\"100\", \"2015-01-01\", \"2015-01-01T13:51:39.340396Z\"),\n",
    "        (\"101\", \"2015-01-01\", \"2015-01-01T12:14:58.597216Z\"),\n",
    "        (\"102\", \"2015-01-01\", \"2015-01-01T13:51:40.417052Z\"),\n",
    "        (\"103\", \"2015-01-01\", \"2015-01-01T13:51:40.519832Z\"),\n",
    "        (\"104\", \"2015-01-02\", \"2015-01-01T12:15:00.512679Z\"),\n",
    "        (\"105\", \"2015-01-02\", \"2015-01-01T13:51:42.248818Z\"),\n",
    "    ],\n",
    "    [\"id\", \"creation_date\", \"last_update_time\"],\n",
    ")\n",
    "\n",
    "# Write a DataFrame as a Delta dataset\n",
    "inputDF.write.format(\"delta\").mode(\"overwrite\").option(\n",
    "    \"overwriteSchema\", \"true\"\n",
    ").partitionBy(\"creation_date\").save(f\"s3://{S3_BUCKET_NAME}/tmp/delta/\")"
   ]
  },
  {
   "cell_type": "markdown",
   "id": "bc21ce33-865f-40a5-b622-0c5dab9d3406",
   "metadata": {},
   "source": [
    "Well that's pretty straight-forward! Let's see what it looks like on S3."
   ]
  },
  {
   "cell_type": "code",
   "execution_count": 24,
   "id": "49e7ab39-f015-4f0f-aeb2-922666312ef9",
   "metadata": {
    "execution": {
     "iopub.execute_input": "2022-02-01T20:40:36.411663Z",
     "iopub.status.busy": "2022-02-01T20:40:36.411515Z",
     "iopub.status.idle": "2022-02-01T20:40:36.860784Z",
     "shell.execute_reply": "2022-02-01T20:40:36.860277Z",
     "shell.execute_reply.started": "2022-02-01T20:40:36.411645Z"
    },
    "tags": []
   },
   "outputs": [
    {
     "name": "stdout",
     "output_type": "stream",
     "text": [
      "                           PRE _delta_log/\n",
      "                           PRE creation_date=2015-01-01/\n",
      "                           PRE creation_date=2015-01-02/\n",
      "2022-02-01 20:40:35          0 _delta_log_$folder$\n"
     ]
    }
   ],
   "source": [
    "%%sh\n",
    "\n",
    "aws s3 ls s3://${S3_BUCKET_NAME}/tmp/delta/"
   ]
  },
  {
   "cell_type": "code",
   "execution_count": 25,
   "id": "5088f49c-60a5-4745-8b7f-d58f860bf87a",
   "metadata": {
    "execution": {
     "iopub.execute_input": "2022-02-01T20:40:36.862187Z",
     "iopub.status.busy": "2022-02-01T20:40:36.862024Z",
     "iopub.status.idle": "2022-02-01T20:40:37.284925Z",
     "shell.execute_reply": "2022-02-01T20:40:37.284386Z",
     "shell.execute_reply.started": "2022-02-01T20:40:36.862166Z"
    },
    "tags": []
   },
   "outputs": [
    {
     "name": "stdout",
     "output_type": "stream",
     "text": [
      "2022-02-01 20:40:35       2120 tmp/delta/_delta_log/00000000000000000000.json\n",
      "2022-02-01 20:40:35          0 tmp/delta/_delta_log_$folder$\n",
      "2022-02-01 20:40:35        875 tmp/delta/creation_date=2015-01-01/part-00001-329f5740-2d39-4121-a226-96819c7b0e54.c000.snappy.parquet\n",
      "2022-02-01 20:40:35        875 tmp/delta/creation_date=2015-01-01/part-00003-56522242-034b-4fe1-ba13-6eb887606c4d.c000.snappy.parquet\n",
      "2022-02-01 20:40:35        875 tmp/delta/creation_date=2015-01-01/part-00005-69310258-d7d2-48cd-a20d-a06f87f5ada0.c000.snappy.parquet\n",
      "2022-02-01 20:40:35        875 tmp/delta/creation_date=2015-01-01/part-00007-c1079719-8587-42b6-99f7-3c34c9412929.c000.snappy.parquet\n",
      "2022-02-01 20:40:35        875 tmp/delta/creation_date=2015-01-02/part-00009-719fb0c9-cb8a-4135-86df-32867dc61aac.c000.snappy.parquet\n",
      "2022-02-01 20:40:35        875 tmp/delta/creation_date=2015-01-02/part-00011-2348f269-9561-4767-ab3c-634788b0e85d.c000.snappy.parquet\n"
     ]
    }
   ],
   "source": [
    "%%sh\n",
    "\n",
    "aws s3 ls s3://${S3_BUCKET_NAME}/tmp/delta/ --recursive | tee /tmp/delta_op_001"
   ]
  },
  {
   "cell_type": "markdown",
   "id": "2e931094-9f8b-4a66-8d4d-cf6ba888a491",
   "metadata": {},
   "source": [
    "Similar to Hudi, we've got our `.parquet` files in each partition as well as some sort of JSON file in the `_delta_log` prefix. Let's take a quick look at that JSON."
   ]
  },
  {
   "cell_type": "code",
   "execution_count": 26,
   "id": "0f960e02-d7cf-4104-95c8-a110c82c1444",
   "metadata": {
    "execution": {
     "iopub.execute_input": "2022-02-01T20:40:37.286225Z",
     "iopub.status.busy": "2022-02-01T20:40:37.286065Z",
     "iopub.status.idle": "2022-02-01T20:40:37.786939Z",
     "shell.execute_reply": "2022-02-01T20:40:37.786400Z",
     "shell.execute_reply.started": "2022-02-01T20:40:37.286204Z"
    },
    "tags": []
   },
   "outputs": [
    {
     "name": "stdout",
     "output_type": "stream",
     "text": [
      "{\n",
      "  \"commitInfo\": {\n",
      "    \"timestamp\": 1643748034751,\n",
      "    \"operation\": \"WRITE\",\n",
      "    \"operationParameters\": {\n",
      "      \"mode\": \"Overwrite\",\n",
      "      \"partitionBy\": \"[\\\"creation_date\\\"]\"\n",
      "    },\n",
      "    \"isBlindAppend\": false,\n",
      "    \"operationMetrics\": {\n",
      "      \"numFiles\": \"6\",\n",
      "      \"numOutputBytes\": \"5250\",\n",
      "      \"numOutputRows\": \"6\"\n",
      "    }\n",
      "  }\n",
      "}\n",
      "{\n",
      "  \"protocol\": {\n",
      "    \"minReaderVersion\": 1,\n",
      "    \"minWriterVersion\": 2\n",
      "  }\n",
      "}\n",
      "{\n",
      "  \"metaData\": {\n",
      "    \"id\": \"e1c7e882-e876-495b-aa0e-751a5ecb9feb\",\n",
      "    \"format\": {\n",
      "      \"provider\": \"parquet\",\n",
      "      \"options\": {}\n",
      "    },\n",
      "    \"schemaString\": \"{\\\"type\\\":\\\"struct\\\",\\\"fields\\\":[{\\\"name\\\":\\\"id\\\",\\\"type\\\":\\\"string\\\",\\\"nullable\\\":true,\\\"metadata\\\":{}},{\\\"name\\\":\\\"creation_date\\\",\\\"type\\\":\\\"string\\\",\\\"nullable\\\":true,\\\"metadata\\\":{}},{\\\"name\\\":\\\"last_update_time\\\",\\\"type\\\":\\\"string\\\",\\\"nullable\\\":true,\\\"metadata\\\":{}}]}\",\n",
      "    \"partitionColumns\": [\n",
      "      \"creation_date\"\n",
      "    ],\n",
      "    \"configuration\": {},\n",
      "    \"createdTime\": 1643748034259\n",
      "  }\n",
      "}\n",
      "{\n",
      "  \"add\": {\n",
      "    \"path\": \"creation_date=2015-01-01/part-00001-329f5740-2d39-4121-a226-96819c7b0e54.c000.snappy.parquet\",\n",
      "    \"partitionValues\": {\n",
      "      \"creation_date\": \"2015-01-01\"\n",
      "    },\n",
      "    \"size\": 875,\n",
      "    \"modificationTime\": 1643748035000,\n",
      "    \"dataChange\": true\n",
      "  }\n",
      "}\n",
      "{\n",
      "  \"add\": {\n",
      "    \"path\": \"creation_date=2015-01-01/part-00003-56522242-034b-4fe1-ba13-6eb887606c4d.c000.snappy.parquet\",\n",
      "    \"partitionValues\": {\n",
      "      \"creation_date\": \"2015-01-01\"\n",
      "    },\n",
      "    \"size\": 875,\n",
      "    \"modificationTime\": 1643748035000,\n",
      "    \"dataChange\": true\n",
      "  }\n",
      "}\n",
      "{\n",
      "  \"add\": {\n",
      "    \"path\": \"creation_date=2015-01-01/part-00005-69310258-d7d2-48cd-a20d-a06f87f5ada0.c000.snappy.parquet\",\n",
      "    \"partitionValues\": {\n",
      "      \"creation_date\": \"2015-01-01\"\n",
      "    },\n",
      "    \"size\": 875,\n",
      "    \"modificationTime\": 1643748035000,\n",
      "    \"dataChange\": true\n",
      "  }\n",
      "}\n",
      "{\n",
      "  \"add\": {\n",
      "    \"path\": \"creation_date=2015-01-01/part-00007-c1079719-8587-42b6-99f7-3c34c9412929.c000.snappy.parquet\",\n",
      "    \"partitionValues\": {\n",
      "      \"creation_date\": \"2015-01-01\"\n",
      "    },\n",
      "    \"size\": 875,\n",
      "    \"modificationTime\": 1643748035000,\n",
      "    \"dataChange\": true\n",
      "  }\n",
      "}\n",
      "{\n",
      "  \"add\": {\n",
      "    \"path\": \"creation_date=2015-01-02/part-00009-719fb0c9-cb8a-4135-86df-32867dc61aac.c000.snappy.parquet\",\n",
      "    \"partitionValues\": {\n",
      "      \"creation_date\": \"2015-01-02\"\n",
      "    },\n",
      "    \"size\": 875,\n",
      "    \"modificationTime\": 1643748035000,\n",
      "    \"dataChange\": true\n",
      "  }\n",
      "}\n",
      "{\n",
      "  \"add\": {\n",
      "    \"path\": \"creation_date=2015-01-02/part-00011-2348f269-9561-4767-ab3c-634788b0e85d.c000.snappy.parquet\",\n",
      "    \"partitionValues\": {\n",
      "      \"creation_date\": \"2015-01-02\"\n",
      "    },\n",
      "    \"size\": 875,\n",
      "    \"modificationTime\": 1643748035000,\n",
      "    \"dataChange\": true\n",
      "  }\n",
      "}\n"
     ]
    }
   ],
   "source": [
    "%%sh\n",
    "\n",
    "aws s3 cp s3://${S3_BUCKET_NAME}/tmp/delta/_delta_log/00000000000000000000.json - | jq '.'"
   ]
  },
  {
   "cell_type": "markdown",
   "id": "79a4f4fd-e4bf-4c7b-9619-1750cef39d2a",
   "metadata": {},
   "source": [
    "OK, so we've got some `commitInfo` that gives us information about the commit including the operation type and number of files written. We've got some `metaData` that includes the schema. And then several different `add` statements about the parquet files being created."
   ]
  },
  {
   "cell_type": "markdown",
   "id": "332e86dd-6768-4990-8d71-b0f9cb72e344",
   "metadata": {},
   "source": [
    "## Updating Data\n",
    "\n",
    "Alright, let's go ahead and update one of our rows. Delta Lake provides a `merge` operation that we can use. We'll use the syntax [from the docs](https://docs.delta.io/latest/quick-start.html#update-table-data) that's slightly different from native Spark as it creates a `DeltaTable` object."
   ]
  },
  {
   "cell_type": "code",
   "execution_count": 27,
   "id": "83bf8fbf-9d8d-48f9-a58a-bee25454d8b1",
   "metadata": {
    "execution": {
     "iopub.execute_input": "2022-02-01T20:40:37.788003Z",
     "iopub.status.busy": "2022-02-01T20:40:37.787846Z",
     "iopub.status.idle": "2022-02-01T20:40:40.080511Z",
     "shell.execute_reply": "2022-02-01T20:40:40.080033Z",
     "shell.execute_reply.started": "2022-02-01T20:40:37.787983Z"
    },
    "tags": []
   },
   "outputs": [
    {
     "data": {
      "application/vnd.jupyter.widget-view+json": {
       "model_id": "a4aac8feb9c64f059eec0b2f6fafc24b",
       "version_major": 2,
       "version_minor": 0
      },
      "text/plain": [
       "VBox()"
      ]
     },
     "metadata": {},
     "output_type": "display_data"
    },
    {
     "data": {
      "application/vnd.jupyter.widget-view+json": {
       "model_id": "",
       "version_major": 2,
       "version_minor": 0
      },
      "text/plain": [
       "FloatProgress(value=0.0, bar_style='info', description='Progress:', layout=Layout(height='25px', width='50%'),…"
      ]
     },
     "metadata": {},
     "output_type": "display_data"
    },
    {
     "name": "stdout",
     "output_type": "stream",
     "text": [
      "+---+-------------+--------------------+\n",
      "| id|creation_date|    last_update_time|\n",
      "+---+-------------+--------------------+\n",
      "|100|   2022-01-11|2015-01-01T13:51:...|\n",
      "|101|   2015-01-01|2015-01-01T12:14:...|\n",
      "|102|   2015-01-01|2015-01-01T13:51:...|\n",
      "|103|   2015-01-01|2015-01-01T13:51:...|\n",
      "|105|   2015-01-02|2015-01-01T13:51:...|\n",
      "|104|   2015-01-02|2015-01-01T12:15:...|\n",
      "+---+-------------+--------------------+"
     ]
    }
   ],
   "source": [
    "from pyspark.sql.functions import lit\n",
    "\n",
    "# Create a new DataFrame from the first row of inputDF with a different creation_date value\n",
    "updateDF = inputDF.where(\"id = 100\").withColumn(\"creation_date\", lit(\"2022-01-11\"))\n",
    "\n",
    "from delta.tables import *\n",
    "from pyspark.sql.functions import *\n",
    "\n",
    "deltaTable = DeltaTable.forPath(spark, f\"s3://{S3_BUCKET_NAME}/tmp/delta/\")\n",
    "\n",
    "deltaTable.alias(\"oldData\") \\\n",
    "  .merge(\n",
    "    updateDF.alias(\"newData\"),\n",
    "    \"oldData.id = newData.id\") \\\n",
    "  .whenMatchedUpdate(set = { \"creation_date\": col(\"newData.creation_date\") }) \\\n",
    "  .execute()\n",
    "\n",
    "deltaTable.toDF().show()"
   ]
  },
  {
   "cell_type": "markdown",
   "id": "87c80adc-265c-4431-b77f-a101dd44fd80",
   "metadata": {},
   "source": [
    "Cool, looks like that worked! Let's take another peek at S3. We'll see one new `_delta_log` and one new `.parquet` file."
   ]
  },
  {
   "cell_type": "code",
   "execution_count": 28,
   "id": "f41a4820-f396-40db-9e01-9b4e7652fd24",
   "metadata": {
    "execution": {
     "iopub.execute_input": "2022-02-01T20:40:40.081409Z",
     "iopub.status.busy": "2022-02-01T20:40:40.081263Z",
     "iopub.status.idle": "2022-02-01T20:40:40.511036Z",
     "shell.execute_reply": "2022-02-01T20:40:40.510504Z",
     "shell.execute_reply.started": "2022-02-01T20:40:40.081391Z"
    },
    "tags": []
   },
   "outputs": [
    {
     "name": "stdout",
     "output_type": "stream",
     "text": [
      "--- /tmp/delta_op_001\t2022-02-01 20:40:37.234677808 +0000\n",
      "+++ /tmp/delta_op_002\t2022-02-01 20:40:40.470673699 +0000\n",
      "@@ -1,4 +1,5 @@\n",
      " 2022-02-01 20:40:35       2120 tmp/delta/_delta_log/00000000000000000000.json\n",
      "+2022-02-01 20:40:39       1015 tmp/delta/_delta_log/00000000000000000001.json\n",
      " 2022-02-01 20:40:35          0 tmp/delta/_delta_log_$folder$\n",
      " 2022-02-01 20:40:35        875 tmp/delta/creation_date=2015-01-01/part-00001-329f5740-2d39-4121-a226-96819c7b0e54.c000.snappy.parquet\n",
      " 2022-02-01 20:40:35        875 tmp/delta/creation_date=2015-01-01/part-00003-56522242-034b-4fe1-ba13-6eb887606c4d.c000.snappy.parquet\n",
      "@@ -6,3 +7,4 @@\n",
      " 2022-02-01 20:40:35        875 tmp/delta/creation_date=2015-01-01/part-00007-c1079719-8587-42b6-99f7-3c34c9412929.c000.snappy.parquet\n",
      " 2022-02-01 20:40:35        875 tmp/delta/creation_date=2015-01-02/part-00009-719fb0c9-cb8a-4135-86df-32867dc61aac.c000.snappy.parquet\n",
      " 2022-02-01 20:40:35        875 tmp/delta/creation_date=2015-01-02/part-00011-2348f269-9561-4767-ab3c-634788b0e85d.c000.snappy.parquet\n",
      "+2022-02-01 20:40:39        875 tmp/delta/creation_date=2022-01-11/part-00000-15a77ce6-e8e1-4bba-8e04-846a9e095a9b.c000.snappy.parquet\n"
     ]
    }
   ],
   "source": [
    "%%sh\n",
    "\n",
    "aws s3 ls s3://${S3_BUCKET_NAME}/tmp/delta/ --recursive > /tmp/delta_op_002\n",
    "diff -u /tmp/delta_op_001 /tmp/delta_op_002 || true"
   ]
  },
  {
   "cell_type": "code",
   "execution_count": 29,
   "id": "2acea049-f338-4e45-840e-80e9094776ba",
   "metadata": {
    "execution": {
     "iopub.execute_input": "2022-02-01T20:40:40.512144Z",
     "iopub.status.busy": "2022-02-01T20:40:40.511966Z",
     "iopub.status.idle": "2022-02-01T20:40:41.013640Z",
     "shell.execute_reply": "2022-02-01T20:40:41.013122Z",
     "shell.execute_reply.started": "2022-02-01T20:40:40.512120Z"
    },
    "tags": []
   },
   "outputs": [
    {
     "name": "stdout",
     "output_type": "stream",
     "text": [
      "{\n",
      "  \"commitInfo\": {\n",
      "    \"timestamp\": 1643748038744,\n",
      "    \"operation\": \"MERGE\",\n",
      "    \"operationParameters\": {\n",
      "      \"predicate\": \"(oldData.`id` = newData.`id`)\",\n",
      "      \"matchedPredicates\": \"[{\\\"actionType\\\":\\\"update\\\"}]\",\n",
      "      \"notMatchedPredicates\": \"[]\"\n",
      "    },\n",
      "    \"readVersion\": 0,\n",
      "    \"isBlindAppend\": false,\n",
      "    \"operationMetrics\": {\n",
      "      \"numTargetRowsCopied\": \"0\",\n",
      "      \"numTargetRowsDeleted\": \"0\",\n",
      "      \"numTargetFilesAdded\": \"1\",\n",
      "      \"executionTimeMs\": \"850\",\n",
      "      \"numTargetRowsInserted\": \"0\",\n",
      "      \"scanTimeMs\": \"448\",\n",
      "      \"numTargetRowsUpdated\": \"1\",\n",
      "      \"numOutputRows\": \"1\",\n",
      "      \"numSourceRows\": \"1\",\n",
      "      \"numTargetFilesRemoved\": \"1\",\n",
      "      \"rewriteTimeMs\": \"364\"\n",
      "    }\n",
      "  }\n",
      "}\n",
      "{\n",
      "  \"remove\": {\n",
      "    \"path\": \"creation_date=2015-01-01/part-00001-329f5740-2d39-4121-a226-96819c7b0e54.c000.snappy.parquet\",\n",
      "    \"deletionTimestamp\": 1643748038744,\n",
      "    \"dataChange\": true,\n",
      "    \"extendedFileMetadata\": true,\n",
      "    \"partitionValues\": {\n",
      "      \"creation_date\": \"2015-01-01\"\n",
      "    },\n",
      "    \"size\": 875\n",
      "  }\n",
      "}\n",
      "{\n",
      "  \"add\": {\n",
      "    \"path\": \"creation_date=2022-01-11/part-00000-15a77ce6-e8e1-4bba-8e04-846a9e095a9b.c000.snappy.parquet\",\n",
      "    \"partitionValues\": {\n",
      "      \"creation_date\": \"2022-01-11\"\n",
      "    },\n",
      "    \"size\": 875,\n",
      "    \"modificationTime\": 1643748039000,\n",
      "    \"dataChange\": true\n",
      "  }\n",
      "}\n"
     ]
    }
   ],
   "source": [
    "%%sh\n",
    "\n",
    "aws s3 cp s3://${S3_BUCKET_NAME}/tmp/delta/_delta_log/00000000000000000001.json - | jq '.'"
   ]
  },
  {
   "cell_type": "markdown",
   "id": "366c82f8-b384-4af8-9174-51f6b3f07577",
   "metadata": {},
   "source": [
    "When we look at that JSON file, we can see it recorded our `MERGE` commit and that one parquet file was \"remove\"ed and another was added.\n",
    "\n",
    "Given that no parquet file was removed from S3, it looks like Delta Lake reconstructs the state of the table from these logs.\n",
    "\n",
    "We can see from the [Delta Utility](https://docs.delta.io/latest/delta-utility.html#language-python) docs, we can `vacuum` the table to remove data files and also retrieve the history of the table. Vacuum won't delete until after the default retention period (30 days) has passed, but let's look at the history."
   ]
  },
  {
   "cell_type": "code",
   "execution_count": 30,
   "id": "8b323388-2430-4707-ab08-9538b7ec1835",
   "metadata": {
    "execution": {
     "iopub.execute_input": "2022-02-01T20:40:41.015309Z",
     "iopub.status.busy": "2022-02-01T20:40:41.015147Z",
     "iopub.status.idle": "2022-02-01T20:40:42.939825Z",
     "shell.execute_reply": "2022-02-01T20:40:42.939384Z",
     "shell.execute_reply.started": "2022-02-01T20:40:41.015288Z"
    },
    "tags": []
   },
   "outputs": [
    {
     "data": {
      "application/vnd.jupyter.widget-view+json": {
       "model_id": "a86cd9d02d0a4afd9cdc07b0a79b07bc",
       "version_major": 2,
       "version_minor": 0
      },
      "text/plain": [
       "VBox()"
      ]
     },
     "metadata": {},
     "output_type": "display_data"
    },
    {
     "data": {
      "application/vnd.jupyter.widget-view+json": {
       "model_id": "",
       "version_major": 2,
       "version_minor": 0
      },
      "text/plain": [
       "FloatProgress(value=0.0, bar_style='info', description='Progress:', layout=Layout(height='25px', width='50%'),…"
      ]
     },
     "metadata": {},
     "output_type": "display_data"
    },
    {
     "name": "stdout",
     "output_type": "stream",
     "text": [
      "+-------+-------------------+------+--------+---------+------------------------------------------------------------------------------------------------------------------------+----+--------+---------+-----------+--------------+-------------+---------------------------------------------------------------------------------------------------------------------------------------------------------------------------------------------------------------------------------------------------------------------------+------------+\n",
      "|version|timestamp          |userId|userName|operation|operationParameters                                                                                                     |job |notebook|clusterId|readVersion|isolationLevel|isBlindAppend|operationMetrics                                                                                                                                                                                                                                                           |userMetadata|\n",
      "+-------+-------------------+------+--------+---------+------------------------------------------------------------------------------------------------------------------------+----+--------+---------+-----------+--------------+-------------+---------------------------------------------------------------------------------------------------------------------------------------------------------------------------------------------------------------------------------------------------------------------------+------------+\n",
      "|1      |2022-02-01 20:40:39|null  |null    |MERGE    |{predicate -> (oldData.`id` = newData.`id`), matchedPredicates -> [{\"actionType\":\"update\"}], notMatchedPredicates -> []}|null|null    |null     |0          |null          |false        |{numTargetRowsCopied -> 0, numTargetRowsDeleted -> 0, numTargetFilesAdded -> 1, executionTimeMs -> 850, numTargetRowsInserted -> 0, scanTimeMs -> 448, numTargetRowsUpdated -> 1, numOutputRows -> 1, numSourceRows -> 1, numTargetFilesRemoved -> 1, rewriteTimeMs -> 364}|null        |\n",
      "|0      |2022-02-01 20:40:35|null  |null    |WRITE    |{mode -> Overwrite, partitionBy -> [\"creation_date\"]}                                                                   |null|null    |null     |null       |null          |false        |{numFiles -> 6, numOutputBytes -> 5250, numOutputRows -> 6}                                                                                                                                                                                                                |null        |\n",
      "+-------+-------------------+------+--------+---------+------------------------------------------------------------------------------------------------------------------------+----+--------+---------+-----------+--------------+-------------+---------------------------------------------------------------------------------------------------------------------------------------------------------------------------------------------------------------------------------------------------------------------------+------------+"
     ]
    }
   ],
   "source": [
    "deltaTable.history().show(truncate=False)"
   ]
  },
  {
   "cell_type": "markdown",
   "id": "03dbe19d-8484-43c5-a997-97cb9adb48c1",
   "metadata": {},
   "source": [
    "## Deleting Data\n",
    "\n",
    "We can, of course, delete data as well! We'll use the `deltaTable` object we created above."
   ]
  },
  {
   "cell_type": "code",
   "execution_count": 31,
   "id": "bb1b5710-5880-449f-b19b-33d3fb88ea90",
   "metadata": {
    "execution": {
     "iopub.execute_input": "2022-02-01T20:40:42.940741Z",
     "iopub.status.busy": "2022-02-01T20:40:42.940600Z",
     "iopub.status.idle": "2022-02-01T20:40:45.207884Z",
     "shell.execute_reply": "2022-02-01T20:40:45.207443Z",
     "shell.execute_reply.started": "2022-02-01T20:40:42.940723Z"
    },
    "tags": []
   },
   "outputs": [
    {
     "data": {
      "application/vnd.jupyter.widget-view+json": {
       "model_id": "15e6af78b4674af3bf7457f37139cf82",
       "version_major": 2,
       "version_minor": 0
      },
      "text/plain": [
       "VBox()"
      ]
     },
     "metadata": {},
     "output_type": "display_data"
    },
    {
     "data": {
      "application/vnd.jupyter.widget-view+json": {
       "model_id": "",
       "version_major": 2,
       "version_minor": 0
      },
      "text/plain": [
       "FloatProgress(value=0.0, bar_style='info', description='Progress:', layout=Layout(height='25px', width='50%'),…"
      ]
     },
     "metadata": {},
     "output_type": "display_data"
    },
    {
     "name": "stdout",
     "output_type": "stream",
     "text": [
      "+---+-------------+--------------------+\n",
      "| id|creation_date|    last_update_time|\n",
      "+---+-------------+--------------------+\n",
      "|101|   2015-01-01|2015-01-01T12:14:...|\n",
      "|102|   2015-01-01|2015-01-01T13:51:...|\n",
      "|103|   2015-01-01|2015-01-01T13:51:...|\n",
      "|105|   2015-01-02|2015-01-01T13:51:...|\n",
      "|104|   2015-01-02|2015-01-01T12:15:...|\n",
      "+---+-------------+--------------------+"
     ]
    }
   ],
   "source": [
    "deltaTable.delete(\"id = 100\")\n",
    "deltaTable.toDF().show()"
   ]
  },
  {
   "cell_type": "code",
   "execution_count": 32,
   "id": "037cf5ad-e643-4300-960c-8910ecd30fc0",
   "metadata": {
    "execution": {
     "iopub.execute_input": "2022-02-01T20:40:45.208759Z",
     "iopub.status.busy": "2022-02-01T20:40:45.208609Z",
     "iopub.status.idle": "2022-02-01T20:40:45.653070Z",
     "shell.execute_reply": "2022-02-01T20:40:45.652563Z",
     "shell.execute_reply.started": "2022-02-01T20:40:45.208739Z"
    },
    "tags": []
   },
   "outputs": [
    {
     "name": "stdout",
     "output_type": "stream",
     "text": [
      "--- /tmp/delta_op_002\t2022-02-01 20:40:40.470673699 +0000\n",
      "+++ /tmp/delta_op_003\t2022-02-01 20:40:45.602667185 +0000\n",
      "@@ -1,5 +1,6 @@\n",
      " 2022-02-01 20:40:35       2120 tmp/delta/_delta_log/00000000000000000000.json\n",
      " 2022-02-01 20:40:39       1015 tmp/delta/_delta_log/00000000000000000001.json\n",
      "+2022-02-01 20:40:44        596 tmp/delta/_delta_log/00000000000000000002.json\n",
      " 2022-02-01 20:40:35          0 tmp/delta/_delta_log_$folder$\n",
      " 2022-02-01 20:40:35        875 tmp/delta/creation_date=2015-01-01/part-00001-329f5740-2d39-4121-a226-96819c7b0e54.c000.snappy.parquet\n",
      " 2022-02-01 20:40:35        875 tmp/delta/creation_date=2015-01-01/part-00003-56522242-034b-4fe1-ba13-6eb887606c4d.c000.snappy.parquet\n"
     ]
    }
   ],
   "source": [
    "%%sh\n",
    "\n",
    "aws s3 ls s3://${S3_BUCKET_NAME}/tmp/delta/ --recursive > /tmp/delta_op_003\n",
    "diff -u /tmp/delta_op_002 /tmp/delta_op_003 || true"
   ]
  },
  {
   "cell_type": "markdown",
   "id": "c3dc5b4d-ca97-44a3-8ea7-af91304c9a6a",
   "metadata": {},
   "source": [
    "Interestingly enough, we just see a new `_delta_log` JSON file, recording the fact that the parquet file is no longer relevant."
   ]
  },
  {
   "cell_type": "code",
   "execution_count": 33,
   "id": "db9ca11d-d1b6-4401-9900-1c23c95478a8",
   "metadata": {
    "execution": {
     "iopub.execute_input": "2022-02-01T20:40:45.654107Z",
     "iopub.status.busy": "2022-02-01T20:40:45.653951Z",
     "iopub.status.idle": "2022-02-01T20:40:46.140951Z",
     "shell.execute_reply": "2022-02-01T20:40:46.140403Z",
     "shell.execute_reply.started": "2022-02-01T20:40:45.654087Z"
    },
    "tags": []
   },
   "outputs": [
    {
     "name": "stdout",
     "output_type": "stream",
     "text": [
      "{\n",
      "  \"commitInfo\": {\n",
      "    \"timestamp\": 1643748043482,\n",
      "    \"operation\": \"DELETE\",\n",
      "    \"operationParameters\": {\n",
      "      \"predicate\": \"[\\\"(CAST(`id` AS INT) = 100)\\\"]\"\n",
      "    },\n",
      "    \"readVersion\": 1,\n",
      "    \"isBlindAppend\": false,\n",
      "    \"operationMetrics\": {\n",
      "      \"numRemovedFiles\": \"1\",\n",
      "      \"numCopiedRows\": \"0\",\n",
      "      \"executionTimeMs\": \"446\",\n",
      "      \"numDeletedRows\": \"1\",\n",
      "      \"scanTimeMs\": \"293\",\n",
      "      \"numAddedFiles\": \"0\",\n",
      "      \"rewriteTimeMs\": \"153\"\n",
      "    }\n",
      "  }\n",
      "}\n",
      "{\n",
      "  \"remove\": {\n",
      "    \"path\": \"creation_date=2022-01-11/part-00000-15a77ce6-e8e1-4bba-8e04-846a9e095a9b.c000.snappy.parquet\",\n",
      "    \"deletionTimestamp\": 1643748043482,\n",
      "    \"dataChange\": true,\n",
      "    \"extendedFileMetadata\": true,\n",
      "    \"partitionValues\": {\n",
      "      \"creation_date\": \"2022-01-11\"\n",
      "    },\n",
      "    \"size\": 875\n",
      "  }\n",
      "}\n"
     ]
    }
   ],
   "source": [
    "%%sh\n",
    "\n",
    "aws s3 cp s3://${S3_BUCKET_NAME}/tmp/delta/_delta_log/00000000000000000002.json - | jq '.'"
   ]
  },
  {
   "cell_type": "markdown",
   "id": "f9a54fd7-a002-4d9d-84c1-b1df60c553d5",
   "metadata": {},
   "source": [
    "## Snapshots\n",
    "\n",
    "We can also read the table at a certain point-in-time using [Spark SQL or DataFrames](https://docs.delta.io/latest/delta-batch.html#-deltatimetravel)."
   ]
  },
  {
   "cell_type": "code",
   "execution_count": 34,
   "id": "95cfe9e3-e4b7-4a33-8172-1bf084833e96",
   "metadata": {
    "execution": {
     "iopub.execute_input": "2022-02-01T20:40:46.142080Z",
     "iopub.status.busy": "2022-02-01T20:40:46.141917Z",
     "iopub.status.idle": "2022-02-01T20:40:48.515567Z",
     "shell.execute_reply": "2022-02-01T20:40:48.515129Z",
     "shell.execute_reply.started": "2022-02-01T20:40:46.142059Z"
    },
    "tags": []
   },
   "outputs": [
    {
     "data": {
      "application/vnd.jupyter.widget-view+json": {
       "model_id": "a93d9efae741417bad00e09b6132540d",
       "version_major": 2,
       "version_minor": 0
      },
      "text/plain": [
       "VBox()"
      ]
     },
     "metadata": {},
     "output_type": "display_data"
    },
    {
     "data": {
      "application/vnd.jupyter.widget-view+json": {
       "model_id": "",
       "version_major": 2,
       "version_minor": 0
      },
      "text/plain": [
       "FloatProgress(value=0.0, bar_style='info', description='Progress:', layout=Layout(height='25px', width='50%'),…"
      ]
     },
     "metadata": {},
     "output_type": "display_data"
    },
    {
     "name": "stdout",
     "output_type": "stream",
     "text": [
      "+---+-------------+--------------------+\n",
      "| id|creation_date|    last_update_time|\n",
      "+---+-------------+--------------------+\n",
      "|101|   2015-01-01|2015-01-01T12:14:...|\n",
      "|100|   2015-01-01|2015-01-01T13:51:...|\n",
      "|102|   2015-01-01|2015-01-01T13:51:...|\n",
      "|103|   2015-01-01|2015-01-01T13:51:...|\n",
      "|105|   2015-01-02|2015-01-01T13:51:...|\n",
      "|104|   2015-01-02|2015-01-01T12:15:...|\n",
      "+---+-------------+--------------------+"
     ]
    }
   ],
   "source": [
    "# Read using a specific timestamp\n",
    "first_timestamp = deltaTable.history().sort(\"version\").limit(1).collect()[0]['timestamp']\n",
    "\n",
    "df1 = (\n",
    "    spark.read.format(\"delta\")\n",
    "    .option(\"timestampAsOf\", first_timestamp)\n",
    "    .load(f\"s3://{S3_BUCKET_NAME}/tmp/delta/\")\n",
    ")\n",
    "df1.show()"
   ]
  },
  {
   "cell_type": "code",
   "execution_count": 35,
   "id": "5c82abe1-e96d-4a70-91d1-c4b86b4e8bd4",
   "metadata": {
    "execution": {
     "iopub.execute_input": "2022-02-01T20:40:48.516370Z",
     "iopub.status.busy": "2022-02-01T20:40:48.516230Z",
     "iopub.status.idle": "2022-02-01T20:40:49.819185Z",
     "shell.execute_reply": "2022-02-01T20:40:49.818769Z",
     "shell.execute_reply.started": "2022-02-01T20:40:48.516352Z"
    },
    "tags": []
   },
   "outputs": [
    {
     "data": {
      "application/vnd.jupyter.widget-view+json": {
       "model_id": "e62fe8abe9104d138f9842354cfc7cbe",
       "version_major": 2,
       "version_minor": 0
      },
      "text/plain": [
       "VBox()"
      ]
     },
     "metadata": {},
     "output_type": "display_data"
    },
    {
     "data": {
      "application/vnd.jupyter.widget-view+json": {
       "model_id": "",
       "version_major": 2,
       "version_minor": 0
      },
      "text/plain": [
       "FloatProgress(value=0.0, bar_style='info', description='Progress:', layout=Layout(height='25px', width='50%'),…"
      ]
     },
     "metadata": {},
     "output_type": "display_data"
    },
    {
     "name": "stdout",
     "output_type": "stream",
     "text": [
      "+---+-------------+--------------------+\n",
      "| id|creation_date|    last_update_time|\n",
      "+---+-------------+--------------------+\n",
      "|101|   2015-01-01|2015-01-01T12:14:...|\n",
      "|100|   2015-01-01|2015-01-01T13:51:...|\n",
      "|102|   2015-01-01|2015-01-01T13:51:...|\n",
      "|103|   2015-01-01|2015-01-01T13:51:...|\n",
      "|105|   2015-01-02|2015-01-01T13:51:...|\n",
      "|104|   2015-01-02|2015-01-01T12:15:...|\n",
      "+---+-------------+--------------------+"
     ]
    }
   ],
   "source": [
    "# Or a specific (0-indexed :)) version\n",
    "df2 = (\n",
    "    spark.read.format(\"delta\")\n",
    "    .option(\"versionAsOf\", 0)\n",
    "    .load(f\"s3://{S3_BUCKET_NAME}/tmp/delta/\")\n",
    ")\n",
    "df2.show()"
   ]
  },
  {
   "cell_type": "markdown",
   "id": "a0587d3d-cefa-4ffd-8f85-33a25d47a939",
   "metadata": {},
   "source": [
    "Sometimes it can be helpful to describe the history of a table. For example, you might want to get the latest version to use in downstream queries."
   ]
  },
  {
   "cell_type": "code",
   "execution_count": 36,
   "id": "736f79ad-bd3a-46f3-96f2-170dcb45650e",
   "metadata": {
    "execution": {
     "iopub.execute_input": "2022-02-01T20:40:49.819991Z",
     "iopub.status.busy": "2022-02-01T20:40:49.819850Z",
     "iopub.status.idle": "2022-02-01T20:40:50.798987Z",
     "shell.execute_reply": "2022-02-01T20:40:50.798543Z",
     "shell.execute_reply.started": "2022-02-01T20:40:49.819973Z"
    },
    "tags": []
   },
   "outputs": [
    {
     "data": {
      "application/vnd.jupyter.widget-view+json": {
       "model_id": "98087d0ac03c4540a18f21d73925511d",
       "version_major": 2,
       "version_minor": 0
      },
      "text/plain": [
       "VBox()"
      ]
     },
     "metadata": {},
     "output_type": "display_data"
    },
    {
     "data": {
      "application/vnd.jupyter.widget-view+json": {
       "model_id": "",
       "version_major": 2,
       "version_minor": 0
      },
      "text/plain": [
       "FloatProgress(value=0.0, bar_style='info', description='Progress:', layout=Layout(height='25px', width='50%'),…"
      ]
     },
     "metadata": {},
     "output_type": "display_data"
    },
    {
     "name": "stdout",
     "output_type": "stream",
     "text": [
      "+-------+-------------------+------+--------+---------+--------------------+----+--------+---------+-----------+--------------+-------------+--------------------+------------+\n",
      "|version|          timestamp|userId|userName|operation| operationParameters| job|notebook|clusterId|readVersion|isolationLevel|isBlindAppend|    operationMetrics|userMetadata|\n",
      "+-------+-------------------+------+--------+---------+--------------------+----+--------+---------+-----------+--------------+-------------+--------------------+------------+\n",
      "|      2|2022-02-01 20:40:44|  null|    null|   DELETE|{predicate -> [\"(...|null|    null|     null|          1|          null|        false|{numRemovedFiles ...|        null|\n",
      "|      1|2022-02-01 20:40:39|  null|    null|    MERGE|{predicate -> (ol...|null|    null|     null|          0|          null|        false|{numTargetRowsCop...|        null|\n",
      "|      0|2022-02-01 20:40:35|  null|    null|    WRITE|{mode -> Overwrit...|null|    null|     null|       null|          null|        false|{numFiles -> 6, n...|        null|\n",
      "+-------+-------------------+------+--------+---------+--------------------+----+--------+---------+-----------+--------------+-------------+--------------------+------------+\n",
      "\n",
      "Latest version is: 2"
     ]
    }
   ],
   "source": [
    "history = spark.sql(f\"DESCRIBE HISTORY delta.`s3://{S3_BUCKET_NAME}/tmp/delta/`\")\n",
    "\n",
    "history.show()\n",
    "\n",
    "latest_version = history.selectExpr(\"max(version)\").collect()[0][0]\n",
    "print(f\"Latest version is: {latest_version}\")"
   ]
  },
  {
   "cell_type": "markdown",
   "id": "60b97f9e-7dea-4306-b0f3-1fb03176b0bf",
   "metadata": {},
   "source": [
    "## Cleanup"
   ]
  },
  {
   "cell_type": "code",
   "execution_count": 37,
   "id": "5356df97-4d87-4d9d-899b-4c8dbc140f2a",
   "metadata": {
    "execution": {
     "iopub.execute_input": "2022-02-01T20:40:50.799777Z",
     "iopub.status.busy": "2022-02-01T20:40:50.799640Z",
     "iopub.status.idle": "2022-02-01T20:40:50.811128Z",
     "shell.execute_reply": "2022-02-01T20:40:50.810593Z",
     "shell.execute_reply.started": "2022-02-01T20:40:50.799760Z"
    },
    "tags": []
   },
   "outputs": [],
   "source": [
    "%%sh\n",
    "\n",
    "if [ 1 == 2 ]; then\n",
    "    aws s3 rm --recursive s3://${S3_BUCKET_NAME}/tmp/delta/\n",
    "fi"
   ]
  }
 ],
 "metadata": {
  "kernelspec": {
   "display_name": "PySpark",
   "language": "",
   "name": "pysparkkernel"
  },
  "language_info": {
   "codemirror_mode": {
    "name": "python",
    "version": 3
   },
   "mimetype": "text/x-python",
   "name": "pyspark",
   "pygments_lexer": "python3"
  }
 },
 "nbformat": 4,
 "nbformat_minor": 5
}
