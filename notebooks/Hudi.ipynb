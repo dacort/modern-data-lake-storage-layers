{
 "cells": [
  {
   "cell_type": "markdown",
   "id": "1fb3083c-7e87-460b-b458-f0a9740cb0c3",
   "metadata": {},
   "source": [
    "# Modern Data Lake Storage Layers - Apache Hudi"
   ]
  },
  {
   "cell_type": "code",
   "execution_count": null,
   "id": "df5b1d56-c8f3-469e-9e14-9ee6acd5ae8a",
   "metadata": {
    "tags": []
   },
   "outputs": [],
   "source": [
    "%%configure -f\n",
    "{\n",
    "    \"conf\": {\n",
    "        \"spark.jars\": \"hdfs:///apps/hudi/lib/hudi-spark-bundle.jar,hdfs:///apps/hudi/lib/spark-avro.jar\",\n",
    "        \"spark.serializer\": \"org.apache.spark.serializer.KryoSerializer\",\n",
    "        \"spark.sql.hive.convertMetastoreParquet\": \"false\"\n",
    "    }\n",
    "}"
   ]
  },
  {
   "cell_type": "code",
   "execution_count": null,
   "id": "5c780e89-702c-41aa-a0d9-00037013ad2b",
   "metadata": {
    "tags": []
   },
   "outputs": [],
   "source": [
    "%env S3_BUCKET_NAME=YOUR_S3_BUCKET_NAME"
   ]
  },
  {
   "cell_type": "code",
   "execution_count": null,
   "id": "65b6a194-d84e-4801-91b9-5b7a481795cc",
   "metadata": {
    "tags": []
   },
   "outputs": [],
   "source": [
    "S3_BUCKET_NAME=\"YOUR_S3_BUCKET_NAME\""
   ]
  },
  {
   "cell_type": "markdown",
   "id": "fc17d302-9c66-493c-b956-f2170e032b0a",
   "metadata": {},
   "source": [
    "## The basics of Apache Hudi\n",
    "\n",
    "We'll begin by following the [EMR Documentation for working with a Hudi Dataset](https://docs.aws.amazon.com/emr/latest/ReleaseGuide/emr-hudi-work-with-dataset.html) that shows the minimal set of commands you need to get up and running. We'll start by running those commands and seeing what actually happens with the files on S3 as we progress.\n",
    "\n",
    "First, we'll get write a minimal set of sample data."
   ]
  },
  {
   "cell_type": "code",
   "execution_count": 4,
   "id": "28b49566-64cb-4304-a995-011ddddcb2cc",
   "metadata": {
    "execution": {
     "iopub.execute_input": "2022-02-01T19:35:55.689013Z",
     "iopub.status.busy": "2022-02-01T19:35:55.688860Z",
     "iopub.status.idle": "2022-02-01T19:36:13.163970Z",
     "shell.execute_reply": "2022-02-01T19:36:13.163427Z",
     "shell.execute_reply.started": "2022-02-01T19:35:55.688994Z"
    },
    "tags": []
   },
   "outputs": [
    {
     "data": {
      "application/vnd.jupyter.widget-view+json": {
       "model_id": "a0518af22df24a02ae159bd610197d4f",
       "version_major": 2,
       "version_minor": 0
      },
      "text/plain": [
       "VBox()"
      ]
     },
     "metadata": {},
     "output_type": "display_data"
    },
    {
     "data": {
      "application/vnd.jupyter.widget-view+json": {
       "model_id": "",
       "version_major": 2,
       "version_minor": 0
      },
      "text/plain": [
       "FloatProgress(value=0.0, bar_style='info', description='Progress:', layout=Layout(height='25px', width='50%'),…"
      ]
     },
     "metadata": {},
     "output_type": "display_data"
    }
   ],
   "source": [
    "# Create a DataFrame\n",
    "inputDF = spark.createDataFrame(\n",
    "    [\n",
    "        (\"100\", \"2015-01-01\", \"2015-01-01T13:51:39.340396Z\"),\n",
    "        (\"101\", \"2015-01-01\", \"2015-01-01T12:14:58.597216Z\"),\n",
    "        (\"102\", \"2015-01-01\", \"2015-01-01T13:51:40.417052Z\"),\n",
    "        (\"103\", \"2015-01-01\", \"2015-01-01T13:51:40.519832Z\"),\n",
    "        (\"104\", \"2015-01-02\", \"2015-01-01T12:15:00.512679Z\"),\n",
    "        (\"105\", \"2015-01-02\", \"2015-01-01T13:51:42.248818Z\"),\n",
    "    ],\n",
    "    [\"id\", \"creation_date\", \"last_update_time\"],\n",
    ")\n",
    "\n",
    "# Specify common DataSourceWriteOptions in the single hudiOptions variable\n",
    "hudiOptions = {\n",
    "    \"hoodie.table.name\": \"my_hudi_table\",\n",
    "    \"hoodie.datasource.write.recordkey.field\": \"id\",\n",
    "    \"hoodie.datasource.write.partitionpath.field\": \"creation_date\",\n",
    "    \"hoodie.datasource.write.precombine.field\": \"last_update_time\",\n",
    "    \"hoodie.datasource.hive_sync.enable\": \"true\",\n",
    "    \"hoodie.datasource.hive_sync.table\": \"my_hudi_table\",\n",
    "    \"hoodie.datasource.hive_sync.partition_fields\": \"creation_date\",\n",
    "    \"hoodie.datasource.hive_sync.partition_extractor_class\": \"org.apache.hudi.hive.MultiPartKeysValueExtractor\",\n",
    "    \"hoodie.index.type\": \"GLOBAL_BLOOM\",  # This is required if we want to ensure we upsert a record, even if the partition changes\n",
    "    \"hoodie.bloom.index.update.partition.path\": \"true\",  # This is required to write the data into the new partition (defaults to false in 0.8.0, true in 0.9.0)\n",
    "}\n",
    "\n",
    "# Write a DataFrame as a Hudi dataset\n",
    "inputDF.write.format(\"org.apache.hudi\").option(\n",
    "    \"hoodie.datasource.write.operation\", \"insert\"\n",
    ").options(**hudiOptions).mode(\"overwrite\").save(f\"s3://{S3_BUCKET_NAME}/tmp/hudi/\")"
   ]
  },
  {
   "cell_type": "markdown",
   "id": "b34dbbc8-a156-4a44-ad97-042b2572b755",
   "metadata": {},
   "source": [
    "Now let's take a quick look at our S3 bucket to see what's there."
   ]
  },
  {
   "cell_type": "code",
   "execution_count": 5,
   "id": "9818b5cf-d00b-407c-80d2-5549e97f039d",
   "metadata": {
    "execution": {
     "iopub.execute_input": "2022-02-01T19:36:13.165120Z",
     "iopub.status.busy": "2022-02-01T19:36:13.164977Z",
     "iopub.status.idle": "2022-02-01T19:36:13.588183Z",
     "shell.execute_reply": "2022-02-01T19:36:13.587544Z",
     "shell.execute_reply.started": "2022-02-01T19:36:13.165102Z"
    },
    "tags": []
   },
   "outputs": [
    {
     "name": "stdout",
     "output_type": "stream",
     "text": [
      "                           PRE .hoodie/\n",
      "                           PRE 2015-01-01/\n",
      "                           PRE 2015-01-02/\n",
      "2022-02-01 19:36:01          0 .hoodie_$folder$\n",
      "2022-02-01 19:36:09          0 2015-01-01_$folder$\n",
      "2022-02-01 19:36:10          0 2015-01-02_$folder$\n"
     ]
    }
   ],
   "source": [
    "%%sh\n",
    "\n",
    "aws s3 ls s3://${S3_BUCKET_NAME}/tmp/hudi/"
   ]
  },
  {
   "cell_type": "markdown",
   "id": "484af40f-5218-46df-9aa5-98ec5e288888",
   "metadata": {},
   "source": [
    "OK, so we've got a `.hoodie` metadata folder and then two different \"partition\" folders based on the `creation_date`. What's inside those?"
   ]
  },
  {
   "cell_type": "code",
   "execution_count": 6,
   "id": "be057b96-6f24-4462-9b88-c34885691230",
   "metadata": {
    "execution": {
     "iopub.execute_input": "2022-02-01T19:36:13.589479Z",
     "iopub.status.busy": "2022-02-01T19:36:13.589325Z",
     "iopub.status.idle": "2022-02-01T19:36:14.019749Z",
     "shell.execute_reply": "2022-02-01T19:36:14.019242Z",
     "shell.execute_reply.started": "2022-02-01T19:36:13.589459Z"
    },
    "tags": []
   },
   "outputs": [
    {
     "name": "stdout",
     "output_type": "stream",
     "text": [
      "2022-02-01 19:36:01          0 tmp/hudi/.hoodie/.aux/.bootstrap/.fileids_$folder$\n",
      "2022-02-01 19:36:01          0 tmp/hudi/.hoodie/.aux/.bootstrap/.partitions_$folder$\n",
      "2022-02-01 19:36:01          0 tmp/hudi/.hoodie/.aux/.bootstrap_$folder$\n",
      "2022-02-01 19:36:01          0 tmp/hudi/.hoodie/.aux_$folder$\n",
      "2022-02-01 19:36:01          0 tmp/hudi/.hoodie/.temp_$folder$\n",
      "2022-02-01 19:36:11       2706 tmp/hudi/.hoodie/20220201193557.commit\n",
      "2022-02-01 19:36:03          0 tmp/hudi/.hoodie/20220201193557.commit.requested\n",
      "2022-02-01 19:36:07       1842 tmp/hudi/.hoodie/20220201193557.inflight\n",
      "2022-02-01 19:36:01          0 tmp/hudi/.hoodie/archived_$folder$\n",
      "2022-02-01 19:36:01        503 tmp/hudi/.hoodie/hoodie.properties\n",
      "2022-02-01 19:36:01          0 tmp/hudi/.hoodie_$folder$\n",
      "2022-02-01 19:36:09         93 tmp/hudi/2015-01-01/.hoodie_partition_metadata\n",
      "2022-02-01 19:36:10     434974 tmp/hudi/2015-01-01/141ef477-8767-4d67-afde-938ffa553306-0_0-4-50_20220201193557.parquet\n",
      "2022-02-01 19:36:09          0 tmp/hudi/2015-01-01_$folder$\n",
      "2022-02-01 19:36:10         93 tmp/hudi/2015-01-02/.hoodie_partition_metadata\n",
      "2022-02-01 19:36:11     434940 tmp/hudi/2015-01-02/1feee853-39cf-437e-b705-96a2602b9f25-0_1-6-51_20220201193557.parquet\n",
      "2022-02-01 19:36:10          0 tmp/hudi/2015-01-02_$folder$\n"
     ]
    }
   ],
   "source": [
    "%%sh\n",
    "\n",
    "aws s3 ls s3://${S3_BUCKET_NAME}/tmp/hudi/ --recursive | tee /tmp/hudi_op_001"
   ]
  },
  {
   "cell_type": "markdown",
   "id": "1cd1ccb9-11b2-46ca-bf45-178b8583503c",
   "metadata": {},
   "source": [
    "Awesome, so we can see some \"commit\" files in the `.hoodie` metadata folder with timestamps equal to when we inserted the data. \n",
    "\n",
    "And then we _also_ see two `.parquet` files that presumably contain the 6 rows we inserted. \n",
    "\n",
    "_NOTE_ There is _also_ a `.hoodie_partition_metadata` file in each partition...let's see what that is."
   ]
  },
  {
   "cell_type": "code",
   "execution_count": 7,
   "id": "a1ab9ee0-105d-405a-81e1-6a4bff3cc2dd",
   "metadata": {
    "execution": {
     "iopub.execute_input": "2022-02-01T19:36:14.020800Z",
     "iopub.status.busy": "2022-02-01T19:36:14.020647Z",
     "iopub.status.idle": "2022-02-01T19:36:14.553100Z",
     "shell.execute_reply": "2022-02-01T19:36:14.552553Z",
     "shell.execute_reply.started": "2022-02-01T19:36:14.020780Z"
    },
    "tags": []
   },
   "outputs": [
    {
     "name": "stdout",
     "output_type": "stream",
     "text": [
      "#partition metadata\n",
      "#Tue Feb 01 19:36:08 UTC 2022\n",
      "commitTime=20220201193557\n",
      "partitionDepth=1\n"
     ]
    }
   ],
   "source": [
    "%%sh\n",
    "\n",
    "aws s3 cp s3://${S3_BUCKET_NAME}/tmp/hudi/2015-01-01/.hoodie_partition_metadata -"
   ]
  },
  {
   "cell_type": "markdown",
   "id": "26805db1-fdf8-4167-952b-6094ba450ad5",
   "metadata": {},
   "source": [
    "## Updating Data\n",
    "\n",
    "Alright, let's go ahead and update one of our rows."
   ]
  },
  {
   "cell_type": "code",
   "execution_count": 8,
   "id": "6c790bc8-2929-4dda-839a-1980290f862c",
   "metadata": {
    "execution": {
     "iopub.execute_input": "2022-02-01T19:36:14.554174Z",
     "iopub.status.busy": "2022-02-01T19:36:14.554018Z",
     "iopub.status.idle": "2022-02-01T19:36:31.927909Z",
     "shell.execute_reply": "2022-02-01T19:36:31.927460Z",
     "shell.execute_reply.started": "2022-02-01T19:36:14.554154Z"
    },
    "tags": []
   },
   "outputs": [
    {
     "data": {
      "application/vnd.jupyter.widget-view+json": {
       "model_id": "ad3353c23c43401690fa7e168466b06d",
       "version_major": 2,
       "version_minor": 0
      },
      "text/plain": [
       "VBox()"
      ]
     },
     "metadata": {},
     "output_type": "display_data"
    },
    {
     "data": {
      "application/vnd.jupyter.widget-view+json": {
       "model_id": "",
       "version_major": 2,
       "version_minor": 0
      },
      "text/plain": [
       "FloatProgress(value=0.0, bar_style='info', description='Progress:', layout=Layout(height='25px', width='50%'),…"
      ]
     },
     "metadata": {},
     "output_type": "display_data"
    },
    {
     "name": "stdout",
     "output_type": "stream",
     "text": [
      "+---+-------------+--------------------+\n",
      "| id|creation_date|    last_update_time|\n",
      "+---+-------------+--------------------+\n",
      "|100|   2022-01-11|2015-01-01T13:51:...|\n",
      "+---+-------------+--------------------+"
     ]
    }
   ],
   "source": [
    "from pyspark.sql.functions import lit\n",
    "\n",
    "# Create a new DataFrame from the first row of inputDF with a different creation_date value\n",
    "updateDF = inputDF.where(\"id = 100\").withColumn(\"creation_date\", lit(\"2022-01-11\"))\n",
    "\n",
    "updateDF.show()\n",
    "\n",
    "updateDF.write.format(\"org.apache.hudi\").option(\n",
    "    \"hoodie.datasource.write.operation\", \"upsert\"\n",
    ").options(**hudiOptions).mode(\"append\").save(f\"s3://{S3_BUCKET_NAME}/tmp/hudi/\")"
   ]
  },
  {
   "cell_type": "markdown",
   "id": "8eaeff08-f753-4047-ad1e-b00f1c3ae46a",
   "metadata": {},
   "source": [
    "OK! Let's see what impact that had on our S3 files."
   ]
  },
  {
   "cell_type": "code",
   "execution_count": 9,
   "id": "481888b4-4c40-4bae-8914-d57236eae82c",
   "metadata": {
    "execution": {
     "iopub.execute_input": "2022-02-01T19:36:31.928746Z",
     "iopub.status.busy": "2022-02-01T19:36:31.928603Z",
     "iopub.status.idle": "2022-02-01T19:36:32.356903Z",
     "shell.execute_reply": "2022-02-01T19:36:32.356336Z",
     "shell.execute_reply.started": "2022-02-01T19:36:31.928728Z"
    },
    "tags": []
   },
   "outputs": [
    {
     "name": "stdout",
     "output_type": "stream",
     "text": [
      "--- /tmp/hudi_op_001\t2022-02-01 19:36:13.983085501 +0000\n",
      "+++ /tmp/hudi_op_002\t2022-02-01 19:36:32.319061451 +0000\n",
      "@@ -6,12 +6,19 @@\n",
      " 2022-02-01 19:36:11       2706 tmp/hudi/.hoodie/20220201193557.commit\n",
      " 2022-02-01 19:36:03          0 tmp/hudi/.hoodie/20220201193557.commit.requested\n",
      " 2022-02-01 19:36:07       1842 tmp/hudi/.hoodie/20220201193557.inflight\n",
      "+2022-02-01 19:36:30       2705 tmp/hudi/.hoodie/20220201193615.commit\n",
      "+2022-02-01 19:36:16          0 tmp/hudi/.hoodie/20220201193615.commit.requested\n",
      "+2022-02-01 19:36:22       2560 tmp/hudi/.hoodie/20220201193615.inflight\n",
      " 2022-02-01 19:36:01          0 tmp/hudi/.hoodie/archived_$folder$\n",
      " 2022-02-01 19:36:01        503 tmp/hudi/.hoodie/hoodie.properties\n",
      " 2022-02-01 19:36:01          0 tmp/hudi/.hoodie_$folder$\n",
      " 2022-02-01 19:36:09         93 tmp/hudi/2015-01-01/.hoodie_partition_metadata\n",
      "+2022-02-01 19:36:29     434922 tmp/hudi/2015-01-01/141ef477-8767-4d67-afde-938ffa553306-0_0-36-13600_20220201193615.parquet\n",
      " 2022-02-01 19:36:10     434974 tmp/hudi/2015-01-01/141ef477-8767-4d67-afde-938ffa553306-0_0-4-50_20220201193557.parquet\n",
      " 2022-02-01 19:36:09          0 tmp/hudi/2015-01-01_$folder$\n",
      " 2022-02-01 19:36:10         93 tmp/hudi/2015-01-02/.hoodie_partition_metadata\n",
      " 2022-02-01 19:36:11     434940 tmp/hudi/2015-01-02/1feee853-39cf-437e-b705-96a2602b9f25-0_1-6-51_20220201193557.parquet\n",
      " 2022-02-01 19:36:10          0 tmp/hudi/2015-01-02_$folder$\n",
      "+2022-02-01 19:36:29         93 tmp/hudi/2022-01-11/.hoodie_partition_metadata\n",
      "+2022-02-01 19:36:30     434979 tmp/hudi/2022-01-11/6c5d7a65-f1fb-4751-8bd1-a0a5ffc1caa2-0_1-42-13601_20220201193615.parquet\n",
      "+2022-02-01 19:36:22          0 tmp/hudi/2022-01-11_$folder$\n"
     ]
    }
   ],
   "source": [
    "%%sh\n",
    "\n",
    "aws s3 ls s3://${S3_BUCKET_NAME}/tmp/hudi/ --recursive > /tmp/hudi_op_002\n",
    "diff -u /tmp/hudi_op_001 /tmp/hudi_op_002 || true"
   ]
  },
  {
   "cell_type": "markdown",
   "id": "bc7eb67f-48a3-446b-a92b-50c3dc006952",
   "metadata": {},
   "source": [
    "So now we have a new `.commit` file and also new `parquet` files in the `2022-01-11` partition.\n",
    "\n",
    "But! Notice that we _also_ have a new `.parquet` file in the `2015-01-01` partition. Let's do a quick query to see what our data looks like now.\n",
    "\n",
    "We're only going to seelct the `id`, `creation_date`, and include the input `filename`."
   ]
  },
  {
   "cell_type": "code",
   "execution_count": 10,
   "id": "efe13b12-1f06-4cc1-a598-f267f725c5cf",
   "metadata": {
    "execution": {
     "iopub.execute_input": "2022-02-01T19:36:32.358717Z",
     "iopub.status.busy": "2022-02-01T19:36:32.358558Z",
     "iopub.status.idle": "2022-02-01T19:36:33.618920Z",
     "shell.execute_reply": "2022-02-01T19:36:33.618396Z",
     "shell.execute_reply.started": "2022-02-01T19:36:32.358696Z"
    },
    "tags": []
   },
   "outputs": [
    {
     "data": {
      "application/vnd.jupyter.widget-view+json": {
       "model_id": "37205b04f4ad4612a3ff5f0702eccc35",
       "version_major": 2,
       "version_minor": 0
      },
      "text/plain": [
       "VBox()"
      ]
     },
     "metadata": {},
     "output_type": "display_data"
    },
    {
     "data": {
      "application/vnd.jupyter.widget-view+json": {
       "model_id": "",
       "version_major": 2,
       "version_minor": 0
      },
      "text/plain": [
       "FloatProgress(value=0.0, bar_style='info', description='Progress:', layout=Layout(height='25px', width='50%'),…"
      ]
     },
     "metadata": {},
     "output_type": "display_data"
    },
    {
     "name": "stdout",
     "output_type": "stream",
     "text": [
      "+---+-------------+----------------------------------------------------------------------------------------------------------+\n",
      "|id |creation_date|filename                                                                                                  |\n",
      "+---+-------------+----------------------------------------------------------------------------------------------------------+\n",
      "|100|2022-01-11   |s3://<BUCKET>/tmp/hudi/2022-01-11/6c5d7a65-f1fb-4751-8bd1-a0a5ffc1caa2-0_1-42-13601_20220201193615.parquet|\n",
      "|104|2015-01-02   |s3://<BUCKET>/tmp/hudi/2015-01-02/1feee853-39cf-437e-b705-96a2602b9f25-0_1-6-51_20220201193557.parquet    |\n",
      "|105|2015-01-02   |s3://<BUCKET>/tmp/hudi/2015-01-02/1feee853-39cf-437e-b705-96a2602b9f25-0_1-6-51_20220201193557.parquet    |\n",
      "|101|2015-01-01   |s3://<BUCKET>/tmp/hudi/2015-01-01/141ef477-8767-4d67-afde-938ffa553306-0_0-36-13600_20220201193615.parquet|\n",
      "|102|2015-01-01   |s3://<BUCKET>/tmp/hudi/2015-01-01/141ef477-8767-4d67-afde-938ffa553306-0_0-36-13600_20220201193615.parquet|\n",
      "|103|2015-01-01   |s3://<BUCKET>/tmp/hudi/2015-01-01/141ef477-8767-4d67-afde-938ffa553306-0_0-36-13600_20220201193615.parquet|\n",
      "+---+-------------+----------------------------------------------------------------------------------------------------------+"
     ]
    }
   ],
   "source": [
    "from  pyspark.sql.functions import input_file_name, regexp_replace\n",
    "\n",
    "snapshotQueryDF = spark.read \\\n",
    "    .format('org.apache.hudi') \\\n",
    "    .load(f\"s3://{S3_BUCKET_NAME}/tmp/hudi/\") \\\n",
    "    .select('id', 'creation_date') \\\n",
    "    .withColumn(\"filename\", regexp_replace(input_file_name(), S3_BUCKET_NAME, '<BUCKET>'))\n",
    "    \n",
    "snapshotQueryDF.show(truncate=False)"
   ]
  },
  {
   "cell_type": "markdown",
   "id": "ab3bfd3a-c020-484b-809d-2990464a7ffd",
   "metadata": {},
   "source": [
    "We can see here that the row with `2022-01-11` comes from a new Parquet file.\n",
    "\n",
    "And all the values for the `2015-01-01` partition now come from the new Parquet file. This means that in order to update 1 row, we had to create 2 new Parquet files.\n",
    "\n",
    "So wait...how is Hudi reading this data?! Let's do a \"normal\" read of the Parquet files to see what's in there..."
   ]
  },
  {
   "cell_type": "code",
   "execution_count": 11,
   "id": "f09c2e1a-e359-40d5-ab89-e755113dec74",
   "metadata": {
    "execution": {
     "iopub.execute_input": "2022-02-01T19:36:33.620075Z",
     "iopub.status.busy": "2022-02-01T19:36:33.619932Z",
     "iopub.status.idle": "2022-02-01T19:36:35.194976Z",
     "shell.execute_reply": "2022-02-01T19:36:35.194490Z",
     "shell.execute_reply.started": "2022-02-01T19:36:33.620056Z"
    },
    "tags": []
   },
   "outputs": [
    {
     "data": {
      "application/vnd.jupyter.widget-view+json": {
       "model_id": "a764378f75c1437b850441cf8e20892a",
       "version_major": 2,
       "version_minor": 0
      },
      "text/plain": [
       "VBox()"
      ]
     },
     "metadata": {},
     "output_type": "display_data"
    },
    {
     "data": {
      "application/vnd.jupyter.widget-view+json": {
       "model_id": "",
       "version_major": 2,
       "version_minor": 0
      },
      "text/plain": [
       "FloatProgress(value=0.0, bar_style='info', description='Progress:', layout=Layout(height='25px', width='50%'),…"
      ]
     },
     "metadata": {},
     "output_type": "display_data"
    },
    {
     "name": "stdout",
     "output_type": "stream",
     "text": [
      "+-------------------+--------------------+------------------+----------------------+------------------------------------------------------------------------+---+-------------+---------------------------+------------------------------------------------------------------------------------+\n",
      "|_hoodie_commit_time|_hoodie_commit_seqno|_hoodie_record_key|_hoodie_partition_path|_hoodie_file_name                                                       |id |creation_date|last_update_time           |filename                                                                            |\n",
      "+-------------------+--------------------+------------------+----------------------+------------------------------------------------------------------------+---+-------------+---------------------------+------------------------------------------------------------------------------------+\n",
      "|20220201193557     |20220201193557_0_1  |100               |2015-01-01            |141ef477-8767-4d67-afde-938ffa553306-0_0-4-50_20220201193557.parquet    |100|2015-01-01   |2015-01-01T13:51:39.340396Z|/2015-01-01/141ef477-8767-4d67-afde-938ffa553306-0_0-4-50_20220201193557.parquet    |\n",
      "|20220201193557     |20220201193557_0_2  |101               |2015-01-01            |141ef477-8767-4d67-afde-938ffa553306-0_0-4-50_20220201193557.parquet    |101|2015-01-01   |2015-01-01T12:14:58.597216Z|/2015-01-01/141ef477-8767-4d67-afde-938ffa553306-0_0-4-50_20220201193557.parquet    |\n",
      "|20220201193557     |20220201193557_0_2  |101               |2015-01-01            |141ef477-8767-4d67-afde-938ffa553306-0_0-4-50_20220201193557.parquet    |101|2015-01-01   |2015-01-01T12:14:58.597216Z|/2015-01-01/141ef477-8767-4d67-afde-938ffa553306-0_0-36-13600_20220201193615.parquet|\n",
      "|20220201193557     |20220201193557_0_3  |102               |2015-01-01            |141ef477-8767-4d67-afde-938ffa553306-0_0-4-50_20220201193557.parquet    |102|2015-01-01   |2015-01-01T13:51:40.417052Z|/2015-01-01/141ef477-8767-4d67-afde-938ffa553306-0_0-36-13600_20220201193615.parquet|\n",
      "|20220201193557     |20220201193557_0_3  |102               |2015-01-01            |141ef477-8767-4d67-afde-938ffa553306-0_0-4-50_20220201193557.parquet    |102|2015-01-01   |2015-01-01T13:51:40.417052Z|/2015-01-01/141ef477-8767-4d67-afde-938ffa553306-0_0-4-50_20220201193557.parquet    |\n",
      "|20220201193557     |20220201193557_0_4  |103               |2015-01-01            |141ef477-8767-4d67-afde-938ffa553306-0_0-4-50_20220201193557.parquet    |103|2015-01-01   |2015-01-01T13:51:40.519832Z|/2015-01-01/141ef477-8767-4d67-afde-938ffa553306-0_0-36-13600_20220201193615.parquet|\n",
      "|20220201193557     |20220201193557_0_4  |103               |2015-01-01            |141ef477-8767-4d67-afde-938ffa553306-0_0-4-50_20220201193557.parquet    |103|2015-01-01   |2015-01-01T13:51:40.519832Z|/2015-01-01/141ef477-8767-4d67-afde-938ffa553306-0_0-4-50_20220201193557.parquet    |\n",
      "|20220201193557     |20220201193557_1_5  |104               |2015-01-02            |1feee853-39cf-437e-b705-96a2602b9f25-0_1-6-51_20220201193557.parquet    |104|2015-01-02   |2015-01-01T12:15:00.512679Z|/2015-01-02/1feee853-39cf-437e-b705-96a2602b9f25-0_1-6-51_20220201193557.parquet    |\n",
      "|20220201193557     |20220201193557_1_6  |105               |2015-01-02            |1feee853-39cf-437e-b705-96a2602b9f25-0_1-6-51_20220201193557.parquet    |105|2015-01-02   |2015-01-01T13:51:42.248818Z|/2015-01-02/1feee853-39cf-437e-b705-96a2602b9f25-0_1-6-51_20220201193557.parquet    |\n",
      "|20220201193615     |20220201193615_1_7  |100               |2022-01-11            |6c5d7a65-f1fb-4751-8bd1-a0a5ffc1caa2-0_1-42-13601_20220201193615.parquet|100|2022-01-11   |2015-01-01T13:51:39.340396Z|/2022-01-11/6c5d7a65-f1fb-4751-8bd1-a0a5ffc1caa2-0_1-42-13601_20220201193615.parquet|\n",
      "+-------------------+--------------------+------------------+----------------------+------------------------------------------------------------------------+---+-------------+---------------------------+------------------------------------------------------------------------------------+"
     ]
    }
   ],
   "source": [
    "from pyspark.sql.functions import split\n",
    "\n",
    "rawDF = (\n",
    "    spark.read.parquet(f\"s3://{S3_BUCKET_NAME}/tmp/hudi/*/*.parquet\")\n",
    "    .withColumn(\"filename\", split(input_file_name(), \"tmp/hudi\").getItem(1))\n",
    "    .sort(\"_hoodie_commit_time\", \"_hoodie_commit_seqno\")\n",
    ")\n",
    "rawDF.show(truncate=False)"
   ]
  },
  {
   "cell_type": "markdown",
   "id": "9b40039a-7d62-4844-ae15-521c455415dc",
   "metadata": {},
   "source": [
    "We can see here that there are multiple `id` records for the partition where we updated data as well as the new partition. Specifically, ids 100-103 were initially in partition `2015-01-01` and 104-105 were in `2015-01-02`. We then updated id 100 to be in partition `2022-01-11`. So we see one two sets of values for 100-103. Let's get a closer look..."
   ]
  },
  {
   "cell_type": "code",
   "execution_count": 12,
   "id": "a60837c4-e188-4df9-bb66-384a8613f48b",
   "metadata": {
    "execution": {
     "iopub.execute_input": "2022-02-01T19:36:35.195854Z",
     "iopub.status.busy": "2022-02-01T19:36:35.195700Z",
     "iopub.status.idle": "2022-02-01T19:36:35.440266Z",
     "shell.execute_reply": "2022-02-01T19:36:35.439811Z",
     "shell.execute_reply.started": "2022-02-01T19:36:35.195829Z"
    },
    "tags": []
   },
   "outputs": [
    {
     "data": {
      "application/vnd.jupyter.widget-view+json": {
       "model_id": "ee8e057d1b6d4bc194a2b6412ceb00e4",
       "version_major": 2,
       "version_minor": 0
      },
      "text/plain": [
       "VBox()"
      ]
     },
     "metadata": {},
     "output_type": "display_data"
    },
    {
     "data": {
      "application/vnd.jupyter.widget-view+json": {
       "model_id": "",
       "version_major": 2,
       "version_minor": 0
      },
      "text/plain": [
       "FloatProgress(value=0.0, bar_style='info', description='Progress:', layout=Layout(height='25px', width='50%'),…"
      ]
     },
     "metadata": {},
     "output_type": "display_data"
    },
    {
     "name": "stdout",
     "output_type": "stream",
     "text": [
      "+---+-------------+------------------------------------------------------------------------------------+\n",
      "|id |creation_date|filename                                                                            |\n",
      "+---+-------------+------------------------------------------------------------------------------------+\n",
      "|101|2015-01-01   |/2015-01-01/141ef477-8767-4d67-afde-938ffa553306-0_0-36-13600_20220201193615.parquet|\n",
      "|102|2015-01-01   |/2015-01-01/141ef477-8767-4d67-afde-938ffa553306-0_0-36-13600_20220201193615.parquet|\n",
      "|103|2015-01-01   |/2015-01-01/141ef477-8767-4d67-afde-938ffa553306-0_0-36-13600_20220201193615.parquet|\n",
      "|100|2015-01-01   |/2015-01-01/141ef477-8767-4d67-afde-938ffa553306-0_0-4-50_20220201193557.parquet    |\n",
      "|101|2015-01-01   |/2015-01-01/141ef477-8767-4d67-afde-938ffa553306-0_0-4-50_20220201193557.parquet    |\n",
      "|102|2015-01-01   |/2015-01-01/141ef477-8767-4d67-afde-938ffa553306-0_0-4-50_20220201193557.parquet    |\n",
      "|103|2015-01-01   |/2015-01-01/141ef477-8767-4d67-afde-938ffa553306-0_0-4-50_20220201193557.parquet    |\n",
      "|104|2015-01-02   |/2015-01-02/1feee853-39cf-437e-b705-96a2602b9f25-0_1-6-51_20220201193557.parquet    |\n",
      "|105|2015-01-02   |/2015-01-02/1feee853-39cf-437e-b705-96a2602b9f25-0_1-6-51_20220201193557.parquet    |\n",
      "|100|2022-01-11   |/2022-01-11/6c5d7a65-f1fb-4751-8bd1-a0a5ffc1caa2-0_1-42-13601_20220201193615.parquet|\n",
      "+---+-------------+------------------------------------------------------------------------------------+"
     ]
    }
   ],
   "source": [
    "rawDF.select(\"id\", \"creation_date\", \"filename\").sort( \"filename\", \"id\").show(truncate=False)"
   ]
  },
  {
   "cell_type": "markdown",
   "id": "8c55cfdb-2b66-4258-99f8-538347f49ea4",
   "metadata": {},
   "source": [
    "So not only can we see the original file names and values, but also the new ones. In the background, Hudi figures out which commits and values to show. Let's also take a quick peek inside one of those commit files."
   ]
  },
  {
   "cell_type": "code",
   "execution_count": 13,
   "id": "8791eb1e-d6ec-41cb-829f-2300d0aa6b90",
   "metadata": {
    "execution": {
     "iopub.execute_input": "2022-02-01T19:36:35.441096Z",
     "iopub.status.busy": "2022-02-01T19:36:35.440955Z",
     "iopub.status.idle": "2022-02-01T19:36:36.373177Z",
     "shell.execute_reply": "2022-02-01T19:36:36.372664Z",
     "shell.execute_reply.started": "2022-02-01T19:36:35.441078Z"
    },
    "tags": []
   },
   "outputs": [
    {
     "name": "stdout",
     "output_type": "stream",
     "text": [
      "{\n",
      "  \"partitionToWriteStats\" : {\n",
      "    \"2015-01-01\" : [ {\n",
      "      \"fileId\" : \"141ef477-8767-4d67-afde-938ffa553306-0\",\n",
      "      \"path\" : \"2015-01-01/141ef477-8767-4d67-afde-938ffa553306-0_0-36-13600_20220201193615.parquet\",\n",
      "      \"prevCommit\" : \"20220201193557\",\n",
      "      \"numWrites\" : 3,\n",
      "      \"numDeletes\" : 1,\n",
      "      \"numUpdateWrites\" : 0,\n",
      "      \"numInserts\" : 0,\n",
      "      \"totalWriteBytes\" : 434922,\n",
      "      \"totalWriteErrors\" : 0,\n",
      "      \"tempPath\" : null,\n",
      "      \"partitionPath\" : \"2015-01-01\",\n",
      "      \"totalLogRecords\" : 0,\n",
      "      \"totalLogFilesCompacted\" : 0,\n",
      "      \"totalLogSizeCompacted\" : 0,\n",
      "      \"totalUpdatedRecordsCompacted\" : 0,\n",
      "      \"totalLogBlocks\" : 0,\n",
      "      \"totalCorruptLogBlock\" : 0,\n",
      "      \"totalRollbackBlocks\" : 0,\n",
      "      \"fileSizeInBytes\" : 434922,\n",
      "      \"minEventTime\" : null,\n",
      "      \"maxEventTime\" : null\n",
      "    } ],\n",
      "    \"2022-01-11\" : [ {\n",
      "      \"fileId\" : \"6c5d7a65-f1fb-4751-8bd1-a0a5ffc1caa2-0\",\n",
      "      \"path\" : \"2022-01-11/6c5d7a65-f1fb-4751-8bd1-a0a5ffc1caa2-0_1-42-13601_20220201193615.parquet\",\n",
      "      \"prevCommit\" : \"null\",\n",
      "      \"numWrites\" : 1,\n",
      "      \"numDeletes\" : 0,\n",
      "      \"numUpdateWrites\" : 0,\n",
      "      \"numInserts\" : 1,\n",
      "      \"totalWriteBytes\" : 434979,\n",
      "      \"totalWriteErrors\" : 0,\n",
      "      \"tempPath\" : null,\n",
      "      \"partitionPath\" : \"2022-01-11\",\n",
      "      \"totalLogRecords\" : 0,\n",
      "      \"totalLogFilesCompacted\" : 0,\n",
      "      \"totalLogSizeCompacted\" : 0,\n",
      "      \"totalUpdatedRecordsCompacted\" : 0,\n",
      "      \"totalLogBlocks\" : 0,\n",
      "      \"totalCorruptLogBlock\" : 0,\n",
      "      \"totalRollbackBlocks\" : 0,\n",
      "      \"fileSizeInBytes\" : 434979,\n",
      "      \"minEventTime\" : null,\n",
      "      \"maxEventTime\" : null\n",
      "    } ]\n",
      "  },\n",
      "  \"compacted\" : false,\n",
      "  \"extraMetadata\" : {\n",
      "    \"schema\" : \"{\\\"type\\\":\\\"record\\\",\\\"name\\\":\\\"my_hudi_table_record\\\",\\\"namespace\\\":\\\"hoodie.my_hudi_table\\\",\\\"fields\\\":[{\\\"name\\\":\\\"id\\\",\\\"type\\\":[\\\"null\\\",\\\"string\\\"],\\\"default\\\":null},{\\\"name\\\":\\\"creation_date\\\",\\\"type\\\":\\\"string\\\"},{\\\"name\\\":\\\"last_update_time\\\",\\\"type\\\":[\\\"null\\\",\\\"string\\\"],\\\"default\\\":null}]}\"\n",
      "  },\n",
      "  \"operationType\" : \"UPSERT\",\n",
      "  \"fileIdAndRelativePaths\" : {\n",
      "    \"141ef477-8767-4d67-afde-938ffa553306-0\" : \"2015-01-01/141ef477-8767-4d67-afde-938ffa553306-0_0-36-13600_20220201193615.parquet\",\n",
      "    \"6c5d7a65-f1fb-4751-8bd1-a0a5ffc1caa2-0\" : \"2022-01-11/6c5d7a65-f1fb-4751-8bd1-a0a5ffc1caa2-0_1-42-13601_20220201193615.parquet\"\n",
      "  },\n",
      "  \"totalRecordsDeleted\" : 1,\n",
      "  \"totalLogRecordsCompacted\" : 0,\n",
      "  \"totalLogFilesCompacted\" : 0,\n",
      "  \"totalCompactedRecordsUpdated\" : 0,\n",
      "  \"totalLogFilesSize\" : 0,\n",
      "  \"totalScanTime\" : 0,\n",
      "  \"totalCreateTime\" : 681,\n",
      "  \"totalUpsertTime\" : 546,\n",
      "  \"minAndMaxEventTime\" : {\n",
      "    \"Optional.empty\" : {\n",
      "      \"val\" : null,\n",
      "      \"present\" : false\n",
      "    }\n",
      "  },\n",
      "  \"writePartitionPaths\" : [ \"2015-01-01\", \"2022-01-11\" ]\n",
      "}"
     ]
    }
   ],
   "source": [
    "%%sh\n",
    "\n",
    "commit_filename=$(aws s3 ls s3://${S3_BUCKET_NAME}/tmp/hudi/.hoodie/ | grep -E \".commit$\" | tr -s \" \" | cut -f4 -d\\ | tail -n 1)\n",
    "aws s3 cp s3://${S3_BUCKET_NAME}/tmp/hudi/.hoodie/${commit_filename} -"
   ]
  },
  {
   "cell_type": "markdown",
   "id": "1de82fbe-d604-4ae5-a17c-e0d732e41e4c",
   "metadata": {},
   "source": [
    "Oh cool, it's just a JSON file that gives information about the records written and deleted as well as the relevant paths.\n",
    "\n",
    "## Deleting Data\n",
    "\n",
    "We can also delete records! Hudi supports [two types of deletes](https://hudi.apache.org/docs/writing_data/#deletes) - soft and hard. We'll use a hard delete to remove any trace of the record."
   ]
  },
  {
   "cell_type": "code",
   "execution_count": 14,
   "id": "b5595297-4605-4e38-a6fa-08c31d641205",
   "metadata": {
    "execution": {
     "iopub.execute_input": "2022-02-01T19:36:36.374331Z",
     "iopub.status.busy": "2022-02-01T19:36:36.374171Z",
     "iopub.status.idle": "2022-02-01T19:36:49.682258Z",
     "shell.execute_reply": "2022-02-01T19:36:49.681801Z",
     "shell.execute_reply.started": "2022-02-01T19:36:36.374309Z"
    },
    "tags": []
   },
   "outputs": [
    {
     "data": {
      "application/vnd.jupyter.widget-view+json": {
       "model_id": "9b40c6b8829d42e9976da43dc9339e3f",
       "version_major": 2,
       "version_minor": 0
      },
      "text/plain": [
       "VBox()"
      ]
     },
     "metadata": {},
     "output_type": "display_data"
    },
    {
     "data": {
      "application/vnd.jupyter.widget-view+json": {
       "model_id": "",
       "version_major": 2,
       "version_minor": 0
      },
      "text/plain": [
       "FloatProgress(value=0.0, bar_style='info', description='Progress:', layout=Layout(height='25px', width='50%'),…"
      ]
     },
     "metadata": {},
     "output_type": "display_data"
    }
   ],
   "source": [
    "updateDF.write.format(\"org.apache.hudi\").option(\n",
    "    \"hoodie.datasource.write.operation\", \"upsert\"\n",
    ").option(\n",
    "    \"hoodie.datasource.write.payload.class\",\n",
    "    \"org.apache.hudi.common.model.EmptyHoodieRecordPayload\",\n",
    ").options(\n",
    "    **hudiOptions\n",
    ").mode(\n",
    "    \"append\"\n",
    ").save(\n",
    "    f\"s3://{S3_BUCKET_NAME}/tmp/hudi/\"\n",
    ")"
   ]
  },
  {
   "cell_type": "markdown",
   "id": "9d8e0d08-02a3-4d3d-abd8-0af7787401e7",
   "metadata": {},
   "source": [
    "And let's read the data again."
   ]
  },
  {
   "cell_type": "code",
   "execution_count": 15,
   "id": "0881b6e8-ed8c-433d-bb0b-c4dbd78e7623",
   "metadata": {
    "execution": {
     "iopub.execute_input": "2022-02-01T19:36:49.683131Z",
     "iopub.status.busy": "2022-02-01T19:36:49.682976Z",
     "iopub.status.idle": "2022-02-01T19:36:50.430824Z",
     "shell.execute_reply": "2022-02-01T19:36:50.430393Z",
     "shell.execute_reply.started": "2022-02-01T19:36:49.683113Z"
    },
    "tags": []
   },
   "outputs": [
    {
     "data": {
      "application/vnd.jupyter.widget-view+json": {
       "model_id": "5e076d96b07e42c3bb50a2218c62d03c",
       "version_major": 2,
       "version_minor": 0
      },
      "text/plain": [
       "VBox()"
      ]
     },
     "metadata": {},
     "output_type": "display_data"
    },
    {
     "data": {
      "application/vnd.jupyter.widget-view+json": {
       "model_id": "",
       "version_major": 2,
       "version_minor": 0
      },
      "text/plain": [
       "FloatProgress(value=0.0, bar_style='info', description='Progress:', layout=Layout(height='25px', width='50%'),…"
      ]
     },
     "metadata": {},
     "output_type": "display_data"
    },
    {
     "name": "stdout",
     "output_type": "stream",
     "text": [
      "+---+-------------+----------------------------------------------------------------------------------------------------------+\n",
      "|id |creation_date|filename                                                                                                  |\n",
      "+---+-------------+----------------------------------------------------------------------------------------------------------+\n",
      "|104|2015-01-02   |s3://<BUCKET>/tmp/hudi/2015-01-02/1feee853-39cf-437e-b705-96a2602b9f25-0_1-6-51_20220201193557.parquet    |\n",
      "|105|2015-01-02   |s3://<BUCKET>/tmp/hudi/2015-01-02/1feee853-39cf-437e-b705-96a2602b9f25-0_1-6-51_20220201193557.parquet    |\n",
      "|101|2015-01-01   |s3://<BUCKET>/tmp/hudi/2015-01-01/141ef477-8767-4d67-afde-938ffa553306-0_0-36-13600_20220201193615.parquet|\n",
      "|102|2015-01-01   |s3://<BUCKET>/tmp/hudi/2015-01-01/141ef477-8767-4d67-afde-938ffa553306-0_0-36-13600_20220201193615.parquet|\n",
      "|103|2015-01-01   |s3://<BUCKET>/tmp/hudi/2015-01-01/141ef477-8767-4d67-afde-938ffa553306-0_0-36-13600_20220201193615.parquet|\n",
      "+---+-------------+----------------------------------------------------------------------------------------------------------+"
     ]
    }
   ],
   "source": [
    "snapshotQueryDF = spark.read \\\n",
    "    .format('org.apache.hudi') \\\n",
    "    .load(f\"s3://{S3_BUCKET_NAME}/tmp/hudi\") \\\n",
    "    .select('id', 'creation_date') \\\n",
    "    .withColumn(\"filename\", regexp_replace(input_file_name(), S3_BUCKET_NAME, '<BUCKET>'))\n",
    "    \n",
    "snapshotQueryDF.show(truncate=False)"
   ]
  },
  {
   "cell_type": "markdown",
   "id": "54a7cd52-ac21-4da1-8394-bbfad8629e62",
   "metadata": {},
   "source": [
    "Cool! So the records are gone...let's see what the files on S3 look like again."
   ]
  },
  {
   "cell_type": "code",
   "execution_count": 16,
   "id": "8c8bb713-9b7d-4266-8881-cc48194a61be",
   "metadata": {
    "execution": {
     "iopub.execute_input": "2022-02-01T19:36:50.431642Z",
     "iopub.status.busy": "2022-02-01T19:36:50.431501Z",
     "iopub.status.idle": "2022-02-01T19:36:50.862281Z",
     "shell.execute_reply": "2022-02-01T19:36:50.861725Z",
     "shell.execute_reply.started": "2022-02-01T19:36:50.431624Z"
    },
    "tags": []
   },
   "outputs": [
    {
     "name": "stdout",
     "output_type": "stream",
     "text": [
      "--- /tmp/hudi_op_002\t2022-02-01 19:36:32.319061451 +0000\n",
      "+++ /tmp/hudi_op_003\t2022-02-01 19:36:50.823038714 +0000\n",
      "@@ -9,6 +9,9 @@\n",
      " 2022-02-01 19:36:30       2705 tmp/hudi/.hoodie/20220201193615.commit\n",
      " 2022-02-01 19:36:16          0 tmp/hudi/.hoodie/20220201193615.commit.requested\n",
      " 2022-02-01 19:36:22       2560 tmp/hudi/.hoodie/20220201193615.inflight\n",
      "+2022-02-01 19:36:48       1778 tmp/hudi/.hoodie/20220201193636.commit\n",
      "+2022-02-01 19:36:37          0 tmp/hudi/.hoodie/20220201193636.commit.requested\n",
      "+2022-02-01 19:36:41       1906 tmp/hudi/.hoodie/20220201193636.inflight\n",
      " 2022-02-01 19:36:01          0 tmp/hudi/.hoodie/archived_$folder$\n",
      " 2022-02-01 19:36:01        503 tmp/hudi/.hoodie/hoodie.properties\n",
      " 2022-02-01 19:36:01          0 tmp/hudi/.hoodie_$folder$\n",
      "@@ -20,5 +23,6 @@\n",
      " 2022-02-01 19:36:11     434940 tmp/hudi/2015-01-02/1feee853-39cf-437e-b705-96a2602b9f25-0_1-6-51_20220201193557.parquet\n",
      " 2022-02-01 19:36:10          0 tmp/hudi/2015-01-02_$folder$\n",
      " 2022-02-01 19:36:29         93 tmp/hudi/2022-01-11/.hoodie_partition_metadata\n",
      "+2022-02-01 19:36:48     432536 tmp/hudi/2022-01-11/6c5d7a65-f1fb-4751-8bd1-a0a5ffc1caa2-0_0-81-27155_20220201193636.parquet\n",
      " 2022-02-01 19:36:30     434979 tmp/hudi/2022-01-11/6c5d7a65-f1fb-4751-8bd1-a0a5ffc1caa2-0_1-42-13601_20220201193615.parquet\n",
      " 2022-02-01 19:36:22          0 tmp/hudi/2022-01-11_$folder$\n"
     ]
    }
   ],
   "source": [
    "%%sh\n",
    "\n",
    "aws s3 ls s3://${S3_BUCKET_NAME}/tmp/hudi/ --recursive > /tmp/hudi_op_003\n",
    "diff -u /tmp/hudi_op_002 /tmp/hudi_op_003 || true"
   ]
  },
  {
   "cell_type": "markdown",
   "id": "99247b0a-11a4-42f1-9438-26b0acdc1d9a",
   "metadata": {},
   "source": [
    "We can see the only difference is a new Parquet file in the `2022-01-11` partition and a new set of `.commit` files."
   ]
  },
  {
   "cell_type": "code",
   "execution_count": 17,
   "id": "dfc0d5db-6393-49b4-a3ea-577ec46285df",
   "metadata": {
    "execution": {
     "iopub.execute_input": "2022-02-01T19:36:50.863343Z",
     "iopub.status.busy": "2022-02-01T19:36:50.863191Z",
     "iopub.status.idle": "2022-02-01T19:36:53.727474Z",
     "shell.execute_reply": "2022-02-01T19:36:53.727016Z",
     "shell.execute_reply.started": "2022-02-01T19:36:50.863322Z"
    },
    "tags": []
   },
   "outputs": [
    {
     "data": {
      "application/vnd.jupyter.widget-view+json": {
       "model_id": "8138acfcbf5245f590a44584ec990d08",
       "version_major": 2,
       "version_minor": 0
      },
      "text/plain": [
       "VBox()"
      ]
     },
     "metadata": {},
     "output_type": "display_data"
    },
    {
     "data": {
      "application/vnd.jupyter.widget-view+json": {
       "model_id": "",
       "version_major": 2,
       "version_minor": 0
      },
      "text/plain": [
       "FloatProgress(value=0.0, bar_style='info', description='Progress:', layout=Layout(height='25px', width='50%'),…"
      ]
     },
     "metadata": {},
     "output_type": "display_data"
    },
    {
     "name": "stdout",
     "output_type": "stream",
     "text": [
      "+-------------------+--------------------+------------------+----------------------+------------------------------------------------------------------------+---+-------------+---------------------------+\n",
      "|_hoodie_commit_time|_hoodie_commit_seqno|_hoodie_record_key|_hoodie_partition_path|_hoodie_file_name                                                       |id |creation_date|last_update_time           |\n",
      "+-------------------+--------------------+------------------+----------------------+------------------------------------------------------------------------+---+-------------+---------------------------+\n",
      "|20220201193615     |20220201193615_1_7  |100               |2022-01-11            |6c5d7a65-f1fb-4751-8bd1-a0a5ffc1caa2-0_1-42-13601_20220201193615.parquet|100|2022-01-11   |2015-01-01T13:51:39.340396Z|\n",
      "|20220201193557     |20220201193557_0_1  |100               |2015-01-01            |141ef477-8767-4d67-afde-938ffa553306-0_0-4-50_20220201193557.parquet    |100|2015-01-01   |2015-01-01T13:51:39.340396Z|\n",
      "|20220201193557     |20220201193557_0_2  |101               |2015-01-01            |141ef477-8767-4d67-afde-938ffa553306-0_0-4-50_20220201193557.parquet    |101|2015-01-01   |2015-01-01T12:14:58.597216Z|\n",
      "|20220201193557     |20220201193557_0_3  |102               |2015-01-01            |141ef477-8767-4d67-afde-938ffa553306-0_0-4-50_20220201193557.parquet    |102|2015-01-01   |2015-01-01T13:51:40.417052Z|\n",
      "|20220201193557     |20220201193557_0_4  |103               |2015-01-01            |141ef477-8767-4d67-afde-938ffa553306-0_0-4-50_20220201193557.parquet    |103|2015-01-01   |2015-01-01T13:51:40.519832Z|\n",
      "|20220201193557     |20220201193557_1_5  |104               |2015-01-02            |1feee853-39cf-437e-b705-96a2602b9f25-0_1-6-51_20220201193557.parquet    |104|2015-01-02   |2015-01-01T12:15:00.512679Z|\n",
      "|20220201193557     |20220201193557_1_6  |105               |2015-01-02            |1feee853-39cf-437e-b705-96a2602b9f25-0_1-6-51_20220201193557.parquet    |105|2015-01-02   |2015-01-01T13:51:42.248818Z|\n",
      "|20220201193557     |20220201193557_0_2  |101               |2015-01-01            |141ef477-8767-4d67-afde-938ffa553306-0_0-4-50_20220201193557.parquet    |101|2015-01-01   |2015-01-01T12:14:58.597216Z|\n",
      "|20220201193557     |20220201193557_0_3  |102               |2015-01-01            |141ef477-8767-4d67-afde-938ffa553306-0_0-4-50_20220201193557.parquet    |102|2015-01-01   |2015-01-01T13:51:40.417052Z|\n",
      "|20220201193557     |20220201193557_0_4  |103               |2015-01-01            |141ef477-8767-4d67-afde-938ffa553306-0_0-4-50_20220201193557.parquet    |103|2015-01-01   |2015-01-01T13:51:40.519832Z|\n",
      "+-------------------+--------------------+------------------+----------------------+------------------------------------------------------------------------+---+-------------+---------------------------+"
     ]
    }
   ],
   "source": [
    "rawDF = spark.read.parquet(f\"s3://{S3_BUCKET_NAME}/tmp/hudi/*/*.parquet\")\n",
    "rawDF.show(rawDF.count(), truncate=False)"
   ]
  },
  {
   "cell_type": "markdown",
   "id": "80755247-416e-41ee-b9cd-7bf73dbbbd0c",
   "metadata": {},
   "source": [
    "Note that only 1 file is showing up for the `2022-01-11` partition, because we deleted the only record in there and there are no records in the most recently committed Parquet file.\n",
    "\n",
    "## Overview Wrapup\n",
    "\n",
    "OK, so to wrap up we learned a few things:\n",
    "- Update or deleting data will rewrite Parquet files that contain the affected rows being updated\n",
    "- Hudi figures out which set of data to show based on a combination of commit files and IDs in the filename\n",
    "- This *all* happens inside Spark/Hudi itself - there is no external database that tracks this (although you _can_ [sync to an external metastore](https://hudi.apache.org/docs/syncing_metastore))\n",
    "\n",
    "One of the useful things about this approach is that it can support time travel. 😳 \n",
    "\n",
    "You can perform something called an \"incremental query\" to see records that have changed since a given commit timestamp. In this case, let's take the most recent `_hoodie_commit_time` and see what the dataset looks at that point. Let's fetch the last commit time, do an update, and then pull records since that time.\n",
    "\n",
    "_We'll fetch this programatically using a native Spark query as it will be different depending on when you run the notebook._"
   ]
  },
  {
   "cell_type": "code",
   "execution_count": 18,
   "id": "979c11fc-f5a2-4b39-9615-9426424a5750",
   "metadata": {
    "execution": {
     "iopub.execute_input": "2022-02-01T19:36:53.728351Z",
     "iopub.status.busy": "2022-02-01T19:36:53.728154Z",
     "iopub.status.idle": "2022-02-01T19:36:58.995963Z",
     "shell.execute_reply": "2022-02-01T19:36:58.995531Z",
     "shell.execute_reply.started": "2022-02-01T19:36:53.728332Z"
    },
    "tags": []
   },
   "outputs": [
    {
     "data": {
      "application/vnd.jupyter.widget-view+json": {
       "model_id": "818d1d8febe041dc972bbd3fe261d1c0",
       "version_major": 2,
       "version_minor": 0
      },
      "text/plain": [
       "VBox()"
      ]
     },
     "metadata": {},
     "output_type": "display_data"
    },
    {
     "data": {
      "application/vnd.jupyter.widget-view+json": {
       "model_id": "",
       "version_major": 2,
       "version_minor": 0
      },
      "text/plain": [
       "FloatProgress(value=0.0, bar_style='info', description='Progress:', layout=Layout(height='25px', width='50%'),…"
      ]
     },
     "metadata": {},
     "output_type": "display_data"
    },
    {
     "name": "stdout",
     "output_type": "stream",
     "text": [
      "+-------------------+--------------------+------------------+----------------------+--------------------+---+-------------+--------------------+\n",
      "|_hoodie_commit_time|_hoodie_commit_seqno|_hoodie_record_key|_hoodie_partition_path|   _hoodie_file_name| id|creation_date|    last_update_time|\n",
      "+-------------------+--------------------+------------------+----------------------+--------------------+---+-------------+--------------------+\n",
      "|     20220201193653|  20220201193653_0_8|               106|            2022-01-11|6c5d7a65-f1fb-475...|106|   2022-01-11|2022-01-11T13:51:...|\n",
      "+-------------------+--------------------+------------------+----------------------+--------------------+---+-------------+--------------------+"
     ]
    }
   ],
   "source": [
    "last_commit_time = rawDF.sort(rawDF._hoodie_commit_time.desc()).select(\"_hoodie_commit_time\").limit(1).collect()[0]._hoodie_commit_time\n",
    "\n",
    "# Create a DataFrame\n",
    "newRecordsDF = spark.createDataFrame(\n",
    "    [\n",
    "        (\"106\", \"2022-01-11\", \"2022-01-11T13:51:39.340396Z\"),\n",
    "    ],\n",
    "    [\"id\", \"creation_date\", \"last_update_time\"],\n",
    ")\n",
    "\n",
    "# Write a DataFrame as a Hudi dataset\n",
    "newRecordsDF.write.format(\"org.apache.hudi\").option(\n",
    "    \"hoodie.datasource.write.operation\", \"insert\"\n",
    ").options(**hudiOptions).mode(\"append\").save(f\"s3://{S3_BUCKET_NAME}/tmp/hudi/\")\n",
    "\n",
    "\n",
    "# Read new data since the last commit\n",
    "readOptions = {\n",
    "  'hoodie.datasource.query.type': 'incremental',\n",
    "  'hoodie.datasource.read.begin.instanttime': last_commit_time,\n",
    "}\n",
    "\n",
    "incQueryDF = spark.read \\\n",
    "    .format('org.apache.hudi') \\\n",
    "    .options(**readOptions) \\\n",
    "    .load(f\"s3://{S3_BUCKET_NAME}/tmp/hudi\")\n",
    "    \n",
    "incQueryDF.show()"
   ]
  },
  {
   "cell_type": "code",
   "execution_count": 19,
   "id": "844bcf4d-df2f-4be1-8330-c8b559c0970d",
   "metadata": {
    "execution": {
     "iopub.execute_input": "2022-02-01T19:36:58.996805Z",
     "iopub.status.busy": "2022-02-01T19:36:58.996663Z",
     "iopub.status.idle": "2022-02-01T19:36:59.744232Z",
     "shell.execute_reply": "2022-02-01T19:36:59.743777Z",
     "shell.execute_reply.started": "2022-02-01T19:36:58.996787Z"
    },
    "tags": []
   },
   "outputs": [
    {
     "data": {
      "application/vnd.jupyter.widget-view+json": {
       "model_id": "e88586b3399a4f3c8d842dc3559e148a",
       "version_major": 2,
       "version_minor": 0
      },
      "text/plain": [
       "VBox()"
      ]
     },
     "metadata": {},
     "output_type": "display_data"
    },
    {
     "data": {
      "application/vnd.jupyter.widget-view+json": {
       "model_id": "",
       "version_major": 2,
       "version_minor": 0
      },
      "text/plain": [
       "FloatProgress(value=0.0, bar_style='info', description='Progress:', layout=Layout(height='25px', width='50%'),…"
      ]
     },
     "metadata": {},
     "output_type": "display_data"
    },
    {
     "name": "stdout",
     "output_type": "stream",
     "text": [
      "+-------------------+--------------------+------------------+----------------------+--------------------+---+-------------+--------------------+\n",
      "|_hoodie_commit_time|_hoodie_commit_seqno|_hoodie_record_key|_hoodie_partition_path|   _hoodie_file_name| id|creation_date|    last_update_time|\n",
      "+-------------------+--------------------+------------------+----------------------+--------------------+---+-------------+--------------------+\n",
      "|     20220201193615|  20220201193615_1_7|               100|            2022-01-11|6c5d7a65-f1fb-475...|100|   2022-01-11|2015-01-01T13:51:...|\n",
      "|     20220201193557|  20220201193557_1_5|               104|            2015-01-02|1feee853-39cf-437...|104|   2015-01-02|2015-01-01T12:15:...|\n",
      "|     20220201193557|  20220201193557_1_6|               105|            2015-01-02|1feee853-39cf-437...|105|   2015-01-02|2015-01-01T13:51:...|\n",
      "|     20220201193557|  20220201193557_0_2|               101|            2015-01-01|141ef477-8767-4d6...|101|   2015-01-01|2015-01-01T12:14:...|\n",
      "|     20220201193557|  20220201193557_0_3|               102|            2015-01-01|141ef477-8767-4d6...|102|   2015-01-01|2015-01-01T13:51:...|\n",
      "|     20220201193557|  20220201193557_0_4|               103|            2015-01-01|141ef477-8767-4d6...|103|   2015-01-01|2015-01-01T13:51:...|\n",
      "+-------------------+--------------------+------------------+----------------------+--------------------+---+-------------+--------------------+"
     ]
    }
   ],
   "source": [
    "# Or data _before_ the commmit\n",
    "readOptions = {\n",
    "  'hoodie.datasource.query.type': 'incremental',\n",
    "  'hoodie.datasource.read.begin.instanttime': '0',\n",
    "  'hoodie.datasource.read.end.instanttime': last_commit_time,\n",
    "}\n",
    "\n",
    "incQueryDF = spark.read \\\n",
    "    .format('org.apache.hudi') \\\n",
    "    .options(**readOptions) \\\n",
    "    .load(f\"s3://{S3_BUCKET_NAME}/tmp/hudi\")\n",
    "    \n",
    "incQueryDF.show()"
   ]
  },
  {
   "cell_type": "code",
   "execution_count": 20,
   "id": "13a98383-44f7-4958-a74f-b2ce81f321f5",
   "metadata": {
    "execution": {
     "iopub.execute_input": "2022-02-01T19:36:59.745096Z",
     "iopub.status.busy": "2022-02-01T19:36:59.744951Z",
     "iopub.status.idle": "2022-02-01T19:37:00.492454Z",
     "shell.execute_reply": "2022-02-01T19:37:00.492009Z",
     "shell.execute_reply.started": "2022-02-01T19:36:59.745078Z"
    },
    "tags": []
   },
   "outputs": [
    {
     "data": {
      "application/vnd.jupyter.widget-view+json": {
       "model_id": "915624e0bc1640ad8d2b81fec5459a9f",
       "version_major": 2,
       "version_minor": 0
      },
      "text/plain": [
       "VBox()"
      ]
     },
     "metadata": {},
     "output_type": "display_data"
    },
    {
     "data": {
      "application/vnd.jupyter.widget-view+json": {
       "model_id": "",
       "version_major": 2,
       "version_minor": 0
      },
      "text/plain": [
       "FloatProgress(value=0.0, bar_style='info', description='Progress:', layout=Layout(height='25px', width='50%'),…"
      ]
     },
     "metadata": {},
     "output_type": "display_data"
    },
    {
     "name": "stdout",
     "output_type": "stream",
     "text": [
      "+-------------------+--------------------+------------------+----------------------+--------------------+---+-------------+--------------------+\n",
      "|_hoodie_commit_time|_hoodie_commit_seqno|_hoodie_record_key|_hoodie_partition_path|   _hoodie_file_name| id|creation_date|    last_update_time|\n",
      "+-------------------+--------------------+------------------+----------------------+--------------------+---+-------------+--------------------+\n",
      "|     20220201193557|  20220201193557_0_1|               100|            2015-01-01|141ef477-8767-4d6...|100|   2015-01-01|2015-01-01T13:51:...|\n",
      "|     20220201193557|  20220201193557_0_2|               101|            2015-01-01|141ef477-8767-4d6...|101|   2015-01-01|2015-01-01T12:14:...|\n",
      "|     20220201193557|  20220201193557_0_3|               102|            2015-01-01|141ef477-8767-4d6...|102|   2015-01-01|2015-01-01T13:51:...|\n",
      "|     20220201193557|  20220201193557_0_4|               103|            2015-01-01|141ef477-8767-4d6...|103|   2015-01-01|2015-01-01T13:51:...|\n",
      "|     20220201193557|  20220201193557_1_5|               104|            2015-01-02|1feee853-39cf-437...|104|   2015-01-02|2015-01-01T12:15:...|\n",
      "|     20220201193557|  20220201193557_1_6|               105|            2015-01-02|1feee853-39cf-437...|105|   2015-01-02|2015-01-01T13:51:...|\n",
      "+-------------------+--------------------+------------------+----------------------+--------------------+---+-------------+--------------------+"
     ]
    }
   ],
   "source": [
    "first_commit_time = rawDF.sort(rawDF._hoodie_commit_time.asc()).select(\"_hoodie_commit_time\").limit(1).collect()[0]._hoodie_commit_time\n",
    "\n",
    "# And finally data from the first version of the table\n",
    "readOptions = {\n",
    "  'hoodie.datasource.query.type': 'incremental',\n",
    "  'hoodie.datasource.read.begin.instanttime': '0',\n",
    "  'hoodie.datasource.read.end.instanttime': first_commit_time,\n",
    "}\n",
    "\n",
    "incQueryDF = spark.read \\\n",
    "    .format('org.apache.hudi') \\\n",
    "    .options(**readOptions) \\\n",
    "    .load(f\"s3://{S3_BUCKET_NAME}/tmp/hudi\")\n",
    "    \n",
    "incQueryDF.show()"
   ]
  },
  {
   "cell_type": "markdown",
   "id": "4fd69683-dc4e-4839-a2e9-a90a06f350fe",
   "metadata": {},
   "source": [
    "## Optimization: Copy on Write vs. Merge on Read\n",
    "\n",
    "One of the interesting things about Hudi is that it has two different storage types - Copy on Write (COW) and Merge on Read (MOR) - that you can choose from depending on your workload. You can find more about the [difference between COW and MOR in the Hudi docs](https://hudi.apache.org/learn/faq#what-is-the-difference-between-copy-on-write-cow-vs-merge-on-read-mor-storage-types). \n",
    "\n",
    "In short, COW is great if you don't need real-time data and only have sparse updates. MOR is great if you want to be able to write **AND** query your data as fast as possible.\n",
    "\n",
    "Let's see what impact changing the storage type has. Copy on Write is the default and what was used above. You can change the storage type by setting the `hoodie.datasource.write.storage.type` option. We'll take our same `inputDF` dataframe and write it with this added option."
   ]
  },
  {
   "cell_type": "code",
   "execution_count": 21,
   "id": "f33e53c7-0ad2-4394-8574-98c83859aaa3",
   "metadata": {
    "execution": {
     "iopub.execute_input": "2022-02-01T19:37:00.493350Z",
     "iopub.status.busy": "2022-02-01T19:37:00.493194Z",
     "iopub.status.idle": "2022-02-01T19:37:07.780548Z",
     "shell.execute_reply": "2022-02-01T19:37:07.779956Z",
     "shell.execute_reply.started": "2022-02-01T19:37:00.493332Z"
    },
    "tags": []
   },
   "outputs": [
    {
     "data": {
      "application/vnd.jupyter.widget-view+json": {
       "model_id": "f92547dc2e6148c39ab077bf9a7433a9",
       "version_major": 2,
       "version_minor": 0
      },
      "text/plain": [
       "VBox()"
      ]
     },
     "metadata": {},
     "output_type": "display_data"
    },
    {
     "data": {
      "application/vnd.jupyter.widget-view+json": {
       "model_id": "",
       "version_major": 2,
       "version_minor": 0
      },
      "text/plain": [
       "FloatProgress(value=0.0, bar_style='info', description='Progress:', layout=Layout(height='25px', width='50%'),…"
      ]
     },
     "metadata": {},
     "output_type": "display_data"
    }
   ],
   "source": [
    "hudiOptions['hoodie.datasource.write.storage.type'] = 'MERGE_ON_READ'\n",
    "\n",
    "inputDF.write.format(\"org.apache.hudi\").option(\n",
    "    \"hoodie.datasource.write.operation\", \"insert\"\n",
    ").options(**hudiOptions).mode(\"overwrite\").save(f\"s3://{S3_BUCKET_NAME}/tmp/hudi_mor/\")"
   ]
  },
  {
   "cell_type": "code",
   "execution_count": 22,
   "id": "8321a44c-c2eb-45e9-ba54-8de07b33eb5b",
   "metadata": {
    "execution": {
     "iopub.execute_input": "2022-02-01T19:37:07.781451Z",
     "iopub.status.busy": "2022-02-01T19:37:07.781306Z",
     "iopub.status.idle": "2022-02-01T19:37:08.220938Z",
     "shell.execute_reply": "2022-02-01T19:37:08.220409Z",
     "shell.execute_reply.started": "2022-02-01T19:37:07.781432Z"
    },
    "tags": []
   },
   "outputs": [
    {
     "name": "stdout",
     "output_type": "stream",
     "text": [
      "2022-02-01 19:37:03          0 tmp/hudi_mor/.hoodie/.aux/.bootstrap/.fileids_$folder$\n",
      "2022-02-01 19:37:02          0 tmp/hudi_mor/.hoodie/.aux/.bootstrap/.partitions_$folder$\n",
      "2022-02-01 19:37:02          0 tmp/hudi_mor/.hoodie/.aux/.bootstrap_$folder$\n",
      "2022-02-01 19:37:02          0 tmp/hudi_mor/.hoodie/.aux_$folder$\n",
      "2022-02-01 19:37:02          0 tmp/hudi_mor/.hoodie/.temp_$folder$\n",
      "2022-02-01 19:37:06       2726 tmp/hudi_mor/.hoodie/20220201193700.deltacommit\n",
      "2022-02-01 19:37:03       1842 tmp/hudi_mor/.hoodie/20220201193700.deltacommit.inflight\n",
      "2022-02-01 19:37:03          0 tmp/hudi_mor/.hoodie/20220201193700.deltacommit.requested\n",
      "2022-02-01 19:37:02          0 tmp/hudi_mor/.hoodie/archived_$folder$\n",
      "2022-02-01 19:37:03        595 tmp/hudi_mor/.hoodie/hoodie.properties\n",
      "2022-02-01 19:37:02          0 tmp/hudi_mor/.hoodie_$folder$\n",
      "2022-02-01 19:37:04         93 tmp/hudi_mor/2015-01-01/.hoodie_partition_metadata\n",
      "2022-02-01 19:37:04     435021 tmp/hudi_mor/2015-01-01/ae2faccc-5620-49b0-a11b-f3d0face20c4-0_0-121-27300_20220201193700.parquet\n",
      "2022-02-01 19:37:04          0 tmp/hudi_mor/2015-01-01_$folder$\n",
      "2022-02-01 19:37:05         93 tmp/hudi_mor/2015-01-02/.hoodie_partition_metadata\n",
      "2022-02-01 19:37:05     434987 tmp/hudi_mor/2015-01-02/e7d2a642-c501-4134-8a92-564e3883ea99-0_1-123-27301_20220201193700.parquet\n",
      "2022-02-01 19:37:05          0 tmp/hudi_mor/2015-01-02_$folder$\n"
     ]
    }
   ],
   "source": [
    "%%sh\n",
    "\n",
    "aws s3 ls s3://${S3_BUCKET_NAME}/tmp/hudi_mor/ --recursive | tee /tmp/hudi_op_mor_001"
   ]
  },
  {
   "cell_type": "markdown",
   "id": "d902402a-71bd-4398-b808-f1a2cb455aa1",
   "metadata": {},
   "source": [
    "So far, everything looks similar...let's go ahead and upsert some new data."
   ]
  },
  {
   "cell_type": "code",
   "execution_count": 23,
   "id": "b292d1fc-a123-4457-8761-2e6e5ad006a9",
   "metadata": {
    "execution": {
     "iopub.execute_input": "2022-02-01T19:37:08.222013Z",
     "iopub.status.busy": "2022-02-01T19:37:08.221862Z",
     "iopub.status.idle": "2022-02-01T19:37:21.518701Z",
     "shell.execute_reply": "2022-02-01T19:37:21.518226Z",
     "shell.execute_reply.started": "2022-02-01T19:37:08.221992Z"
    },
    "tags": []
   },
   "outputs": [
    {
     "data": {
      "application/vnd.jupyter.widget-view+json": {
       "model_id": "54028c66f8874638bc1c81c83802908f",
       "version_major": 2,
       "version_minor": 0
      },
      "text/plain": [
       "VBox()"
      ]
     },
     "metadata": {},
     "output_type": "display_data"
    },
    {
     "data": {
      "application/vnd.jupyter.widget-view+json": {
       "model_id": "",
       "version_major": 2,
       "version_minor": 0
      },
      "text/plain": [
       "FloatProgress(value=0.0, bar_style='info', description='Progress:', layout=Layout(height='25px', width='50%'),…"
      ]
     },
     "metadata": {},
     "output_type": "display_data"
    }
   ],
   "source": [
    "updateDF.write.format(\"org.apache.hudi\").option(\n",
    "    \"hoodie.datasource.write.operation\", \"upsert\"\n",
    ").options(**hudiOptions).mode(\"append\").save(f\"s3://{S3_BUCKET_NAME}/tmp/hudi_mor/\")"
   ]
  },
  {
   "cell_type": "code",
   "execution_count": 24,
   "id": "cba805b7-30fb-4508-b957-5bc81dabafb8",
   "metadata": {
    "execution": {
     "iopub.execute_input": "2022-02-01T19:37:21.519546Z",
     "iopub.status.busy": "2022-02-01T19:37:21.519402Z",
     "iopub.status.idle": "2022-02-01T19:37:21.953496Z",
     "shell.execute_reply": "2022-02-01T19:37:21.952980Z",
     "shell.execute_reply.started": "2022-02-01T19:37:21.519528Z"
    },
    "tags": []
   },
   "outputs": [
    {
     "name": "stdout",
     "output_type": "stream",
     "text": [
      "--- /tmp/hudi_op_mor_001\t2022-02-01 19:37:08.179017504 +0000\n",
      "+++ /tmp/hudi_op_mor_002\t2022-02-01 19:37:21.915001376 +0000\n",
      "@@ -6,12 +6,19 @@\n",
      " 2022-02-01 19:37:06       2726 tmp/hudi_mor/.hoodie/20220201193700.deltacommit\n",
      " 2022-02-01 19:37:03       1842 tmp/hudi_mor/.hoodie/20220201193700.deltacommit.inflight\n",
      " 2022-02-01 19:37:03          0 tmp/hudi_mor/.hoodie/20220201193700.deltacommit.requested\n",
      "+2022-02-01 19:37:21       2943 tmp/hudi_mor/.hoodie/20220201193708.deltacommit\n",
      "+2022-02-01 19:37:13       2560 tmp/hudi_mor/.hoodie/20220201193708.deltacommit.inflight\n",
      "+2022-02-01 19:37:09          0 tmp/hudi_mor/.hoodie/20220201193708.deltacommit.requested\n",
      " 2022-02-01 19:37:02          0 tmp/hudi_mor/.hoodie/archived_$folder$\n",
      " 2022-02-01 19:37:03        595 tmp/hudi_mor/.hoodie/hoodie.properties\n",
      " 2022-02-01 19:37:02          0 tmp/hudi_mor/.hoodie_$folder$\n",
      "+2022-02-01 19:37:20        842 tmp/hudi_mor/2015-01-01/.ae2faccc-5620-49b0-a11b-f3d0face20c4-0_20220201193700.log.1_0-150-40834\n",
      " 2022-02-01 19:37:04         93 tmp/hudi_mor/2015-01-01/.hoodie_partition_metadata\n",
      " 2022-02-01 19:37:04     435021 tmp/hudi_mor/2015-01-01/ae2faccc-5620-49b0-a11b-f3d0face20c4-0_0-121-27300_20220201193700.parquet\n",
      " 2022-02-01 19:37:04          0 tmp/hudi_mor/2015-01-01_$folder$\n",
      " 2022-02-01 19:37:05         93 tmp/hudi_mor/2015-01-02/.hoodie_partition_metadata\n",
      " 2022-02-01 19:37:05     434987 tmp/hudi_mor/2015-01-02/e7d2a642-c501-4134-8a92-564e3883ea99-0_1-123-27301_20220201193700.parquet\n",
      " 2022-02-01 19:37:05          0 tmp/hudi_mor/2015-01-02_$folder$\n",
      "+2022-02-01 19:37:20         93 tmp/hudi_mor/2022-01-11/.hoodie_partition_metadata\n",
      "+2022-02-01 19:37:20     434995 tmp/hudi_mor/2022-01-11/12877654-094f-4879-b49b-5711eb206967-0_1-156-40835_20220201193708.parquet\n",
      "+2022-02-01 19:37:13          0 tmp/hudi_mor/2022-01-11_$folder$\n"
     ]
    }
   ],
   "source": [
    "%%sh\n",
    "\n",
    "aws s3 ls s3://${S3_BUCKET_NAME}/tmp/hudi_mor/ --recursive > /tmp/hudi_op_mor_002\n",
    "diff -u /tmp/hudi_op_mor_001 /tmp/hudi_op_mor_002 || true"
   ]
  },
  {
   "cell_type": "markdown",
   "id": "6bd1289f-282f-47ec-985d-e8dbca3b16f5",
   "metadata": {},
   "source": [
    "Here we start to see some of the differences of COW and MOR - with MOR, we simply see a new Parquet file added in the new `2022-01-11` partition as well as the addition of a `.log` file. What's in there?"
   ]
  },
  {
   "cell_type": "code",
   "execution_count": 25,
   "id": "853376c6-1b3d-4895-a581-347cc81a2a02",
   "metadata": {
    "execution": {
     "iopub.execute_input": "2022-02-01T19:37:21.955617Z",
     "iopub.status.busy": "2022-02-01T19:37:21.955462Z",
     "iopub.status.idle": "2022-02-01T19:37:22.452308Z",
     "shell.execute_reply": "2022-02-01T19:37:22.451759Z",
     "shell.execute_reply.started": "2022-02-01T19:37:21.955595Z"
    },
    "tags": []
   },
   "outputs": [
    {
     "name": "stdout",
     "output_type": "stream",
     "text": [
      "#HUDI#\u0000\u0000\u0000\u0000\u0000\u0000\u0003<\u0000\u0000\u0000\u0001\u0000\u0000\u0000\u0001\u0000\u0000\u0000\u0002\u0000\u0000\u0000\u0002\u0000\u0000\u0002�{\"type\":\"record\",\"name\":\"my_hudi_table_record\",\"namespace\":\"hoodie.my_hudi_table\",\"fields\":[{\"name\":\"_hoodie_commit_time\",\"type\":[\"null\",\"string\"],\"doc\":\"\",\"default\":null},{\"name\":\"_hoodie_commit_seqno\",\"type\":[\"null\",\"string\"],\"doc\":\"\",\"default\":null},{\"name\":\"_hoodie_record_key\",\"type\":[\"null\",\"string\"],\"doc\":\"\",\"default\":null},{\"name\":\"_hoodie_partition_path\",\"type\":[\"null\",\"string\"],\"doc\":\"\",\"default\":null},{\"name\":\"_hoodie_file_name\",\"type\":[\"null\",\"string\"],\"doc\":\"\",\"default\":null},{\"name\":\"id\",\"type\":[\"null\",\"string\"],\"default\":null},{\"name\":\"creation_date\",\"type\":\"string\"},{\"name\":\"last_update_time\",\"type\":[\"null\",\"string\"],\"default\":null}]}\u0000\u0000\u0000\u0000\u0000\u0000\u0000\u000e20220201193708\u0000\u0000\u0000\u0000\u0000\u0000\u0000m\u0000\u0000\u0000\u0001\u0000\u0000\u0000e\u0001\u0000[Lorg.apache.hudi.common.model.HoodieKey�\u0001\u0002\u0001\u0001org.apache.hudi.common.model.HoodieKe�\u0001\u00012015-01-0�\u000110�\u0000\u0000\u0000\u0000\u0000\u0000\u0000\u0000\u0000\u0000\u0003B"
     ]
    }
   ],
   "source": [
    "%%sh\n",
    "\n",
    "LOG_FILE_KEY=$(cat /tmp/hudi_op_mor_002 | tr -s \" \" | cut -f4 -d\\ | grep '.log.')\n",
    "\n",
    "aws s3 cp s3://${S3_BUCKET_NAME}/${LOG_FILE_KEY} -"
   ]
  },
  {
   "cell_type": "markdown",
   "id": "69864e64-3380-4d4f-84fc-115f1ca60548",
   "metadata": {},
   "source": [
    "We can see that this is a binary file that contains some information about the update. Let's read the Parquet files to see what's in them."
   ]
  },
  {
   "cell_type": "code",
   "execution_count": 26,
   "id": "faa7f66c-ef02-410b-8746-db666081ec10",
   "metadata": {
    "execution": {
     "iopub.execute_input": "2022-02-01T19:37:22.453488Z",
     "iopub.status.busy": "2022-02-01T19:37:22.453331Z",
     "iopub.status.idle": "2022-02-01T19:37:23.206384Z",
     "shell.execute_reply": "2022-02-01T19:37:23.205925Z",
     "shell.execute_reply.started": "2022-02-01T19:37:22.453467Z"
    },
    "tags": []
   },
   "outputs": [
    {
     "data": {
      "application/vnd.jupyter.widget-view+json": {
       "model_id": "09e7afac1f6b421d947ac6637f658409",
       "version_major": 2,
       "version_minor": 0
      },
      "text/plain": [
       "VBox()"
      ]
     },
     "metadata": {},
     "output_type": "display_data"
    },
    {
     "data": {
      "application/vnd.jupyter.widget-view+json": {
       "model_id": "",
       "version_major": 2,
       "version_minor": 0
      },
      "text/plain": [
       "FloatProgress(value=0.0, bar_style='info', description='Progress:', layout=Layout(height='25px', width='50%'),…"
      ]
     },
     "metadata": {},
     "output_type": "display_data"
    },
    {
     "name": "stdout",
     "output_type": "stream",
     "text": [
      "+-------------------+--------------------+------------------+----------------------+-------------------------------------------------------------------------+---+-------------+---------------------------+\n",
      "|_hoodie_commit_time|_hoodie_commit_seqno|_hoodie_record_key|_hoodie_partition_path|_hoodie_file_name                                                        |id |creation_date|last_update_time           |\n",
      "+-------------------+--------------------+------------------+----------------------+-------------------------------------------------------------------------+---+-------------+---------------------------+\n",
      "|20220201193700     |20220201193700_0_9  |100               |2015-01-01            |ae2faccc-5620-49b0-a11b-f3d0face20c4-0_0-121-27300_20220201193700.parquet|100|2015-01-01   |2015-01-01T13:51:39.340396Z|\n",
      "|20220201193700     |20220201193700_0_10 |101               |2015-01-01            |ae2faccc-5620-49b0-a11b-f3d0face20c4-0_0-121-27300_20220201193700.parquet|101|2015-01-01   |2015-01-01T12:14:58.597216Z|\n",
      "|20220201193700     |20220201193700_0_11 |102               |2015-01-01            |ae2faccc-5620-49b0-a11b-f3d0face20c4-0_0-121-27300_20220201193700.parquet|102|2015-01-01   |2015-01-01T13:51:40.417052Z|\n",
      "|20220201193700     |20220201193700_0_12 |103               |2015-01-01            |ae2faccc-5620-49b0-a11b-f3d0face20c4-0_0-121-27300_20220201193700.parquet|103|2015-01-01   |2015-01-01T13:51:40.519832Z|\n",
      "|20220201193708     |20220201193708_1_15 |100               |2022-01-11            |12877654-094f-4879-b49b-5711eb206967-0_1-156-40835_20220201193708.parquet|100|2022-01-11   |2015-01-01T13:51:39.340396Z|\n",
      "|20220201193700     |20220201193700_1_13 |104               |2015-01-02            |e7d2a642-c501-4134-8a92-564e3883ea99-0_1-123-27301_20220201193700.parquet|104|2015-01-02   |2015-01-01T12:15:00.512679Z|\n",
      "|20220201193700     |20220201193700_1_14 |105               |2015-01-02            |e7d2a642-c501-4134-8a92-564e3883ea99-0_1-123-27301_20220201193700.parquet|105|2015-01-02   |2015-01-01T13:51:42.248818Z|\n",
      "+-------------------+--------------------+------------------+----------------------+-------------------------------------------------------------------------+---+-------------+---------------------------+"
     ]
    }
   ],
   "source": [
    "rawDF = spark.read.parquet(f\"s3://{S3_BUCKET_NAME}/tmp/hudi_mor/*/*.parquet\")\n",
    "rawDF.show(rawDF.count(), truncate=False)"
   ]
  },
  {
   "cell_type": "markdown",
   "id": "837687c6-f69c-46b8-a3c7-e5426d1ffdac",
   "metadata": {},
   "source": [
    "We can see here that **ONLY** the new data was added to the set of Parquet files. As opposed to the Copy on Write where new Parquet files were written in any partition where data was changed."
   ]
  }
 ],
 "metadata": {
  "kernelspec": {
   "display_name": "PySpark",
   "language": "",
   "name": "pysparkkernel"
  },
  "language_info": {
   "codemirror_mode": {
    "name": "python",
    "version": 3
   },
   "mimetype": "text/x-python",
   "name": "pyspark",
   "pygments_lexer": "python3"
  },
  "toc-autonumbering": true,
  "toc-showmarkdowntxt": false,
  "toc-showtags": false
 },
 "nbformat": 4,
 "nbformat_minor": 5
}
